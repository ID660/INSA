{
 "cells": [
  {
   "cell_type": "code",
   "execution_count": 6,
   "id": "b373a679",
   "metadata": {},
   "outputs": [
    {
     "name": "stdout",
     "output_type": "stream",
     "text": [
      "Collecting googlesearch-python\n",
      "  Downloading googlesearch_python-1.0.1-py3-none-any.whl (3.4 kB)\n",
      "Collecting beautifulsoup4==4.9.3\n",
      "  Downloading beautifulsoup4-4.9.3-py3-none-any.whl (115 kB)\n",
      "Collecting requests==2.25.1\n",
      "  Using cached requests-2.25.1-py2.py3-none-any.whl (61 kB)\n",
      "Collecting soupsieve>1.2\n",
      "  Downloading soupsieve-2.2.1-py3-none-any.whl (33 kB)\n",
      "Requirement already satisfied: certifi>=2017.4.17 in c:\\users\\insa\\anaconda3\\envs\\insa\\lib\\site-packages (from requests==2.25.1->googlesearch-python) (2021.5.30)\n",
      "Collecting chardet<5,>=3.0.2\n",
      "  Using cached chardet-4.0.0-py2.py3-none-any.whl (178 kB)\n",
      "Collecting idna<3,>=2.5\n",
      "  Using cached idna-2.10-py2.py3-none-any.whl (58 kB)\n",
      "Requirement already satisfied: urllib3<1.27,>=1.21.1 in c:\\users\\insa\\anaconda3\\envs\\insa\\lib\\site-packages (from requests==2.25.1->googlesearch-python) (1.26.6)\n",
      "Installing collected packages: soupsieve, idna, chardet, requests, beautifulsoup4, googlesearch-python\n",
      "  Attempting uninstall: idna\n",
      "    Found existing installation: idna 3.2\n",
      "    Uninstalling idna-3.2:\n",
      "      Successfully uninstalled idna-3.2\n",
      "  Attempting uninstall: requests\n",
      "    Found existing installation: requests 2.26.0\n",
      "    Uninstalling requests-2.26.0:\n",
      "      Successfully uninstalled requests-2.26.0\n",
      "Successfully installed beautifulsoup4-4.9.3 chardet-4.0.0 googlesearch-python-1.0.1 idna-2.10 requests-2.25.1 soupsieve-2.2.1\n"
     ]
    }
   ],
   "source": [
    "! pip install googlesearch-python"
   ]
  },
  {
   "cell_type": "code",
   "execution_count": 7,
   "id": "87a6f4e4",
   "metadata": {},
   "outputs": [
    {
     "name": "stdout",
     "output_type": "stream",
     "text": [
      "Collecting newspaper3k\n",
      "  Downloading newspaper3k-0.2.8-py3-none-any.whl (211 kB)\n",
      "Collecting tinysegmenter==0.3\n",
      "  Downloading tinysegmenter-0.3.tar.gz (16 kB)\n",
      "Collecting lxml>=3.6.0\n",
      "  Downloading lxml-4.6.3-cp38-cp38-win_amd64.whl (3.5 MB)\n",
      "Requirement already satisfied: requests>=2.10.0 in c:\\users\\insa\\anaconda3\\envs\\insa\\lib\\site-packages (from newspaper3k) (2.25.1)\n",
      "Collecting nltk>=3.2.1\n",
      "  Downloading nltk-3.6.2-py3-none-any.whl (1.5 MB)\n",
      "Collecting tldextract>=2.0.1\n",
      "  Downloading tldextract-3.1.0-py2.py3-none-any.whl (87 kB)\n",
      "Requirement already satisfied: beautifulsoup4>=4.4.1 in c:\\users\\insa\\anaconda3\\envs\\insa\\lib\\site-packages (from newspaper3k) (4.9.3)\n",
      "Collecting cssselect>=0.9.2\n",
      "  Downloading cssselect-1.1.0-py2.py3-none-any.whl (16 kB)\n",
      "Collecting feedparser>=5.2.1\n",
      "  Downloading feedparser-6.0.8-py3-none-any.whl (81 kB)\n",
      "Requirement already satisfied: PyYAML>=3.11 in c:\\users\\insa\\anaconda3\\envs\\insa\\lib\\site-packages (from newspaper3k) (5.4.1)\n",
      "Requirement already satisfied: Pillow>=3.3.0 in c:\\users\\insa\\anaconda3\\envs\\insa\\lib\\site-packages (from newspaper3k) (8.3.1)\n",
      "Collecting jieba3k>=0.35.1\n",
      "  Downloading jieba3k-0.35.1.zip (7.4 MB)\n",
      "Collecting feedfinder2>=0.0.4\n",
      "  Downloading feedfinder2-0.0.4.tar.gz (3.3 kB)\n",
      "Requirement already satisfied: python-dateutil>=2.5.3 in c:\\users\\insa\\anaconda3\\envs\\insa\\lib\\site-packages (from newspaper3k) (2.8.2)\n",
      "Requirement already satisfied: soupsieve>1.2 in c:\\users\\insa\\anaconda3\\envs\\insa\\lib\\site-packages (from beautifulsoup4>=4.4.1->newspaper3k) (2.2.1)\n",
      "Requirement already satisfied: six in c:\\users\\insa\\anaconda3\\envs\\insa\\lib\\site-packages (from feedfinder2>=0.0.4->newspaper3k) (1.15.0)\n",
      "Collecting sgmllib3k\n",
      "  Downloading sgmllib3k-1.0.0.tar.gz (5.8 kB)\n",
      "Requirement already satisfied: click in c:\\users\\insa\\anaconda3\\envs\\insa\\lib\\site-packages (from nltk>=3.2.1->newspaper3k) (7.1.2)\n",
      "Collecting regex\n",
      "  Downloading regex-2021.8.27-cp38-cp38-win_amd64.whl (270 kB)\n",
      "Collecting joblib\n",
      "  Using cached joblib-1.0.1-py3-none-any.whl (303 kB)\n",
      "Requirement already satisfied: tqdm in c:\\users\\insa\\anaconda3\\envs\\insa\\lib\\site-packages (from nltk>=3.2.1->newspaper3k) (4.61.2)\n",
      "Requirement already satisfied: idna<3,>=2.5 in c:\\users\\insa\\anaconda3\\envs\\insa\\lib\\site-packages (from requests>=2.10.0->newspaper3k) (2.10)\n",
      "Requirement already satisfied: chardet<5,>=3.0.2 in c:\\users\\insa\\anaconda3\\envs\\insa\\lib\\site-packages (from requests>=2.10.0->newspaper3k) (4.0.0)\n",
      "Requirement already satisfied: urllib3<1.27,>=1.21.1 in c:\\users\\insa\\anaconda3\\envs\\insa\\lib\\site-packages (from requests>=2.10.0->newspaper3k) (1.26.6)\n",
      "Requirement already satisfied: certifi>=2017.4.17 in c:\\users\\insa\\anaconda3\\envs\\insa\\lib\\site-packages (from requests>=2.10.0->newspaper3k) (2021.5.30)\n",
      "Collecting requests-file>=1.4\n",
      "  Downloading requests_file-1.5.1-py2.py3-none-any.whl (3.7 kB)\n",
      "Collecting filelock>=3.0.8\n",
      "  Downloading filelock-3.0.12-py3-none-any.whl (7.6 kB)\n",
      "Requirement already satisfied: colorama in c:\\users\\insa\\anaconda3\\envs\\insa\\lib\\site-packages (from tqdm->nltk>=3.2.1->newspaper3k) (0.4.4)\n",
      "Building wheels for collected packages: tinysegmenter, feedfinder2, jieba3k, sgmllib3k\n",
      "  Building wheel for tinysegmenter (setup.py): started\n",
      "  Building wheel for tinysegmenter (setup.py): finished with status 'done'\n",
      "  Created wheel for tinysegmenter: filename=tinysegmenter-0.3-py3-none-any.whl size=13537 sha256=79a2d2a00add9953cb5ff9148e7b4693c086356ea9589e59d76deb749c793c63\n",
      "  Stored in directory: c:\\users\\insa\\appdata\\local\\pip\\cache\\wheels\\99\\74\\83\\8fac1c8d9c648cfabebbbffe97a889f6624817f3aa0bbe6c09\n",
      "  Building wheel for feedfinder2 (setup.py): started\n",
      "  Building wheel for feedfinder2 (setup.py): finished with status 'done'\n",
      "  Created wheel for feedfinder2: filename=feedfinder2-0.0.4-py3-none-any.whl size=3354 sha256=986506db584191b6984e59d7cd5e47ac259a31aa4287b1e024110f329b95b06d\n",
      "  Stored in directory: c:\\users\\insa\\appdata\\local\\pip\\cache\\wheels\\b6\\09\\68\\a9f15498ac02c23dde29f18745bc6a6f574ba4ab41861a3575\n",
      "  Building wheel for jieba3k (setup.py): started\n",
      "  Building wheel for jieba3k (setup.py): finished with status 'done'\n",
      "  Created wheel for jieba3k: filename=jieba3k-0.35.1-py3-none-any.whl size=7398406 sha256=27c0dc8711b8ffba136a029e13d313fca6bf96569c915cc44a5f3d98e8ccc4ff\n",
      "  Stored in directory: c:\\users\\insa\\appdata\\local\\pip\\cache\\wheels\\1f\\7e\\0c\\54f3b0f5164278677899f2db08f2b07943ce2d024a3c862afb\n",
      "  Building wheel for sgmllib3k (setup.py): started\n",
      "  Building wheel for sgmllib3k (setup.py): finished with status 'done'\n",
      "  Created wheel for sgmllib3k: filename=sgmllib3k-1.0.0-py3-none-any.whl size=6065 sha256=8d9e9ce7c7cc9605be2d2d06805c39d203b49de16e54f5042a0898ad8f3c61f4\n",
      "  Stored in directory: c:\\users\\insa\\appdata\\local\\pip\\cache\\wheels\\83\\63\\2f\\117884c3b19d46b64d3d61690333aa80c88dc14050e269c546\n",
      "Successfully built tinysegmenter feedfinder2 jieba3k sgmllib3k\n",
      "Installing collected packages: sgmllib3k, requests-file, regex, joblib, filelock, tldextract, tinysegmenter, nltk, lxml, jieba3k, feedparser, feedfinder2, cssselect, newspaper3k\n",
      "Successfully installed cssselect-1.1.0 feedfinder2-0.0.4 feedparser-6.0.8 filelock-3.0.12 jieba3k-0.35.1 joblib-1.0.1 lxml-4.6.3 newspaper3k-0.2.8 nltk-3.6.2 regex-2021.8.27 requests-file-1.5.1 sgmllib3k-1.0.0 tinysegmenter-0.3 tldextract-3.1.0\n"
     ]
    }
   ],
   "source": [
    "!pip install newspaper3k"
   ]
  },
  {
   "cell_type": "code",
   "execution_count": 8,
   "id": "1555a792",
   "metadata": {},
   "outputs": [
    {
     "name": "stdout",
     "output_type": "stream",
     "text": [
      "Requirement already satisfied: nltk in c:\\users\\insa\\anaconda3\\envs\\insa\\lib\\site-packages (3.6.2)\n",
      "Requirement already satisfied: tqdm in c:\\users\\insa\\anaconda3\\envs\\insa\\lib\\site-packages (from nltk) (4.61.2)\n",
      "Requirement already satisfied: joblib in c:\\users\\insa\\anaconda3\\envs\\insa\\lib\\site-packages (from nltk) (1.0.1)\n",
      "Requirement already satisfied: click in c:\\users\\insa\\anaconda3\\envs\\insa\\lib\\site-packages (from nltk) (7.1.2)\n",
      "Requirement already satisfied: regex in c:\\users\\insa\\anaconda3\\envs\\insa\\lib\\site-packages (from nltk) (2021.8.27)\n",
      "Requirement already satisfied: colorama in c:\\users\\insa\\anaconda3\\envs\\insa\\lib\\site-packages (from tqdm->nltk) (0.4.4)\n"
     ]
    }
   ],
   "source": [
    "! pip install nltk"
   ]
  },
  {
   "cell_type": "code",
   "execution_count": 10,
   "id": "cb83f366",
   "metadata": {},
   "outputs": [
    {
     "name": "stdout",
     "output_type": "stream",
     "text": [
      "Requirement already satisfied: urllib3 in c:\\users\\insa\\anaconda3\\envs\\insa\\lib\\site-packages (1.26.6)\n"
     ]
    }
   ],
   "source": [
    "! pip install urllib3"
   ]
  },
  {
   "cell_type": "code",
   "execution_count": 19,
   "id": "84faed3b",
   "metadata": {},
   "outputs": [
    {
     "name": "stdout",
     "output_type": "stream",
     "text": [
      "Collecting tld\n",
      "  Downloading tld-0.12.6-py38-none-any.whl (412 kB)\n",
      "Installing collected packages: tld\n",
      "Successfully installed tld-0.12.6\n"
     ]
    }
   ],
   "source": [
    "!pip install tld"
   ]
  },
  {
   "cell_type": "code",
   "execution_count": 25,
   "id": "d62011c1",
   "metadata": {},
   "outputs": [
    {
     "name": "stdout",
     "output_type": "stream",
     "text": [
      "Collecting stop\n",
      "  Downloading stop-0.0.12-py3-none-any.whl (30 kB)\n",
      "Installing collected packages: stop\n",
      "Successfully installed stop-0.0.12\n"
     ]
    }
   ],
   "source": [
    "! pip install stop"
   ]
  },
  {
   "cell_type": "code",
   "execution_count": 26,
   "id": "3394c0be",
   "metadata": {},
   "outputs": [
    {
     "name": "stdout",
     "output_type": "stream",
     "text": [
      "Collecting lang\n",
      "  Downloading lang-1.0.5.tar.gz (5.7 kB)\n",
      "  Downloading lang-1.0.4.tar.gz (5.7 kB)\n",
      "  Downloading lang-1.0.3.tar.gz (5.8 kB)\n"
     ]
    },
    {
     "name": "stderr",
     "output_type": "stream",
     "text": [
      "    ERROR: Command errored out with exit status 1:\n",
      "     command: 'C:\\Users\\INSA\\anaconda3\\envs\\INSA\\python.exe' -c 'import io, os, sys, setuptools, tokenize; sys.argv[0] = '\"'\"'C:\\\\Users\\\\INSA\\\\AppData\\\\Local\\\\Temp\\\\pip-install-xiz6inro\\\\lang_7b64f193f0854668b0b647f243302a60\\\\setup.py'\"'\"'; __file__='\"'\"'C:\\\\Users\\\\INSA\\\\AppData\\\\Local\\\\Temp\\\\pip-install-xiz6inro\\\\lang_7b64f193f0854668b0b647f243302a60\\\\setup.py'\"'\"';f = getattr(tokenize, '\"'\"'open'\"'\"', open)(__file__) if os.path.exists(__file__) else io.StringIO('\"'\"'from setuptools import setup; setup()'\"'\"');code = f.read().replace('\"'\"'\\r\\n'\"'\"', '\"'\"'\\n'\"'\"');f.close();exec(compile(code, __file__, '\"'\"'exec'\"'\"'))' egg_info --egg-base 'C:\\Users\\INSA\\AppData\\Local\\Temp\\pip-pip-egg-info-ke0eo10v'\n",
      "         cwd: C:\\Users\\INSA\\AppData\\Local\\Temp\\pip-install-xiz6inro\\lang_7b64f193f0854668b0b647f243302a60\\\n",
      "    Complete output (7 lines):\n",
      "    Traceback (most recent call last):\n",
      "      File \"<string>\", line 1, in <module>\n",
      "      File \"C:\\Users\\INSA\\AppData\\Local\\Temp\\pip-install-xiz6inro\\lang_7b64f193f0854668b0b647f243302a60\\setup.py\", line 14, in <module>\n",
      "        with open(path.join(here, '..', 'README.md'), encoding='utf-8') as f:\n",
      "      File \"C:\\Users\\INSA\\anaconda3\\envs\\INSA\\lib\\codecs.py\", line 905, in open\n",
      "        file = builtins.open(filename, mode, buffering)\n",
      "    FileNotFoundError: [Errno 2] No such file or directory: 'C:\\\\Users\\\\INSA\\\\AppData\\\\Local\\\\Temp\\\\pip-install-xiz6inro\\\\lang_7b64f193f0854668b0b647f243302a60\\\\..\\\\README.md'\n",
      "    ----------------------------------------\n",
      "WARNING: Discarding https://files.pythonhosted.org/packages/2f/aa/73a380e9eba91c8f836404b0d0ee895c71712a6e717e0be54c928713000a/lang-1.0.5.tar.gz#sha256=6481a91ccd6417bec4a4aab7bb803e10412d41db636ebbf010f7e87670e062a5 (from https://pypi.org/simple/lang/). Command errored out with exit status 1: python setup.py egg_info Check the logs for full command output.\n",
      "    ERROR: Command errored out with exit status 1:\n",
      "     command: 'C:\\Users\\INSA\\anaconda3\\envs\\INSA\\python.exe' -c 'import io, os, sys, setuptools, tokenize; sys.argv[0] = '\"'\"'C:\\\\Users\\\\INSA\\\\AppData\\\\Local\\\\Temp\\\\pip-install-xiz6inro\\\\lang_785228651146475ea1ee53e052efbaf0\\\\setup.py'\"'\"'; __file__='\"'\"'C:\\\\Users\\\\INSA\\\\AppData\\\\Local\\\\Temp\\\\pip-install-xiz6inro\\\\lang_785228651146475ea1ee53e052efbaf0\\\\setup.py'\"'\"';f = getattr(tokenize, '\"'\"'open'\"'\"', open)(__file__) if os.path.exists(__file__) else io.StringIO('\"'\"'from setuptools import setup; setup()'\"'\"');code = f.read().replace('\"'\"'\\r\\n'\"'\"', '\"'\"'\\n'\"'\"');f.close();exec(compile(code, __file__, '\"'\"'exec'\"'\"'))' egg_info --egg-base 'C:\\Users\\INSA\\AppData\\Local\\Temp\\pip-pip-egg-info-90tf0_ua'\n",
      "         cwd: C:\\Users\\INSA\\AppData\\Local\\Temp\\pip-install-xiz6inro\\lang_785228651146475ea1ee53e052efbaf0\\\n",
      "    Complete output (7 lines):\n",
      "    Traceback (most recent call last):\n",
      "      File \"<string>\", line 1, in <module>\n",
      "      File \"C:\\Users\\INSA\\AppData\\Local\\Temp\\pip-install-xiz6inro\\lang_785228651146475ea1ee53e052efbaf0\\setup.py\", line 14, in <module>\n",
      "        with open(path.join(here, '..', 'README.md'), encoding='utf-8') as f:\n",
      "      File \"C:\\Users\\INSA\\anaconda3\\envs\\INSA\\lib\\codecs.py\", line 905, in open\n",
      "        file = builtins.open(filename, mode, buffering)\n",
      "    FileNotFoundError: [Errno 2] No such file or directory: 'C:\\\\Users\\\\INSA\\\\AppData\\\\Local\\\\Temp\\\\pip-install-xiz6inro\\\\lang_785228651146475ea1ee53e052efbaf0\\\\..\\\\README.md'\n",
      "    ----------------------------------------\n",
      "WARNING: Discarding https://files.pythonhosted.org/packages/3d/be/266619c1db24a170e472c6e7055aede52e8636b483e52f87f243f64fa6d7/lang-1.0.4.tar.gz#sha256=36473d9205a3bd88b5b9d2e2b888c77a7232a55b7e2d667d2b062e3c0b5e8123 (from https://pypi.org/simple/lang/). Command errored out with exit status 1: python setup.py egg_info Check the logs for full command output.\n",
      "    ERROR: Command errored out with exit status 1:\n",
      "     command: 'C:\\Users\\INSA\\anaconda3\\envs\\INSA\\python.exe' -c 'import io, os, sys, setuptools, tokenize; sys.argv[0] = '\"'\"'C:\\\\Users\\\\INSA\\\\AppData\\\\Local\\\\Temp\\\\pip-install-xiz6inro\\\\lang_30f1dc04cd4b4ff9b675ae9cfd2560ba\\\\setup.py'\"'\"'; __file__='\"'\"'C:\\\\Users\\\\INSA\\\\AppData\\\\Local\\\\Temp\\\\pip-install-xiz6inro\\\\lang_30f1dc04cd4b4ff9b675ae9cfd2560ba\\\\setup.py'\"'\"';f = getattr(tokenize, '\"'\"'open'\"'\"', open)(__file__) if os.path.exists(__file__) else io.StringIO('\"'\"'from setuptools import setup; setup()'\"'\"');code = f.read().replace('\"'\"'\\r\\n'\"'\"', '\"'\"'\\n'\"'\"');f.close();exec(compile(code, __file__, '\"'\"'exec'\"'\"'))' egg_info --egg-base 'C:\\Users\\INSA\\AppData\\Local\\Temp\\pip-pip-egg-info-s425t3xz'\n",
      "         cwd: C:\\Users\\INSA\\AppData\\Local\\Temp\\pip-install-xiz6inro\\lang_30f1dc04cd4b4ff9b675ae9cfd2560ba\\\n",
      "    Complete output (7 lines):\n",
      "    Traceback (most recent call last):\n",
      "      File \"<string>\", line 1, in <module>\n",
      "      File \"C:\\Users\\INSA\\AppData\\Local\\Temp\\pip-install-xiz6inro\\lang_30f1dc04cd4b4ff9b675ae9cfd2560ba\\setup.py\", line 14, in <module>\n",
      "        with open(path.join(here, '..', 'README.md'), encoding='utf-8') as f:\n",
      "      File \"C:\\Users\\INSA\\anaconda3\\envs\\INSA\\lib\\codecs.py\", line 905, in open\n",
      "        file = builtins.open(filename, mode, buffering)\n",
      "    FileNotFoundError: [Errno 2] No such file or directory: 'C:\\\\Users\\\\INSA\\\\AppData\\\\Local\\\\Temp\\\\pip-install-xiz6inro\\\\lang_30f1dc04cd4b4ff9b675ae9cfd2560ba\\\\..\\\\README.md'\n",
      "    ----------------------------------------\n",
      "WARNING: Discarding https://files.pythonhosted.org/packages/95/96/55ac6b6c858fd34ce7943f6a207e02a21b8be5d7b8b3ca5ae087341de890/lang-1.0.3.tar.gz#sha256=1d75fb7cdc3cbae7ec59a77eff1c2e56cd562995298b0160352683b4dc7d2540 (from https://pypi.org/simple/lang/). Command errored out with exit status 1: python setup.py egg_info Check the logs for full command output.\n",
      "ERROR: Could not find a version that satisfies the requirement lang (from versions: 1.0.3, 1.0.4, 1.0.5)\n",
      "ERROR: No matching distribution found for lang\n"
     ]
    }
   ],
   "source": [
    "! pip install lang"
   ]
  },
  {
   "cell_type": "code",
   "execution_count": 30,
   "id": "a0aab672",
   "metadata": {},
   "outputs": [
    {
     "name": "stderr",
     "output_type": "stream",
     "text": [
      "ERROR: Could not find a version that satisfies the requirement lang-1.0.5 (from versions: none)\n",
      "ERROR: No matching distribution found for lang-1.0.5\n"
     ]
    }
   ],
   "source": [
    "! pip install lang-1.0.5"
   ]
  },
  {
   "cell_type": "code",
   "execution_count": 33,
   "id": "ed585d96",
   "metadata": {},
   "outputs": [],
   "source": [
    "from googlesearch import search\n",
    "from newspaper import Article\n",
    "import nltk\n",
    "import urllib\n",
    "#import lang\n",
    "import stop"
   ]
  },
  {
   "cell_type": "code",
   "execution_count": 61,
   "id": "a58f0881",
   "metadata": {},
   "outputs": [
    {
     "name": "stdout",
     "output_type": "stream",
     "text": [
      "Requirement already satisfied: tld in c:\\users\\insa\\anaconda3\\envs\\insa\\lib\\site-packages (0.12.6)\n"
     ]
    }
   ],
   "source": [
    "! pip install tld"
   ]
  },
  {
   "cell_type": "code",
   "execution_count": 69,
   "id": "d987ec9f",
   "metadata": {},
   "outputs": [
    {
     "name": "stdout",
     "output_type": "stream",
     "text": [
      "https://fr.wikipedia.org/wiki/Intelligence_artificielle\n",
      "https://www.cairn.info/revue-constructif-2019-3-page-5.htm\n",
      "https://www.netapp.com/fr/artificial-intelligence/what-is-artificial-intelligence/\n",
      "https://global.theiia.org/translations/PublicDocuments/GPI-Artificial-Intelligence-Part-II-French.pdf\n",
      "https://openclassrooms.com/fr/courses/6417031-objectif-ia-initiez-vous-a-lintelligence-artificielle\n",
      "https://www.quantmetry.com/blog/approches-de-lintelligence-artificielle-partie-i/\n",
      "https://www.journaldunet.com/solutions/dsi/1190593-le-vocabulaire-pour-comprendre-l-intelligence-artificielle/\n",
      "https://journals.openedition.org/activites/4941\n",
      "https://www.sipen-dakar.com/quest-ce-que-lintelligence-artificielle/\n",
      "https://www.oracle.com/sn/artificial-intelligence/what-is-ai/\n",
      "https://www.pwc.fr/fr/decryptages/humain/intelligence-artificielle-comment-tirer-parti-de-ces-nouveaux-amis.html\n"
     ]
    }
   ],
   "source": [
    "for url in search('partie en intelligence artificielle', lang ='fr'):\n",
    "    print(url)"
   ]
  },
  {
   "cell_type": "code",
   "execution_count": 36,
   "id": "9a705fbf",
   "metadata": {},
   "outputs": [
    {
     "name": "stdout",
     "output_type": "stream",
     "text": [
      "https://fr.wikipedia.org/wiki/Intelligence_artificielle\n",
      "https://www.cairn.info/revue-constructif-2019-3-page-5.htm\n",
      "https://openclassrooms.com/fr/courses/6417031-objectif-ia-initiez-vous-a-lintelligence-artificielle\n",
      "https://global.theiia.org/translations/PublicDocuments/GPI-Artificial-Intelligence-Part-II-French.pdf\n",
      "https://journals.openedition.org/activites/4941\n",
      "https://www.ionos.fr/digitalguide/web-marketing/vendre-sur-internet/quest-ce-que-lintelligence-artificielle/\n",
      "https://www.quantmetry.com/blog/approches-de-lintelligence-artificielle-partie-i/\n",
      "https://www.journaldunet.com/solutions/dsi/1190593-le-vocabulaire-pour-comprendre-l-intelligence-artificielle/\n",
      "https://www.pwc.fr/fr/decryptages/humain/intelligence-artificielle-comment-tirer-parti-de-ces-nouveaux-amis.html\n",
      "https://www.oracle.com/be-fr/artificial-intelligence/what-is-artificial-intelligence.html\n",
      "https://www.amazon.fr/S-R-R-intelligence-artificielle/dp/2490163043\n"
     ]
    }
   ],
   "source": [
    "for url in search('partie en intelligence artificielle'):\n",
    "    print(url)"
   ]
  },
  {
   "cell_type": "code",
   "execution_count": 46,
   "id": "3141c8f0",
   "metadata": {},
   "outputs": [
    {
     "name": "stdout",
     "output_type": "stream",
     "text": [
      "Bienvenue dans ce cours !\n",
      "\n",
      "L’intelligence artificielle ou l’IA, vous en entendez parler à la radio, à la télévision, et Internet propose des centaines de vidéos et d’articles sur cette thématique. Avec autant de sources d’information, pas facile de s’approprier le sujet !\n",
      "\n",
      "Nous vous présentons l’intelligence artificielle de A à Z, pour vous donner des clés de compréhension et des pistes de réflexion.\n",
      "\n",
      "Qu’est-ce que l’intelligence artificielle ? Dans quelle mesure est-ce que nous interagissons avec elle dans notre vie quotidienne ? Quels sont les défis et les opportunités associés à cette révolution ?\n",
      "\n",
      "Dans ce cours, nous répondrons à toutes ces questions. Dans un premier temps, vous en apprendrez plus sur ce que recouvre vraiment l'intelligence artificielle. Vous identifierez ensuite les changements que l'IA amène dans notre société. Enfin, vous rentrerez dans le fonctionnement d’un projet d'intelligence artificielle et des disciplines d’IA les plus utilisées : le Machine Learning et le Deep Learning.\n",
      "\n",
      "À la fin de ce cours, vous serez capable de : expliquer ce qu'est l'intelligence artificielle ;\n",
      "\n",
      "identifier ses défis et ses opportunités ;\n",
      "\n",
      "décrire scientifiquement un projet d'IA et ses sous-disciplines.\n",
      "\n",
      "Prérequis : ce cours s’adresse à tous les citoyens qui s’interrogent sur l’intelligence artificielle, souhaitent s’informer et s’instruire. Aucun prérequis n’est nécessaire :).\n",
      "\n",
      "Ce cours a été réalisé en partenariat avec l'Institut Montaigne et la Fondation Abeona.\n",
      "\n",
      "En remplissant votre inscription, vous acceptez que les informations que vous renseignez soient utilisées à des fins de communication et d'information par OpenClassrooms et l'Institut Montaigne.\n",
      "\n",
      "Pour plus d’informations sur la gestion de vos données et l’exercice de vos droits, vous pouvez consulter notre Politique de protection des données personnelles.\n"
     ]
    }
   ],
   "source": [
    "from newspaper import Article\n",
    "url ='https://openclassrooms.com/fr/courses/6417031-objectif-ia-initiez-vous-a-lintelligence-artificielle'\n",
    "article = Article(url)\n",
    "article.download()\n",
    "article.parse()\n",
    "#article.parse()\n",
    "print(article.text)"
   ]
  },
  {
   "cell_type": "code",
   "execution_count": 47,
   "id": "cc401005",
   "metadata": {},
   "outputs": [
    {
     "data": {
      "text/plain": [
       "[]"
      ]
     },
     "execution_count": 47,
     "metadata": {},
     "output_type": "execute_result"
    }
   ],
   "source": [
    "article.authors"
   ]
  },
  {
   "cell_type": "code",
   "execution_count": 54,
   "id": "336a326d",
   "metadata": {},
   "outputs": [],
   "source": [
    "article.publish_date"
   ]
  },
  {
   "cell_type": "code",
   "execution_count": 49,
   "id": "cb35f0d1",
   "metadata": {},
   "outputs": [
    {
     "data": {
      "text/plain": [
       "\"Bienvenue dans ce cours !\\n\\nL’intelligence artificielle ou l’IA, vous en entendez parler à la radio, à la télévision, et Internet propose des centaines de vidéos et d’articles sur cette thématique. Avec autant de sources d’information, pas facile de s’approprier le sujet !\\n\\nNous vous présentons l’intelligence artificielle de A à Z, pour vous donner des clés de compréhension et des pistes de réflexion.\\n\\nQu’est-ce que l’intelligence artificielle ? Dans quelle mesure est-ce que nous interagissons avec elle dans notre vie quotidienne ? Quels sont les défis et les opportunités associés à cette révolution ?\\n\\nDans ce cours, nous répondrons à toutes ces questions. Dans un premier temps, vous en apprendrez plus sur ce que recouvre vraiment l'intelligence artificielle. Vous identifierez ensuite les changements que l'IA amène dans notre société. Enfin, vous rentrerez dans le fonctionnement d’un projet d'intelligence artificielle et des disciplines d’IA les plus utilisées : le Machine Learning et le Deep Learning.\\n\\nÀ la fin de ce cours, vous serez capable de : expliquer ce qu'est l'intelligence artificielle ;\\n\\nidentifier ses défis et ses opportunités ;\\n\\ndécrire scientifiquement un projet d'IA et ses sous-disciplines.\\n\\nPrérequis : ce cours s’adresse à tous les citoyens qui s’interrogent sur l’intelligence artificielle, souhaitent s’informer et s’instruire. Aucun prérequis n’est nécessaire :).\\n\\nCe cours a été réalisé en partenariat avec l'Institut Montaigne et la Fondation Abeona.\\n\\nEn remplissant votre inscription, vous acceptez que les informations que vous renseignez soient utilisées à des fins de communication et d'information par OpenClassrooms et l'Institut Montaigne.\\n\\nPour plus d’informations sur la gestion de vos données et l’exercice de vos droits, vous pouvez consulter notre Politique de protection des données personnelles.\""
      ]
     },
     "execution_count": 49,
     "metadata": {},
     "output_type": "execute_result"
    }
   ],
   "source": [
    "article.text"
   ]
  },
  {
   "cell_type": "code",
   "execution_count": 50,
   "id": "4691f79b",
   "metadata": {},
   "outputs": [
    {
     "data": {
      "text/plain": [
       "'https://course.oc-static.com/courses/6417031/6417031_teaser_picture_1614681339.jpg'"
      ]
     },
     "execution_count": 50,
     "metadata": {},
     "output_type": "execute_result"
    }
   ],
   "source": [
    "article.top_image"
   ]
  },
  {
   "cell_type": "code",
   "execution_count": 51,
   "id": "cde466bc",
   "metadata": {},
   "outputs": [
    {
     "data": {
      "text/plain": [
       "''"
      ]
     },
     "execution_count": 51,
     "metadata": {},
     "output_type": "execute_result"
    }
   ],
   "source": [
    "article.summary"
   ]
  },
  {
   "cell_type": "code",
   "execution_count": 52,
   "id": "09b805bd",
   "metadata": {},
   "outputs": [
    {
     "data": {
      "text/plain": [
       "<bound method Article.nlp of <newspaper.article.Article object at 0x00000238D9562220>>"
      ]
     },
     "execution_count": 52,
     "metadata": {},
     "output_type": "execute_result"
    }
   ],
   "source": [
    "article.nlp"
   ]
  },
  {
   "cell_type": "code",
   "execution_count": 53,
   "id": "44216c76",
   "metadata": {},
   "outputs": [
    {
     "name": "stdout",
     "output_type": "stream",
     "text": [
      "[]\n"
     ]
    }
   ],
   "source": [
    "print(article.keywords)"
   ]
  }
 ],
 "metadata": {
  "kernelspec": {
   "display_name": "Python 3",
   "language": "python",
   "name": "python3"
  },
  "language_info": {
   "codemirror_mode": {
    "name": "ipython",
    "version": 3
   },
   "file_extension": ".py",
   "mimetype": "text/x-python",
   "name": "python",
   "nbconvert_exporter": "python",
   "pygments_lexer": "ipython3",
   "version": "3.8.10"
  }
 },
 "nbformat": 4,
 "nbformat_minor": 5
}

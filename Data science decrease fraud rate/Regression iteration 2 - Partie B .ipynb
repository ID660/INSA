{
 "cells": [
  {
   "cell_type": "code",
   "execution_count": 1,
   "metadata": {},
   "outputs": [],
   "source": [
    "import pandas as pd\n",
    "import numpy as np\n",
    "from os import getcwd, chdir, mkdir\n",
    "import os\n",
    "#print(getcwd())\n",
    "os.chdir(r\"C:\\Users\\user\\Documents\\projet_data\")"
   ]
  },
  {
   "cell_type": "code",
   "execution_count": 2,
   "metadata": {},
   "outputs": [],
   "source": [
    "bc = pd.read_csv('base_control_agreg.csv', sep=\",\", encoding = \"ISO-8859-1\", engine='python', index_col = 0)"
   ]
  },
  {
   "cell_type": "code",
   "execution_count": 3,
   "metadata": {},
   "outputs": [],
   "source": [
    "# import matplotlib et seaborn\n",
    "import matplotlib.pyplot as plt\n",
    "%matplotlib inline\n",
    "import seaborn as sns\n",
    "\n",
    "sns.set() # pour modifier le thème"
   ]
  },
  {
   "cell_type": "code",
   "execution_count": 4,
   "metadata": {},
   "outputs": [],
   "source": [
    "bc['Date'] = pd.to_datetime(bc['Date'], errors = 'coerce')"
   ]
  },
  {
   "cell_type": "code",
   "execution_count": 5,
   "metadata": {},
   "outputs": [],
   "source": [
    "# On duplique l'heure et le mois pour les mettre transposer sur une horloge\n",
    "import math\n",
    "bc['h_x'] = bc.Heure_Origine\n",
    "bc['h_y'] = bc.Heure_Origine\n",
    "\n",
    "bc['m_x'] = bc.Month\n",
    "bc['m_y'] = bc.Month\n",
    "\n",
    "# On remplace les heure et le mois par les angles correspondants de l'horloge\n",
    "\n",
    "bc['h_x'] = bc['h_x'].replace([1, 2, 3, 4, 5, 6, 7, 8, 9, 10, 11, 12, 13, 14, 15, 16, 17, 18, 19, 20, 21, 22, 23],\n",
    "                             [5*math.pi/12, math.pi/3, math.pi/4, math.pi/6, math.pi/12, 0, -math.pi/12, -math.pi/6,\n",
    "                             -math.pi/4, -math.pi/3, -5*math.pi/12, -math.pi/2, -7*math.pi/12, -2*math.pi/3, -3*math.pi/4,\n",
    "                             -5*math.pi/6, -11*math.pi/12, math.pi, 11*math.pi/12, 5*math.pi/6, 3*math.pi/4, 2*math.pi/3,\n",
    "                             7*math.pi/12])\n",
    "\n",
    "bc['h_y'] = bc['h_y'].replace([1, 2, 3, 4, 5, 6, 7, 8, 9, 10, 11, 12, 13, 14, 15, 16, 17, 18, 19, 20, 21, 22, 23],\n",
    "                             [5*math.pi/12, math.pi/3, math.pi/4, math.pi/6, math.pi/12, 0, -math.pi/12, -math.pi/6,\n",
    "                             -math.pi/4, -math.pi/3, -5*math.pi/12, -math.pi/2, -7*math.pi/12, -2*math.pi/3, -3*math.pi/4,\n",
    "                             -5*math.pi/6, -11*math.pi/12, math.pi, 11*math.pi/12, 5*math.pi/6, 3*math.pi/4, 2*math.pi/3,\n",
    "                             7*math.pi/12])\n",
    "\n",
    "bc['m_x'] = bc['m_x'].replace([1, 2, 3, 4, 5, 6, 7, 8, 9, 10, 11, 12],\n",
    "                             [math.pi/3, math.pi/6, 0, -math.pi/6, -math.pi/3, -math.pi/2, -2*math.pi/3, -5*math.pi/6, math.pi, \n",
    "                              5*math.pi/6, 2*math.pi/3, math.pi/2])\n",
    "\n",
    "bc['m_y'] = bc['m_y'].replace([1, 2, 3, 4, 5, 6, 7, 8, 9, 10, 11, 12],\n",
    "                             [math.pi/3, math.pi/6, 0, -math.pi/6, -math.pi/3, -math.pi/2, -2*math.pi/3, -5*math.pi/6, math.pi, \n",
    "                              5*math.pi/6, 2*math.pi/3, math.pi/2])\n",
    "\n",
    "# On applique cos et sin pour enregistrer les coordonnées de l'horloge\n",
    "\n",
    "bc['h_x'] = bc['h_x'].apply(lambda x : math.cos(x))\n",
    "bc['h_y'] = bc['h_y'].apply(lambda x : math.sin(x))\n",
    "\n",
    "bc['m_x'] = bc['m_x'].apply(lambda x : math.cos(x))\n",
    "bc['m_y'] = bc['m_y'].apply(lambda x : math.sin(x))"
   ]
  },
  {
   "cell_type": "code",
   "execution_count": 6,
   "metadata": {},
   "outputs": [],
   "source": [
    "# On supprime l'année 2020 car la crise sanitaire sur cette année fait que la réalité des fraudes n'est pas représentée\n",
    "bc_2019_cv = bc[bc['Year'] == 2019]\n",
    "\n",
    "# On prends que les contrôleurs chevronnés car le modèle est meilleur avec que ceux là (ces contrôleurs sont meilleurs et \n",
    "# contrôlent en général tout le train)\n",
    "bc_2019_cv = bc_2019_cv[bc_2019_cv['cv'] == 1]"
   ]
  },
  {
   "cell_type": "code",
   "execution_count": 7,
   "metadata": {},
   "outputs": [
    {
     "name": "stdout",
     "output_type": "stream",
     "text": [
      "<class 'pandas.core.frame.DataFrame'>\n",
      "Int64Index: 14271 entries, 37 to 100347\n",
      "Data columns (total 26 columns):\n",
      "Date                          14271 non-null datetime64[ns]\n",
      "Num_Train                     14271 non-null int64\n",
      "Year                          14271 non-null int64\n",
      "Month                         14271 non-null int64\n",
      "15zaine_jour                  14271 non-null object\n",
      "Sous_Ligne                    14271 non-null object\n",
      "Direction_Ligne               14271 non-null object\n",
      "Gare_Origine                  14271 non-null object\n",
      "Heure_Origine                 14271 non-null int64\n",
      "Gare_Fin                      14271 non-null object\n",
      "Heure_Fin                     14271 non-null int64\n",
      "cv                            14271 non-null float64\n",
      "jour_semaine                  14271 non-null int64\n",
      "Sens_circulation              14271 non-null int64\n",
      "Ligne_Presence_imposee        14271 non-null float64\n",
      "Montant_operation             14271 non-null float64\n",
      "Type_operation_CC BORD        14271 non-null int64\n",
      "Type_operation_CC CONTROLE    14271 non-null int64\n",
      "Type_operation_CC GUICHET     14271 non-null int64\n",
      "Type_operation_PV             14271 non-null int64\n",
      "nb_controleurs                14271 non-null int64\n",
      "nb_control                    14271 non-null int64\n",
      "h_x                           14271 non-null float64\n",
      "h_y                           14271 non-null float64\n",
      "m_x                           14271 non-null float64\n",
      "m_y                           14271 non-null float64\n",
      "dtypes: datetime64[ns](1), float64(7), int64(13), object(5)\n",
      "memory usage: 2.9+ MB\n"
     ]
    }
   ],
   "source": [
    "bc_2019_cv.info()"
   ]
  },
  {
   "cell_type": "code",
   "execution_count": 8,
   "metadata": {},
   "outputs": [
    {
     "data": {
      "text/html": [
       "<div>\n",
       "<style scoped>\n",
       "    .dataframe tbody tr th:only-of-type {\n",
       "        vertical-align: middle;\n",
       "    }\n",
       "\n",
       "    .dataframe tbody tr th {\n",
       "        vertical-align: top;\n",
       "    }\n",
       "\n",
       "    .dataframe thead th {\n",
       "        text-align: right;\n",
       "    }\n",
       "</style>\n",
       "<table border=\"1\" class=\"dataframe\">\n",
       "  <thead>\n",
       "    <tr style=\"text-align: right;\">\n",
       "      <th></th>\n",
       "      <th>Date_1</th>\n",
       "      <th>Num_Train</th>\n",
       "      <th>nb_control_1</th>\n",
       "    </tr>\n",
       "  </thead>\n",
       "  <tbody>\n",
       "    <tr>\n",
       "      <th>37</th>\n",
       "      <td>2019-01-01</td>\n",
       "      <td>830124</td>\n",
       "      <td>6</td>\n",
       "    </tr>\n",
       "    <tr>\n",
       "      <th>38</th>\n",
       "      <td>2019-01-01</td>\n",
       "      <td>830135</td>\n",
       "      <td>5</td>\n",
       "    </tr>\n",
       "    <tr>\n",
       "      <th>48</th>\n",
       "      <td>2019-01-01</td>\n",
       "      <td>830595</td>\n",
       "      <td>14</td>\n",
       "    </tr>\n",
       "    <tr>\n",
       "      <th>49</th>\n",
       "      <td>2019-01-01</td>\n",
       "      <td>830600</td>\n",
       "      <td>5</td>\n",
       "    </tr>\n",
       "    <tr>\n",
       "      <th>50</th>\n",
       "      <td>2019-01-01</td>\n",
       "      <td>830606</td>\n",
       "      <td>3</td>\n",
       "    </tr>\n",
       "  </tbody>\n",
       "</table>\n",
       "</div>"
      ],
      "text/plain": [
       "       Date_1  Num_Train  nb_control_1\n",
       "37 2019-01-01     830124             6\n",
       "38 2019-01-01     830135             5\n",
       "48 2019-01-01     830595            14\n",
       "49 2019-01-01     830600             5\n",
       "50 2019-01-01     830606             3"
      ]
     },
     "execution_count": 8,
     "metadata": {},
     "output_type": "execute_result"
    }
   ],
   "source": [
    "# On fait une base avec 1 ligne par contrôle par train par date\n",
    "bc_moins_1 = (bc_2019_cv[['Date', 'Num_Train', 'nb_control']])\n",
    "bc_moins_1.columns = ['Date_1', 'Num_Train', 'nb_control_1']\n",
    "bc_moins_1.head()"
   ]
  },
  {
   "cell_type": "code",
   "execution_count": 99,
   "metadata": {},
   "outputs": [
    {
     "data": {
      "text/plain": [
       "(244125, 28)"
      ]
     },
     "execution_count": 99,
     "metadata": {},
     "output_type": "execute_result"
    }
   ],
   "source": [
    "# On la jointe avec la base globale afin de récupérer le résultat (nb opération) du précédent contrôle à J-7 sur le train\n",
    "bc_2019_cv_test = bc_2019_cv.merge(right = bc_moins_1, on = ['Num_Train'], how = 'left')\n",
    "bc_2019_cv_test.shape"
   ]
  },
  {
   "cell_type": "code",
   "execution_count": 100,
   "metadata": {},
   "outputs": [
    {
     "data": {
      "text/html": [
       "<div>\n",
       "<style scoped>\n",
       "    .dataframe tbody tr th:only-of-type {\n",
       "        vertical-align: middle;\n",
       "    }\n",
       "\n",
       "    .dataframe tbody tr th {\n",
       "        vertical-align: top;\n",
       "    }\n",
       "\n",
       "    .dataframe thead th {\n",
       "        text-align: right;\n",
       "    }\n",
       "</style>\n",
       "<table border=\"1\" class=\"dataframe\">\n",
       "  <thead>\n",
       "    <tr style=\"text-align: right;\">\n",
       "      <th></th>\n",
       "      <th>Date</th>\n",
       "      <th>Num_Train</th>\n",
       "      <th>Year</th>\n",
       "      <th>Month</th>\n",
       "      <th>15zaine_jour</th>\n",
       "      <th>Sous_Ligne</th>\n",
       "      <th>Direction_Ligne</th>\n",
       "      <th>Gare_Origine</th>\n",
       "      <th>Heure_Origine</th>\n",
       "      <th>Gare_Fin</th>\n",
       "      <th>...</th>\n",
       "      <th>Type_operation_PV</th>\n",
       "      <th>nb_controleurs</th>\n",
       "      <th>nb_control</th>\n",
       "      <th>h_x</th>\n",
       "      <th>h_y</th>\n",
       "      <th>m_x</th>\n",
       "      <th>m_y</th>\n",
       "      <th>Date_1</th>\n",
       "      <th>nb_control_1</th>\n",
       "      <th>diff_ctrl_test</th>\n",
       "    </tr>\n",
       "  </thead>\n",
       "  <tbody>\n",
       "    <tr>\n",
       "      <th>0</th>\n",
       "      <td>2019-01-01</td>\n",
       "      <td>830124</td>\n",
       "      <td>2019</td>\n",
       "      <td>1</td>\n",
       "      <td>1ere quinzaine de Janvier</td>\n",
       "      <td>Sarrebourg Ã¢ÂÂ Strasbourg</td>\n",
       "      <td>DL Alsace</td>\n",
       "      <td>Strasbourg</td>\n",
       "      <td>15</td>\n",
       "      <td>Saverne</td>\n",
       "      <td>...</td>\n",
       "      <td>4</td>\n",
       "      <td>6</td>\n",
       "      <td>6</td>\n",
       "      <td>-0.707107</td>\n",
       "      <td>-0.707107</td>\n",
       "      <td>0.5</td>\n",
       "      <td>0.866025</td>\n",
       "      <td>2019-01-01</td>\n",
       "      <td>6</td>\n",
       "      <td>0 days</td>\n",
       "    </tr>\n",
       "    <tr>\n",
       "      <th>1</th>\n",
       "      <td>2019-01-01</td>\n",
       "      <td>830124</td>\n",
       "      <td>2019</td>\n",
       "      <td>1</td>\n",
       "      <td>1ere quinzaine de Janvier</td>\n",
       "      <td>Sarrebourg Ã¢ÂÂ Strasbourg</td>\n",
       "      <td>DL Alsace</td>\n",
       "      <td>Strasbourg</td>\n",
       "      <td>15</td>\n",
       "      <td>Saverne</td>\n",
       "      <td>...</td>\n",
       "      <td>4</td>\n",
       "      <td>6</td>\n",
       "      <td>6</td>\n",
       "      <td>-0.707107</td>\n",
       "      <td>-0.707107</td>\n",
       "      <td>0.5</td>\n",
       "      <td>0.866025</td>\n",
       "      <td>2019-01-12</td>\n",
       "      <td>2</td>\n",
       "      <td>-11 days</td>\n",
       "    </tr>\n",
       "    <tr>\n",
       "      <th>2</th>\n",
       "      <td>2019-01-01</td>\n",
       "      <td>830124</td>\n",
       "      <td>2019</td>\n",
       "      <td>1</td>\n",
       "      <td>1ere quinzaine de Janvier</td>\n",
       "      <td>Sarrebourg Ã¢ÂÂ Strasbourg</td>\n",
       "      <td>DL Alsace</td>\n",
       "      <td>Strasbourg</td>\n",
       "      <td>15</td>\n",
       "      <td>Saverne</td>\n",
       "      <td>...</td>\n",
       "      <td>4</td>\n",
       "      <td>6</td>\n",
       "      <td>6</td>\n",
       "      <td>-0.707107</td>\n",
       "      <td>-0.707107</td>\n",
       "      <td>0.5</td>\n",
       "      <td>0.866025</td>\n",
       "      <td>2019-01-27</td>\n",
       "      <td>9</td>\n",
       "      <td>-26 days</td>\n",
       "    </tr>\n",
       "    <tr>\n",
       "      <th>3</th>\n",
       "      <td>2019-01-01</td>\n",
       "      <td>830124</td>\n",
       "      <td>2019</td>\n",
       "      <td>1</td>\n",
       "      <td>1ere quinzaine de Janvier</td>\n",
       "      <td>Sarrebourg Ã¢ÂÂ Strasbourg</td>\n",
       "      <td>DL Alsace</td>\n",
       "      <td>Strasbourg</td>\n",
       "      <td>15</td>\n",
       "      <td>Saverne</td>\n",
       "      <td>...</td>\n",
       "      <td>4</td>\n",
       "      <td>6</td>\n",
       "      <td>6</td>\n",
       "      <td>-0.707107</td>\n",
       "      <td>-0.707107</td>\n",
       "      <td>0.5</td>\n",
       "      <td>0.866025</td>\n",
       "      <td>2019-02-09</td>\n",
       "      <td>4</td>\n",
       "      <td>-39 days</td>\n",
       "    </tr>\n",
       "    <tr>\n",
       "      <th>4</th>\n",
       "      <td>2019-01-01</td>\n",
       "      <td>830124</td>\n",
       "      <td>2019</td>\n",
       "      <td>1</td>\n",
       "      <td>1ere quinzaine de Janvier</td>\n",
       "      <td>Sarrebourg Ã¢ÂÂ Strasbourg</td>\n",
       "      <td>DL Alsace</td>\n",
       "      <td>Strasbourg</td>\n",
       "      <td>15</td>\n",
       "      <td>Saverne</td>\n",
       "      <td>...</td>\n",
       "      <td>4</td>\n",
       "      <td>6</td>\n",
       "      <td>6</td>\n",
       "      <td>-0.707107</td>\n",
       "      <td>-0.707107</td>\n",
       "      <td>0.5</td>\n",
       "      <td>0.866025</td>\n",
       "      <td>2019-02-17</td>\n",
       "      <td>2</td>\n",
       "      <td>-47 days</td>\n",
       "    </tr>\n",
       "  </tbody>\n",
       "</table>\n",
       "<p>5 rows × 29 columns</p>\n",
       "</div>"
      ],
      "text/plain": [
       "        Date  Num_Train  Year  Month               15zaine_jour  \\\n",
       "0 2019-01-01     830124  2019      1  1ere quinzaine de Janvier   \n",
       "1 2019-01-01     830124  2019      1  1ere quinzaine de Janvier   \n",
       "2 2019-01-01     830124  2019      1  1ere quinzaine de Janvier   \n",
       "3 2019-01-01     830124  2019      1  1ere quinzaine de Janvier   \n",
       "4 2019-01-01     830124  2019      1  1ere quinzaine de Janvier   \n",
       "\n",
       "                      Sous_Ligne Direction_Ligne Gare_Origine  Heure_Origine  \\\n",
       "0  Sarrebourg Ã¢ÂÂ Strasbourg        DL Alsace   Strasbourg             15   \n",
       "1  Sarrebourg Ã¢ÂÂ Strasbourg        DL Alsace   Strasbourg             15   \n",
       "2  Sarrebourg Ã¢ÂÂ Strasbourg        DL Alsace   Strasbourg             15   \n",
       "3  Sarrebourg Ã¢ÂÂ Strasbourg        DL Alsace   Strasbourg             15   \n",
       "4  Sarrebourg Ã¢ÂÂ Strasbourg        DL Alsace   Strasbourg             15   \n",
       "\n",
       "  Gare_Fin  ...  Type_operation_PV  nb_controleurs  nb_control       h_x  \\\n",
       "0  Saverne  ...                  4               6           6 -0.707107   \n",
       "1  Saverne  ...                  4               6           6 -0.707107   \n",
       "2  Saverne  ...                  4               6           6 -0.707107   \n",
       "3  Saverne  ...                  4               6           6 -0.707107   \n",
       "4  Saverne  ...                  4               6           6 -0.707107   \n",
       "\n",
       "        h_y  m_x       m_y     Date_1  nb_control_1  diff_ctrl_test  \n",
       "0 -0.707107  0.5  0.866025 2019-01-01             6          0 days  \n",
       "1 -0.707107  0.5  0.866025 2019-01-12             2        -11 days  \n",
       "2 -0.707107  0.5  0.866025 2019-01-27             9        -26 days  \n",
       "3 -0.707107  0.5  0.866025 2019-02-09             4        -39 days  \n",
       "4 -0.707107  0.5  0.866025 2019-02-17             2        -47 days  \n",
       "\n",
       "[5 rows x 29 columns]"
      ]
     },
     "execution_count": 100,
     "metadata": {},
     "output_type": "execute_result"
    }
   ],
   "source": [
    "# On calcule le nb de jours entre le contrôle du jour et le contrôle jointé précédemment\n",
    "bc_2019_cv_test['diff_ctrl_test'] = bc_2019_cv_test['Date'] - bc_2019_cv_test['Date_1']\n",
    "bc_2019_cv_test.head()"
   ]
  },
  {
   "cell_type": "code",
   "execution_count": 101,
   "metadata": {},
   "outputs": [],
   "source": [
    "# On récupère que le nb de jours en format int de l'écart calculé et on supprime la variable temporaire\n",
    "bc_2019_cv_test['diff_ctrl_1'] = bc_2019_cv_test['diff_ctrl_test'].apply(lambda x: x / np.timedelta64(1, 'D'))\n",
    "bc_2019_cv_test['diff_ctrl_1'] = bc_2019_cv_test['diff_ctrl_1'].astype('int')\n",
    "\n",
    "bc_2019_cv_test = bc_2019_cv_test.drop(['diff_ctrl_test'], axis = 1)"
   ]
  },
  {
   "cell_type": "code",
   "execution_count": 13,
   "metadata": {},
   "outputs": [
    {
     "data": {
      "text/html": [
       "<div>\n",
       "<style scoped>\n",
       "    .dataframe tbody tr th:only-of-type {\n",
       "        vertical-align: middle;\n",
       "    }\n",
       "\n",
       "    .dataframe tbody tr th {\n",
       "        vertical-align: top;\n",
       "    }\n",
       "\n",
       "    .dataframe thead th {\n",
       "        text-align: right;\n",
       "    }\n",
       "</style>\n",
       "<table border=\"1\" class=\"dataframe\">\n",
       "  <thead>\n",
       "    <tr style=\"text-align: right;\">\n",
       "      <th></th>\n",
       "      <th>Date</th>\n",
       "      <th>Num_Train</th>\n",
       "      <th>Year</th>\n",
       "      <th>Month</th>\n",
       "      <th>15zaine_jour</th>\n",
       "      <th>Sous_Ligne</th>\n",
       "      <th>Direction_Ligne</th>\n",
       "      <th>Gare_Origine</th>\n",
       "      <th>Heure_Origine</th>\n",
       "      <th>Gare_Fin</th>\n",
       "      <th>...</th>\n",
       "      <th>Type_operation_PV</th>\n",
       "      <th>nb_controleurs</th>\n",
       "      <th>nb_control</th>\n",
       "      <th>h_x</th>\n",
       "      <th>h_y</th>\n",
       "      <th>m_x</th>\n",
       "      <th>m_y</th>\n",
       "      <th>Date_1</th>\n",
       "      <th>nb_control_1</th>\n",
       "      <th>diff_ctrl_1</th>\n",
       "    </tr>\n",
       "  </thead>\n",
       "  <tbody>\n",
       "    <tr>\n",
       "      <th>0</th>\n",
       "      <td>2019-01-01</td>\n",
       "      <td>830124</td>\n",
       "      <td>2019</td>\n",
       "      <td>1</td>\n",
       "      <td>1ere quinzaine de Janvier</td>\n",
       "      <td>Sarrebourg Ã¢ÂÂ Strasbourg</td>\n",
       "      <td>DL Alsace</td>\n",
       "      <td>Strasbourg</td>\n",
       "      <td>15</td>\n",
       "      <td>Saverne</td>\n",
       "      <td>...</td>\n",
       "      <td>4</td>\n",
       "      <td>6</td>\n",
       "      <td>6</td>\n",
       "      <td>-0.707107</td>\n",
       "      <td>-0.707107</td>\n",
       "      <td>0.5</td>\n",
       "      <td>0.866025</td>\n",
       "      <td>2019-01-01</td>\n",
       "      <td>6</td>\n",
       "      <td>0</td>\n",
       "    </tr>\n",
       "    <tr>\n",
       "      <th>1</th>\n",
       "      <td>2019-01-01</td>\n",
       "      <td>830124</td>\n",
       "      <td>2019</td>\n",
       "      <td>1</td>\n",
       "      <td>1ere quinzaine de Janvier</td>\n",
       "      <td>Sarrebourg Ã¢ÂÂ Strasbourg</td>\n",
       "      <td>DL Alsace</td>\n",
       "      <td>Strasbourg</td>\n",
       "      <td>15</td>\n",
       "      <td>Saverne</td>\n",
       "      <td>...</td>\n",
       "      <td>4</td>\n",
       "      <td>6</td>\n",
       "      <td>6</td>\n",
       "      <td>-0.707107</td>\n",
       "      <td>-0.707107</td>\n",
       "      <td>0.5</td>\n",
       "      <td>0.866025</td>\n",
       "      <td>2019-01-12</td>\n",
       "      <td>2</td>\n",
       "      <td>-11</td>\n",
       "    </tr>\n",
       "    <tr>\n",
       "      <th>2</th>\n",
       "      <td>2019-01-01</td>\n",
       "      <td>830124</td>\n",
       "      <td>2019</td>\n",
       "      <td>1</td>\n",
       "      <td>1ere quinzaine de Janvier</td>\n",
       "      <td>Sarrebourg Ã¢ÂÂ Strasbourg</td>\n",
       "      <td>DL Alsace</td>\n",
       "      <td>Strasbourg</td>\n",
       "      <td>15</td>\n",
       "      <td>Saverne</td>\n",
       "      <td>...</td>\n",
       "      <td>4</td>\n",
       "      <td>6</td>\n",
       "      <td>6</td>\n",
       "      <td>-0.707107</td>\n",
       "      <td>-0.707107</td>\n",
       "      <td>0.5</td>\n",
       "      <td>0.866025</td>\n",
       "      <td>2019-01-27</td>\n",
       "      <td>9</td>\n",
       "      <td>-26</td>\n",
       "    </tr>\n",
       "    <tr>\n",
       "      <th>3</th>\n",
       "      <td>2019-01-01</td>\n",
       "      <td>830124</td>\n",
       "      <td>2019</td>\n",
       "      <td>1</td>\n",
       "      <td>1ere quinzaine de Janvier</td>\n",
       "      <td>Sarrebourg Ã¢ÂÂ Strasbourg</td>\n",
       "      <td>DL Alsace</td>\n",
       "      <td>Strasbourg</td>\n",
       "      <td>15</td>\n",
       "      <td>Saverne</td>\n",
       "      <td>...</td>\n",
       "      <td>4</td>\n",
       "      <td>6</td>\n",
       "      <td>6</td>\n",
       "      <td>-0.707107</td>\n",
       "      <td>-0.707107</td>\n",
       "      <td>0.5</td>\n",
       "      <td>0.866025</td>\n",
       "      <td>2019-02-09</td>\n",
       "      <td>4</td>\n",
       "      <td>-39</td>\n",
       "    </tr>\n",
       "    <tr>\n",
       "      <th>4</th>\n",
       "      <td>2019-01-01</td>\n",
       "      <td>830124</td>\n",
       "      <td>2019</td>\n",
       "      <td>1</td>\n",
       "      <td>1ere quinzaine de Janvier</td>\n",
       "      <td>Sarrebourg Ã¢ÂÂ Strasbourg</td>\n",
       "      <td>DL Alsace</td>\n",
       "      <td>Strasbourg</td>\n",
       "      <td>15</td>\n",
       "      <td>Saverne</td>\n",
       "      <td>...</td>\n",
       "      <td>4</td>\n",
       "      <td>6</td>\n",
       "      <td>6</td>\n",
       "      <td>-0.707107</td>\n",
       "      <td>-0.707107</td>\n",
       "      <td>0.5</td>\n",
       "      <td>0.866025</td>\n",
       "      <td>2019-02-17</td>\n",
       "      <td>2</td>\n",
       "      <td>-47</td>\n",
       "    </tr>\n",
       "  </tbody>\n",
       "</table>\n",
       "<p>5 rows × 29 columns</p>\n",
       "</div>"
      ],
      "text/plain": [
       "        Date  Num_Train  Year  Month               15zaine_jour  \\\n",
       "0 2019-01-01     830124  2019      1  1ere quinzaine de Janvier   \n",
       "1 2019-01-01     830124  2019      1  1ere quinzaine de Janvier   \n",
       "2 2019-01-01     830124  2019      1  1ere quinzaine de Janvier   \n",
       "3 2019-01-01     830124  2019      1  1ere quinzaine de Janvier   \n",
       "4 2019-01-01     830124  2019      1  1ere quinzaine de Janvier   \n",
       "\n",
       "                      Sous_Ligne Direction_Ligne Gare_Origine  Heure_Origine  \\\n",
       "0  Sarrebourg Ã¢ÂÂ Strasbourg        DL Alsace   Strasbourg             15   \n",
       "1  Sarrebourg Ã¢ÂÂ Strasbourg        DL Alsace   Strasbourg             15   \n",
       "2  Sarrebourg Ã¢ÂÂ Strasbourg        DL Alsace   Strasbourg             15   \n",
       "3  Sarrebourg Ã¢ÂÂ Strasbourg        DL Alsace   Strasbourg             15   \n",
       "4  Sarrebourg Ã¢ÂÂ Strasbourg        DL Alsace   Strasbourg             15   \n",
       "\n",
       "  Gare_Fin  ...  Type_operation_PV  nb_controleurs  nb_control       h_x  \\\n",
       "0  Saverne  ...                  4               6           6 -0.707107   \n",
       "1  Saverne  ...                  4               6           6 -0.707107   \n",
       "2  Saverne  ...                  4               6           6 -0.707107   \n",
       "3  Saverne  ...                  4               6           6 -0.707107   \n",
       "4  Saverne  ...                  4               6           6 -0.707107   \n",
       "\n",
       "        h_y  m_x       m_y     Date_1  nb_control_1  diff_ctrl_1  \n",
       "0 -0.707107  0.5  0.866025 2019-01-01             6            0  \n",
       "1 -0.707107  0.5  0.866025 2019-01-12             2          -11  \n",
       "2 -0.707107  0.5  0.866025 2019-01-27             9          -26  \n",
       "3 -0.707107  0.5  0.866025 2019-02-09             4          -39  \n",
       "4 -0.707107  0.5  0.866025 2019-02-17             2          -47  \n",
       "\n",
       "[5 rows x 29 columns]"
      ]
     },
     "execution_count": 13,
     "metadata": {},
     "output_type": "execute_result"
    }
   ],
   "source": [
    "bc_2019_cv_test.head()"
   ]
  },
  {
   "cell_type": "code",
   "execution_count": 102,
   "metadata": {},
   "outputs": [
    {
     "data": {
      "text/plain": [
       "(111006, 29)"
      ]
     },
     "execution_count": 102,
     "metadata": {},
     "output_type": "execute_result"
    }
   ],
   "source": [
    "# On garde que les lignes où le contrôle jointé a été fait plus de 6 jours avant\n",
    "bc_2019_cv_t = bc_2019_cv_test[bc_2019_cv_test['diff_ctrl_1'] > 6]\n",
    "bc_2019_cv_t.shape"
   ]
  },
  {
   "cell_type": "code",
   "execution_count": 103,
   "metadata": {},
   "outputs": [
    {
     "data": {
      "text/plain": [
       "(14271, 29)"
      ]
     },
     "execution_count": 103,
     "metadata": {},
     "output_type": "execute_result"
    }
   ],
   "source": [
    "# On ordonne par contrôle et par écart pour récupérer que le première ligne afin de garder le contrôle précédent le plus\n",
    "# proche à J-7\n",
    "bc_2019_cv_test = bc_2019_cv_test.sort_values(by = ['Num_Train', 'Date', 'diff_ctrl_1'], ascending = True)\n",
    "bc_2019_cv_test.drop_duplicates(subset = ['Num_Train', 'Date'], keep = 'first', inplace=True)\n",
    "bc_2019_cv_test.shape\n",
    "# On a bien autant de lignes que dans la base d'origine => ok"
   ]
  },
  {
   "cell_type": "code",
   "execution_count": 32,
   "metadata": {},
   "outputs": [
    {
     "data": {
      "text/plain": [
       "Date                          0\n",
       "Num_Train                     0\n",
       "Year                          0\n",
       "Month                         0\n",
       "15zaine_jour                  0\n",
       "Sous_Ligne                    0\n",
       "Direction_Ligne               0\n",
       "Gare_Origine                  0\n",
       "Heure_Origine                 0\n",
       "Gare_Fin                      0\n",
       "Heure_Fin                     0\n",
       "cv                            0\n",
       "jour_semaine                  0\n",
       "Sens_circulation              0\n",
       "Ligne_Presence_imposee        0\n",
       "Montant_operation             0\n",
       "Type_operation_CC BORD        0\n",
       "Type_operation_CC CONTROLE    0\n",
       "Type_operation_CC GUICHET     0\n",
       "Type_operation_PV             0\n",
       "nb_controleurs                0\n",
       "nb_control                    0\n",
       "h_x                           0\n",
       "h_y                           0\n",
       "m_x                           0\n",
       "m_y                           0\n",
       "Date_1                        0\n",
       "nb_control_1                  0\n",
       "diff_ctrl_1                   0\n",
       "dtype: int64"
      ]
     },
     "execution_count": 32,
     "metadata": {},
     "output_type": "execute_result"
    }
   ],
   "source": [
    "bc_2019_cv_test.isnull().sum(axis = 0)"
   ]
  },
  {
   "cell_type": "code",
   "execution_count": 33,
   "metadata": {},
   "outputs": [
    {
     "name": "stdout",
     "output_type": "stream",
     "text": [
      "<class 'pandas.core.frame.DataFrame'>\n",
      "Int64Index: 14271 entries, 100308 to 103419\n",
      "Data columns (total 11 columns):\n",
      "Sous_Ligne          14271 non-null object\n",
      "Gare_Origine        14271 non-null object\n",
      "Gare_Fin            14271 non-null object\n",
      "jour_semaine        14271 non-null int64\n",
      "Sens_circulation    14271 non-null int64\n",
      "nb_control          14271 non-null int64\n",
      "h_x                 14271 non-null float64\n",
      "h_y                 14271 non-null float64\n",
      "m_x                 14271 non-null float64\n",
      "m_y                 14271 non-null float64\n",
      "nb_control_1        14271 non-null int64\n",
      "dtypes: float64(4), int64(4), object(3)\n",
      "memory usage: 1.3+ MB\n"
     ]
    }
   ],
   "source": [
    "bc_2019_cv_1 = bc_2019_cv_test.drop(['Date', 'Num_Train', 'Direction_Ligne', 'Year', 'Month', '15zaine_jour', 'Heure_Origine',  \n",
    "                        'Ligne_Presence_imposee', 'Montant_operation', 'Type_operation_CC BORD', 'Type_operation_CC CONTROLE',\n",
    "                        'Type_operation_CC GUICHET', 'Type_operation_PV', 'cv', 'nb_controleurs', 'Heure_Fin', 'Date_1', \n",
    "                         'diff_ctrl_1'],\n",
    "                      axis = 1)\n",
    "bc_2019_cv_1.info()"
   ]
  },
  {
   "cell_type": "code",
   "execution_count": 20,
   "metadata": {},
   "outputs": [],
   "source": [
    "bc_2019_cv_1 = bc_2019_cv_1.join(pd.get_dummies(bc_2019_cv_1.Sous_Ligne, prefix='S_Ligne'))\n",
    "bc_2019_cv_1 = bc_2019_cv_1.join(pd.get_dummies(bc_2019_cv_1.jour_semaine, prefix='jr_semaine'))\n",
    "bc_2019_cv_1 = bc_2019_cv_1.join(pd.get_dummies(bc_2019_cv_1.Gare_Origine, prefix='Gare_Origine'))\n",
    "bc_2019_cv_1 = bc_2019_cv_1.join(pd.get_dummies(bc_2019_cv_1.Gare_Fin, prefix='Gare_Fin'))\n",
    "\n",
    "bc_2019_cv_1 = bc_2019_cv_1.drop(['Sous_Ligne', 'jour_semaine', 'Gare_Origine', 'Gare_Fin'], axis = 1)"
   ]
  },
  {
   "cell_type": "code",
   "execution_count": 21,
   "metadata": {},
   "outputs": [],
   "source": [
    "from sklearn import model_selection, preprocessing\n",
    "from sklearn.model_selection import cross_val_predict, cross_val_score, cross_validate\n",
    "from sklearn.linear_model import LinearRegression\n",
    "from sklearn.model_selection import train_test_split\n",
    "from sklearn.metrics import mean_squared_error\n",
    "from sklearn.linear_model import RidgeCV\n",
    "from sklearn.linear_model import ElasticNetCV"
   ]
  },
  {
   "cell_type": "code",
   "execution_count": 22,
   "metadata": {},
   "outputs": [],
   "source": [
    "data = bc_2019_cv_1.drop('nb_control', axis = 1)\n",
    "target = bc_2019_cv_1.nb_control\n",
    "X_train, X_test, y_train, y_test = train_test_split(data, target, test_size = 0.2)"
   ]
  },
  {
   "cell_type": "code",
   "execution_count": 23,
   "metadata": {},
   "outputs": [
    {
     "name": "stdout",
     "output_type": "stream",
     "text": [
      "Coefficient de détermination du modèle : 0.27708413178934\n"
     ]
    },
    {
     "name": "stderr",
     "output_type": "stream",
     "text": [
      "C:\\Users\\user\\Anaconda3\\lib\\site-packages\\sklearn\\model_selection\\_split.py:2053: FutureWarning: You should specify a value for 'cv' instead of relying on the default value. The default value will change from 3 to 5 in version 0.22.\n",
      "  warnings.warn(CV_WARNING, FutureWarning)\n"
     ]
    },
    {
     "name": "stdout",
     "output_type": "stream",
     "text": [
      "Coefficient de détermination obtenu par Cv : 0.23072532838756957\n",
      "Coefficient de détermination du modèle sur l'échantillon de test : 0.2765949385794024\n"
     ]
    }
   ],
   "source": [
    "lr = LinearRegression()\n",
    "lr.fit(X_train, y_train)\n",
    "\n",
    "# Coeff de détermination du modèle\n",
    "print(\"Coefficient de détermination du modèle :\", lr.score(X_train, y_train))\n",
    "print(\"Coefficient de détermination obtenu par Cv :\", cross_val_score(lr,X_train,y_train).mean())\n",
    "\n",
    "print(\"Coefficient de détermination du modèle sur l'échantillon de test :\", lr.score(X_test, y_test))"
   ]
  },
  {
   "cell_type": "code",
   "execution_count": 24,
   "metadata": {},
   "outputs": [
    {
     "name": "stdout",
     "output_type": "stream",
     "text": [
      "0.2703578212301916\n",
      "0.28023469592495176\n"
     ]
    }
   ],
   "source": [
    "# modèle ElasticNetCV\n",
    "model_en = ElasticNetCV(cv = 8, l1_ratio = (0.1, 0.25, 0.5, 0.7, 0.75, 0.8, 0.85, 0.9, 0.99), alphas= (0.001,0.01,0.02,0.025,0.05,0.1,0.25,0.5,0.8,1.0))\n",
    "model_en.fit(X_train, y_train)\n",
    "\n",
    "print(model_en.score(X_train, y_train))\n",
    "print(model_en.score(X_test, y_test))"
   ]
  },
  {
   "cell_type": "code",
   "execution_count": 34,
   "metadata": {},
   "outputs": [
    {
     "data": {
      "text/html": [
       "<div>\n",
       "<style scoped>\n",
       "    .dataframe tbody tr th:only-of-type {\n",
       "        vertical-align: middle;\n",
       "    }\n",
       "\n",
       "    .dataframe tbody tr th {\n",
       "        vertical-align: top;\n",
       "    }\n",
       "\n",
       "    .dataframe thead th {\n",
       "        text-align: right;\n",
       "    }\n",
       "</style>\n",
       "<table border=\"1\" class=\"dataframe\">\n",
       "  <thead>\n",
       "    <tr style=\"text-align: right;\">\n",
       "      <th></th>\n",
       "      <th>Date_2</th>\n",
       "      <th>Num_Train</th>\n",
       "      <th>nb_control_2</th>\n",
       "    </tr>\n",
       "  </thead>\n",
       "  <tbody>\n",
       "    <tr>\n",
       "      <th>100308</th>\n",
       "      <td>2019-05-02</td>\n",
       "      <td>23724</td>\n",
       "      <td>2</td>\n",
       "    </tr>\n",
       "    <tr>\n",
       "      <th>101589</th>\n",
       "      <td>2019-05-03</td>\n",
       "      <td>23724</td>\n",
       "      <td>1</td>\n",
       "    </tr>\n",
       "    <tr>\n",
       "      <th>136243</th>\n",
       "      <td>2019-06-18</td>\n",
       "      <td>23724</td>\n",
       "      <td>2</td>\n",
       "    </tr>\n",
       "    <tr>\n",
       "      <th>138096</th>\n",
       "      <td>2019-06-20</td>\n",
       "      <td>23724</td>\n",
       "      <td>1</td>\n",
       "    </tr>\n",
       "    <tr>\n",
       "      <th>93748</th>\n",
       "      <td>2019-04-24</td>\n",
       "      <td>23726</td>\n",
       "      <td>1</td>\n",
       "    </tr>\n",
       "  </tbody>\n",
       "</table>\n",
       "</div>"
      ],
      "text/plain": [
       "           Date_2  Num_Train  nb_control_2\n",
       "100308 2019-05-02      23724             2\n",
       "101589 2019-05-03      23724             1\n",
       "136243 2019-06-18      23724             2\n",
       "138096 2019-06-20      23724             1\n",
       "93748  2019-04-24      23726             1"
      ]
     },
     "execution_count": 34,
     "metadata": {},
     "output_type": "execute_result"
    }
   ],
   "source": [
    "# On veut récupérer le contrôle précédent le contrôle précédent\n",
    "bc_moins_2 = (bc_2019_cv_test[['Date', 'Num_Train', 'nb_control']])\n",
    "bc_moins_2.columns = ['Date_2', 'Num_Train', 'nb_control_2']\n",
    "bc_moins_2.head()"
   ]
  },
  {
   "cell_type": "code",
   "execution_count": 104,
   "metadata": {},
   "outputs": [
    {
     "data": {
      "text/plain": [
       "(14013, 32)"
      ]
     },
     "execution_count": 104,
     "metadata": {},
     "output_type": "execute_result"
    }
   ],
   "source": [
    "# jointure\n",
    "bc_2019_cv_test = bc_2019_cv_test.merge(right = bc_moins_2, on = ['Num_Train'], how = 'left')\n",
    "\n",
    "# Diff du contrôle jointé avec le contrôle précédent\n",
    "bc_2019_cv_test['diff_ctrl_test'] = bc_2019_cv_test['Date_1'] - bc_2019_cv_test['Date_2']\n",
    "# récupération de l'écart en int\n",
    "bc_2019_cv_test['diff_ctrl_2'] = bc_2019_cv_test['diff_ctrl_test'].apply(lambda x: x / np.timedelta64(1, 'D'))\n",
    "bc_2019_cv_test['diff_ctrl_2'] = bc_2019_cv_test['diff_ctrl_2'].astype('int')\n",
    "\n",
    "# suppression de la variable temporaire\n",
    "bc_2019_cv_test = bc_2019_cv_test.drop(['diff_ctrl_test'], axis = 1)\n",
    "\n",
    "# On garde les contrôles qui ont été effectués avant le contrôle précédent (pas besoin de garder J-7 car vu que le contrôle \n",
    "# d'avant est déjà à J-7 => on aura tout ce qui s'est passé avant)\n",
    "bc_2019_cv_test = bc_2019_cv_test[bc_2019_cv_test['diff_ctrl_2'] > 0]\n",
    "\n",
    "# On ordonne pour garder que le contrôle le plus proche du contrôle précédent\n",
    "bc_2019_cv_test = bc_2019_cv_test.sort_values(by = ['Num_Train', 'Date', 'diff_ctrl_2'], ascending = True)\n",
    "bc_2019_cv_test.drop_duplicates(subset = ['Num_Train', 'Date'], keep = 'first', inplace=True)\n",
    "\n",
    "bc_2019_cv_test.shape\n",
    "\n",
    "# Un peu moins de lignes => elle ont dû être supprimées lors du filtre sur l'écart >0 => des trains ne doivent pas avoir\n",
    "# assez d'historique"
   ]
  },
  {
   "cell_type": "code",
   "execution_count": 36,
   "metadata": {},
   "outputs": [
    {
     "data": {
      "text/plain": [
       "Date                          0\n",
       "Num_Train                     0\n",
       "Year                          0\n",
       "Month                         0\n",
       "15zaine_jour                  0\n",
       "Sous_Ligne                    0\n",
       "Direction_Ligne               0\n",
       "Gare_Origine                  0\n",
       "Heure_Origine                 0\n",
       "Gare_Fin                      0\n",
       "Heure_Fin                     0\n",
       "cv                            0\n",
       "jour_semaine                  0\n",
       "Sens_circulation              0\n",
       "Ligne_Presence_imposee        0\n",
       "Montant_operation             0\n",
       "Type_operation_CC BORD        0\n",
       "Type_operation_CC CONTROLE    0\n",
       "Type_operation_CC GUICHET     0\n",
       "Type_operation_PV             0\n",
       "nb_controleurs                0\n",
       "nb_control                    0\n",
       "h_x                           0\n",
       "h_y                           0\n",
       "m_x                           0\n",
       "m_y                           0\n",
       "Date_1                        0\n",
       "nb_control_1                  0\n",
       "diff_ctrl_1                   0\n",
       "Date_2                        0\n",
       "nb_control_2                  0\n",
       "diff_ctrl_2                   0\n",
       "dtype: int64"
      ]
     },
     "execution_count": 36,
     "metadata": {},
     "output_type": "execute_result"
    }
   ],
   "source": [
    "bc_2019_cv_test.isnull().sum(axis = 0)"
   ]
  },
  {
   "cell_type": "code",
   "execution_count": 37,
   "metadata": {},
   "outputs": [
    {
     "name": "stdout",
     "output_type": "stream",
     "text": [
      "<class 'pandas.core.frame.DataFrame'>\n",
      "Int64Index: 14013 entries, 2 to 244123\n",
      "Data columns (total 12 columns):\n",
      "Sous_Ligne          14013 non-null object\n",
      "Gare_Origine        14013 non-null object\n",
      "Gare_Fin            14013 non-null object\n",
      "jour_semaine        14013 non-null int64\n",
      "Sens_circulation    14013 non-null int64\n",
      "nb_control          14013 non-null int64\n",
      "h_x                 14013 non-null float64\n",
      "h_y                 14013 non-null float64\n",
      "m_x                 14013 non-null float64\n",
      "m_y                 14013 non-null float64\n",
      "nb_control_1        14013 non-null int64\n",
      "nb_control_2        14013 non-null int64\n",
      "dtypes: float64(4), int64(5), object(3)\n",
      "memory usage: 1.4+ MB\n"
     ]
    }
   ],
   "source": [
    "bc_2019_cv_2 = bc_2019_cv_test.drop(['Date', 'Num_Train', 'Direction_Ligne', 'Year', 'Month', '15zaine_jour', 'Heure_Origine',  \n",
    "                        'Ligne_Presence_imposee', 'Montant_operation', 'Type_operation_CC BORD', 'Type_operation_CC CONTROLE',\n",
    "                        'Type_operation_CC GUICHET', 'Type_operation_PV', 'cv', 'nb_controleurs', 'Heure_Fin', 'Date_1', \n",
    "                         'diff_ctrl_1', 'diff_ctrl_2', 'Date_2'],\n",
    "                      axis = 1)\n",
    "bc_2019_cv_2.info()"
   ]
  },
  {
   "cell_type": "code",
   "execution_count": 38,
   "metadata": {},
   "outputs": [],
   "source": [
    "bc_2019_cv_2 = bc_2019_cv_2.join(pd.get_dummies(bc_2019_cv_2.Sous_Ligne, prefix='S_Ligne'))\n",
    "bc_2019_cv_2 = bc_2019_cv_2.join(pd.get_dummies(bc_2019_cv_2.jour_semaine, prefix='jr_semaine'))\n",
    "bc_2019_cv_2 = bc_2019_cv_2.join(pd.get_dummies(bc_2019_cv_2.Gare_Origine, prefix='Gare_Origine'))\n",
    "bc_2019_cv_2 = bc_2019_cv_2.join(pd.get_dummies(bc_2019_cv_2.Gare_Fin, prefix='Gare_Fin'))\n",
    "\n",
    "bc_2019_cv_2 = bc_2019_cv_2.drop(['Sous_Ligne', 'jour_semaine', 'Gare_Origine', 'Gare_Fin'], axis = 1)"
   ]
  },
  {
   "cell_type": "code",
   "execution_count": 39,
   "metadata": {},
   "outputs": [],
   "source": [
    "data = bc_2019_cv_2.drop('nb_control', axis = 1)\n",
    "target = bc_2019_cv_2.nb_control\n",
    "X_train, X_test, y_train, y_test = train_test_split(data, target, test_size = 0.2)"
   ]
  },
  {
   "cell_type": "code",
   "execution_count": 40,
   "metadata": {},
   "outputs": [
    {
     "name": "stdout",
     "output_type": "stream",
     "text": [
      "Coefficient de détermination du modèle : 0.300392135266074\n"
     ]
    },
    {
     "name": "stderr",
     "output_type": "stream",
     "text": [
      "C:\\Users\\user\\Anaconda3\\lib\\site-packages\\sklearn\\model_selection\\_split.py:2053: FutureWarning: You should specify a value for 'cv' instead of relying on the default value. The default value will change from 3 to 5 in version 0.22.\n",
      "  warnings.warn(CV_WARNING, FutureWarning)\n"
     ]
    },
    {
     "name": "stdout",
     "output_type": "stream",
     "text": [
      "Coefficient de détermination obtenu par Cv : 0.2659795352721644\n",
      "Coefficient de détermination du modèle sur l'échantillon de test : 0.293301016055437\n"
     ]
    }
   ],
   "source": [
    "lr = LinearRegression()\n",
    "lr.fit(X_train, y_train)\n",
    "\n",
    "# Coeff de détermination du modèle\n",
    "print(\"Coefficient de détermination du modèle :\", lr.score(X_train, y_train))\n",
    "print(\"Coefficient de détermination obtenu par Cv :\", cross_val_score(lr,X_train,y_train).mean())\n",
    "\n",
    "print(\"Coefficient de détermination du modèle sur l'échantillon de test :\", lr.score(X_test, y_test))"
   ]
  },
  {
   "cell_type": "code",
   "execution_count": 41,
   "metadata": {},
   "outputs": [
    {
     "name": "stdout",
     "output_type": "stream",
     "text": [
      "0.294794380441013\n",
      "0.30082154127317706\n"
     ]
    }
   ],
   "source": [
    "# modèle ElasticNetCV\n",
    "model_en = ElasticNetCV(cv = 8, l1_ratio = (0.1, 0.25, 0.5, 0.7, 0.75, 0.8, 0.85, 0.9, 0.99), alphas= (0.001,0.01,0.02,0.025,0.05,0.1,0.25,0.5,0.8,1.0))\n",
    "model_en.fit(X_train, y_train)\n",
    "\n",
    "print(model_en.score(X_train, y_train))\n",
    "print(model_en.score(X_test, y_test))"
   ]
  },
  {
   "cell_type": "code",
   "execution_count": 42,
   "metadata": {},
   "outputs": [
    {
     "data": {
      "text/html": [
       "<div>\n",
       "<style scoped>\n",
       "    .dataframe tbody tr th:only-of-type {\n",
       "        vertical-align: middle;\n",
       "    }\n",
       "\n",
       "    .dataframe tbody tr th {\n",
       "        vertical-align: top;\n",
       "    }\n",
       "\n",
       "    .dataframe thead th {\n",
       "        text-align: right;\n",
       "    }\n",
       "</style>\n",
       "<table border=\"1\" class=\"dataframe\">\n",
       "  <thead>\n",
       "    <tr style=\"text-align: right;\">\n",
       "      <th></th>\n",
       "      <th>Date_3</th>\n",
       "      <th>Num_Train</th>\n",
       "      <th>nb_control_3</th>\n",
       "    </tr>\n",
       "  </thead>\n",
       "  <tbody>\n",
       "    <tr>\n",
       "      <th>2</th>\n",
       "      <td>2019-05-02</td>\n",
       "      <td>23724</td>\n",
       "      <td>2</td>\n",
       "    </tr>\n",
       "    <tr>\n",
       "      <th>6</th>\n",
       "      <td>2019-05-03</td>\n",
       "      <td>23724</td>\n",
       "      <td>1</td>\n",
       "    </tr>\n",
       "    <tr>\n",
       "      <th>10</th>\n",
       "      <td>2019-06-18</td>\n",
       "      <td>23724</td>\n",
       "      <td>2</td>\n",
       "    </tr>\n",
       "    <tr>\n",
       "      <th>14</th>\n",
       "      <td>2019-06-20</td>\n",
       "      <td>23724</td>\n",
       "      <td>1</td>\n",
       "    </tr>\n",
       "    <tr>\n",
       "      <th>16</th>\n",
       "      <td>2019-04-24</td>\n",
       "      <td>23726</td>\n",
       "      <td>1</td>\n",
       "    </tr>\n",
       "  </tbody>\n",
       "</table>\n",
       "</div>"
      ],
      "text/plain": [
       "       Date_3  Num_Train  nb_control_3\n",
       "2  2019-05-02      23724             2\n",
       "6  2019-05-03      23724             1\n",
       "10 2019-06-18      23724             2\n",
       "14 2019-06-20      23724             1\n",
       "16 2019-04-24      23726             1"
      ]
     },
     "execution_count": 42,
     "metadata": {},
     "output_type": "execute_result"
    }
   ],
   "source": [
    "# On réitère l'opération afin d'avoir en tout 3 résultats de nb d'opération d'historique par train\n",
    "bc_moins_3 = (bc_2019_cv_test[['Date', 'Num_Train', 'nb_control']])\n",
    "bc_moins_3.columns = ['Date_3', 'Num_Train', 'nb_control_3']\n",
    "bc_moins_3.head()"
   ]
  },
  {
   "cell_type": "code",
   "execution_count": 105,
   "metadata": {},
   "outputs": [
    {
     "data": {
      "text/plain": [
       "(13617, 35)"
      ]
     },
     "execution_count": 105,
     "metadata": {},
     "output_type": "execute_result"
    }
   ],
   "source": [
    "bc_2019_cv_test = bc_2019_cv_test.merge(right = bc_moins_3, on = ['Num_Train'], how = 'left')\n",
    "\n",
    "bc_2019_cv_test['diff_ctrl_test'] = bc_2019_cv_test['Date_2'] - bc_2019_cv_test['Date_3']\n",
    "bc_2019_cv_test['diff_ctrl_3'] = bc_2019_cv_test['diff_ctrl_test'].apply(lambda x: x / np.timedelta64(1, 'D'))\n",
    "bc_2019_cv_test['diff_ctrl_3'] = bc_2019_cv_test['diff_ctrl_3'].astype('int')\n",
    "\n",
    "\n",
    "bc_2019_cv_test = bc_2019_cv_test.drop(['diff_ctrl_test'], axis = 1)\n",
    "\n",
    "bc_2019_cv_test = bc_2019_cv_test[bc_2019_cv_test['diff_ctrl_3'] > 0]\n",
    "\n",
    "bc_2019_cv_test = bc_2019_cv_test.sort_values(by = ['Num_Train', 'Date', 'diff_ctrl_3'], ascending = True)\n",
    "bc_2019_cv_test.drop_duplicates(subset = ['Num_Train', 'Date'], keep = 'first', inplace=True)\n",
    "\n",
    "bc_2019_cv_test.shape"
   ]
  },
  {
   "cell_type": "code",
   "execution_count": 44,
   "metadata": {},
   "outputs": [
    {
     "name": "stdout",
     "output_type": "stream",
     "text": [
      "<class 'pandas.core.frame.DataFrame'>\n",
      "Int64Index: 13617 entries, 1 to 243860\n",
      "Data columns (total 13 columns):\n",
      "Sous_Ligne          13617 non-null object\n",
      "Gare_Origine        13617 non-null object\n",
      "Gare_Fin            13617 non-null object\n",
      "jour_semaine        13617 non-null int64\n",
      "Sens_circulation    13617 non-null int64\n",
      "nb_control          13617 non-null int64\n",
      "h_x                 13617 non-null float64\n",
      "h_y                 13617 non-null float64\n",
      "m_x                 13617 non-null float64\n",
      "m_y                 13617 non-null float64\n",
      "nb_control_1        13617 non-null int64\n",
      "nb_control_2        13617 non-null int64\n",
      "nb_control_3        13617 non-null int64\n",
      "dtypes: float64(4), int64(6), object(3)\n",
      "memory usage: 1.5+ MB\n"
     ]
    }
   ],
   "source": [
    "bc_2019_cv_3 = bc_2019_cv_test.drop(['Date', 'Num_Train', 'Direction_Ligne', 'Year', 'Month', '15zaine_jour', 'Heure_Origine',  \n",
    "                        'Ligne_Presence_imposee', 'Montant_operation', 'Type_operation_CC BORD', 'Type_operation_CC CONTROLE',\n",
    "                        'Type_operation_CC GUICHET', 'Type_operation_PV', 'cv', 'nb_controleurs', 'Heure_Fin', 'Date_1', \n",
    "                         'diff_ctrl_1', 'diff_ctrl_2', 'Date_2', 'diff_ctrl_3', 'Date_3'],\n",
    "                      axis = 1)\n",
    "bc_2019_cv_3.info()"
   ]
  },
  {
   "cell_type": "code",
   "execution_count": 45,
   "metadata": {},
   "outputs": [],
   "source": [
    "bc_2019_cv_3 = bc_2019_cv_3.join(pd.get_dummies(bc_2019_cv_3.Sous_Ligne, prefix='S_Ligne'))\n",
    "bc_2019_cv_3 = bc_2019_cv_3.join(pd.get_dummies(bc_2019_cv_3.jour_semaine, prefix='jr_semaine'))\n",
    "bc_2019_cv_3 = bc_2019_cv_3.join(pd.get_dummies(bc_2019_cv_3.Gare_Origine, prefix='Gare_Origine'))\n",
    "bc_2019_cv_3 = bc_2019_cv_3.join(pd.get_dummies(bc_2019_cv_3.Gare_Fin, prefix='Gare_Fin'))\n",
    "\n",
    "bc_2019_cv_3 = bc_2019_cv_3.drop(['Sous_Ligne', 'jour_semaine', 'Gare_Origine', 'Gare_Fin'], axis = 1)"
   ]
  },
  {
   "cell_type": "code",
   "execution_count": 46,
   "metadata": {},
   "outputs": [],
   "source": [
    "data = bc_2019_cv_3.drop('nb_control', axis = 1)\n",
    "target = bc_2019_cv_3.nb_control\n",
    "X_train, X_test, y_train, y_test = train_test_split(data, target, test_size = 0.2)"
   ]
  },
  {
   "cell_type": "code",
   "execution_count": 47,
   "metadata": {},
   "outputs": [
    {
     "name": "stdout",
     "output_type": "stream",
     "text": [
      "Coefficient de détermination du modèle : 0.32048569701008056\n"
     ]
    },
    {
     "name": "stderr",
     "output_type": "stream",
     "text": [
      "C:\\Users\\user\\Anaconda3\\lib\\site-packages\\sklearn\\model_selection\\_split.py:2053: FutureWarning: You should specify a value for 'cv' instead of relying on the default value. The default value will change from 3 to 5 in version 0.22.\n",
      "  warnings.warn(CV_WARNING, FutureWarning)\n"
     ]
    },
    {
     "name": "stdout",
     "output_type": "stream",
     "text": [
      "Coefficient de détermination obtenu par Cv : 0.28875850142818427\n",
      "Coefficient de détermination du modèle sur l'échantillon de test : 0.24953653110986396\n"
     ]
    }
   ],
   "source": [
    "lr = LinearRegression()\n",
    "lr.fit(X_train, y_train)\n",
    "\n",
    "# Coeff de détermination du modèle\n",
    "print(\"Coefficient de détermination du modèle :\", lr.score(X_train, y_train))\n",
    "print(\"Coefficient de détermination obtenu par Cv :\", cross_val_score(lr,X_train,y_train).mean())\n",
    "\n",
    "print(\"Coefficient de détermination du modèle sur l'échantillon de test :\", lr.score(X_test, y_test))"
   ]
  },
  {
   "cell_type": "code",
   "execution_count": 48,
   "metadata": {},
   "outputs": [
    {
     "name": "stdout",
     "output_type": "stream",
     "text": [
      "0.31706705353033393\n",
      "0.25817872797806873\n"
     ]
    }
   ],
   "source": [
    "# modèle ElasticNetCV\n",
    "model_en = ElasticNetCV(cv = 8, l1_ratio = (0.1, 0.25, 0.5, 0.7, 0.75, 0.8, 0.85, 0.9, 0.99), alphas= (0.001,0.01,0.02,0.025,0.05,0.1,0.25,0.5,0.8,1.0))\n",
    "model_en.fit(X_train, y_train)\n",
    "\n",
    "print(model_en.score(X_train, y_train))\n",
    "print(model_en.score(X_test, y_test))"
   ]
  },
  {
   "cell_type": "code",
   "execution_count": 49,
   "metadata": {},
   "outputs": [
    {
     "data": {
      "image/png": "[encoded data removed]",
      "text/plain": [
       "<Figure size 432x288 with 1 Axes>"
      ]
     },
     "metadata": {
      "needs_background": "light"
     },
     "output_type": "display_data"
    }
   ],
   "source": [
    "sns.kdeplot(bc_2019_cv_test.nb_control, shade = True, cut=0);"
   ]
  },
  {
   "cell_type": "code",
   "execution_count": 107,
   "metadata": {},
   "outputs": [
    {
     "data": {
      "image/png": "[encoded data removed]",
      "text/plain": [
       "<Figure size 432x288 with 1 Axes>"
      ]
     },
     "metadata": {
      "needs_background": "light"
     },
     "output_type": "display_data"
    }
   ],
   "source": [
    "bc_2019_cv_test['nb_control_log'] = np.log(bc_2019_cv_test['nb_control'])\n",
    "sns.kdeplot(bc_2019_cv_test.nb_control_log, shade = True, cut=0);"
   ]
  },
  {
   "cell_type": "code",
   "execution_count": 53,
   "metadata": {},
   "outputs": [
    {
     "name": "stdout",
     "output_type": "stream",
     "text": [
      "<class 'pandas.core.frame.DataFrame'>\n",
      "Int64Index: 13617 entries, 1 to 243860\n",
      "Data columns (total 13 columns):\n",
      "Sous_Ligne          13617 non-null object\n",
      "Gare_Origine        13617 non-null object\n",
      "Gare_Fin            13617 non-null object\n",
      "jour_semaine        13617 non-null int64\n",
      "Sens_circulation    13617 non-null int64\n",
      "h_x                 13617 non-null float64\n",
      "h_y                 13617 non-null float64\n",
      "m_x                 13617 non-null float64\n",
      "m_y                 13617 non-null float64\n",
      "nb_control_1        13617 non-null int64\n",
      "nb_control_2        13617 non-null int64\n",
      "nb_control_3        13617 non-null int64\n",
      "nb_control_log      13617 non-null float64\n",
      "dtypes: float64(5), int64(5), object(3)\n",
      "memory usage: 2.1+ MB\n"
     ]
    }
   ],
   "source": [
    "bc_2019_cv_4 = bc_2019_cv_test.drop(['Date', 'Num_Train', 'Direction_Ligne', 'Year', 'Month', '15zaine_jour', 'Heure_Origine',  \n",
    "                        'Ligne_Presence_imposee', 'Montant_operation', 'Type_operation_CC BORD', 'Type_operation_CC CONTROLE',\n",
    "                        'Type_operation_CC GUICHET', 'Type_operation_PV', 'cv', 'nb_controleurs', 'Heure_Fin', 'Date_1', \n",
    "                         'diff_ctrl_1', 'diff_ctrl_2', 'Date_2', 'diff_ctrl_3', 'Date_3', 'nb_control'],\n",
    "                      axis = 1)\n",
    "bc_2019_cv_4.info()"
   ]
  },
  {
   "cell_type": "code",
   "execution_count": 54,
   "metadata": {},
   "outputs": [],
   "source": [
    "bc_2019_cv_4 = bc_2019_cv_4.join(pd.get_dummies(bc_2019_cv_4.Sous_Ligne, prefix='S_Ligne'))\n",
    "bc_2019_cv_4 = bc_2019_cv_4.join(pd.get_dummies(bc_2019_cv_4.jour_semaine, prefix='jr_semaine'))\n",
    "bc_2019_cv_4 = bc_2019_cv_4.join(pd.get_dummies(bc_2019_cv_4.Gare_Origine, prefix='Gare_Origine'))\n",
    "bc_2019_cv_4 = bc_2019_cv_4.join(pd.get_dummies(bc_2019_cv_4.Gare_Fin, prefix='Gare_Fin'))\n",
    "\n",
    "bc_2019_cv_4 = bc_2019_cv_4.drop(['Sous_Ligne', 'jour_semaine', 'Gare_Origine', 'Gare_Fin'], axis = 1)"
   ]
  },
  {
   "cell_type": "code",
   "execution_count": 59,
   "metadata": {},
   "outputs": [],
   "source": [
    "data = bc_2019_cv_4.drop('nb_control_log', axis = 1)\n",
    "target = bc_2019_cv_4.nb_control_log\n",
    "X_train, X_test, y_train, y_test = train_test_split(data, target, test_size = 0.2)"
   ]
  },
  {
   "cell_type": "code",
   "execution_count": 58,
   "metadata": {},
   "outputs": [],
   "source": [
    "import statsmodels.api as sm"
   ]
  },
  {
   "cell_type": "code",
   "execution_count": 70,
   "metadata": {},
   "outputs": [
    {
     "name": "stdout",
     "output_type": "stream",
     "text": [
      "                 Generalized Linear Model Regression Results                  \n",
      "==============================================================================\n",
      "Dep. Variable:         nb_control_log   No. Observations:                10893\n",
      "Model:                            GLM   Df Residuals:                    10689\n",
      "Model Family:                Gaussian   Df Model:                          203\n",
      "Link Function:               identity   Scale:                         0.39992\n",
      "Method:                          IRLS   Log-Likelihood:                -10362.\n",
      "Date:                Sun, 09 May 2021   Deviance:                       4274.7\n",
      "Time:                        20:22:41   Pearson chi2:                 4.27e+03\n",
      "No. Iterations:                     3   Covariance Type:             nonrobust\n",
      "=========================================================================================================================================\n",
      "                                                                            coef    std err          z      P>|z|      [0.025      0.975]\n",
      "-----------------------------------------------------------------------------------------------------------------------------------------\n",
      "const                                                                     0.4377      0.069      6.354      0.000       0.303       0.573\n",
      "Sens_circulation                                                         -0.0044      0.038     -0.117      0.907      -0.078       0.069\n",
      "h_x                                                                      -0.0607      0.009     -6.535      0.000      -0.079      -0.043\n",
      "h_y                                                                      -0.0923      0.016     -5.702      0.000      -0.124      -0.061\n",
      "m_x                                                                       0.0295      0.008      3.483      0.000       0.013       0.046\n",
      "m_y                                                                       0.0001      0.009      0.011      0.991      -0.018       0.018\n",
      "nb_control_1                                                              0.0381      0.003     13.658      0.000       0.033       0.044\n",
      "nb_control_2                                                              0.0420      0.003     15.453      0.000       0.037       0.047\n",
      "nb_control_3                                                              0.0291      0.003     11.328      0.000       0.024       0.034\n",
      "S_Ligne_Belfort Ã¢ÂÂ Mulhouse                                           0.2222      0.208      1.070      0.284      -0.185       0.629\n",
      "S_Ligne_Champagne Ardenne TGV - Reims - Chalons- St Dizier               -0.0916      0.325     -0.282      0.778      -0.729       0.546\n",
      "S_Ligne_Charleville-MÃÂ©ziÃÂ¨res Ã¢ÂÂ Sedan Ã¢ÂÂ Longwy             0.3034      0.564      0.538      0.590      -0.801       1.408\n",
      "S_Ligne_ChÃÂ¢lons-en-Champagne Ã¢ÂÂ Saint-Dizier                      -0.1735      0.483     -0.359      0.719      -1.120       0.773\n",
      "S_Ligne_Epinal - Nancy - Metz                                             0.3201      0.466      0.686      0.492      -0.594       1.234\n",
      "S_Ligne_Givet Ã¢ÂÂ Charleville-MÃÂ©ziÃÂ¨res                           0.2164      0.227      0.954      0.340      -0.228       0.661\n",
      "S_Ligne_Kruth Ã¢ÂÂ Mulhouse                                            -0.7404      0.533     -1.389      0.165      -1.785       0.304\n",
      "S_Ligne_Lauterbourg Ã¢ÂÂ Strasbourg                                    -0.2450      0.174     -1.408      0.159      -0.586       0.096\n",
      "S_Ligne_Metz - Nancy - Bar Le Duc - Chalons - Epernay                     0.0577      0.191      0.302      0.763      -0.317       0.432\n",
      "S_Ligne_Metz Ã¢ÂÂ Forbach-SBK                                           0.3602      0.469      0.768      0.442      -0.559       1.280\n",
      "S_Ligne_Metz Ã¢ÂÂ Nancy - Thionville                                   -0.0062      0.446     -0.014      0.989      -0.881       0.869\n",
      "S_Ligne_Metz Ã¢ÂÂ Sarrebourg                                           -0.2052      0.572     -0.359      0.720      -1.326       0.915\n",
      "S_Ligne_Metz Ã¢ÂÂ Sarreguemines                                        -0.2177      0.230     -0.948      0.343      -0.668       0.232\n",
      "S_Ligne_Metz Ã¢ÂÂ Verdun (via Hagondange)                               0.1528      0.221      0.692      0.489      -0.280       0.585\n",
      "S_Ligne_Metzeral Ã¢ÂÂ Colmar                                            0.0162      0.131      0.124      0.901      -0.240       0.272\n",
      "S_Ligne_Molsheim Ã¢ÂÂ Strasbourg                                       -0.1532      0.105     -1.464      0.143      -0.358       0.052\n",
      "S_Ligne_Nancy Ã¢ÂÂ Bar-le-Duc Ã¢ÂÂ Revigny                            0.5613      0.482      1.165      0.244      -0.383       1.506\n",
      "S_Ligne_Nancy Ã¢ÂÂ Longwy                                               0.2777      0.221      1.256      0.209      -0.155       0.711\n",
      "S_Ligne_Nancy Ã¢ÂÂ LunÃÂ©ville                                         0.4802      0.247      1.944      0.052      -0.004       0.964\n",
      "S_Ligne_Nancy Ã¢ÂÂ LunÃÂ©ville Ã¢ÂÂ Saint-DiÃÂ©-des-Vosges          0.6521      0.325      2.007      0.045       0.015       1.289\n",
      "S_Ligne_Nancy Ã¢ÂÂ Metz                                                 0.3817      0.327      1.167      0.243      -0.259       1.023\n",
      "S_Ligne_Nancy Ã¢ÂÂ Metz Ã¢ÂÂ Lux                                      0.3597      0.151      2.383      0.017       0.064       0.656\n",
      "S_Ligne_Nancy Ã¢ÂÂ NeufchÃÂ¢teau                                       0.3281      0.267      1.229      0.219      -0.195       0.851\n",
      "S_Ligne_Nancy Ã¢ÂÂ RÃÂ©ding Ã¢ÂÂ Strasbourg                          0.3235      0.359      0.902      0.367      -0.380       1.027\n",
      "S_Ligne_Nancy Ã¢ÂÂ ÃÂpinal Ã¢ÂÂ Remiremont                          0.1835      0.282      0.651      0.515      -0.369       0.736\n",
      "S_Ligne_Niederbronn-les-Bains Ã¢ÂÂ Haguenau (Ã¢ÂÂ Strasbourg)        -0.0210      0.136     -0.155      0.877      -0.287       0.245\n",
      "S_Ligne_Paris Est Ã¢ÂÂ St-Dizier/Strasbourg                             0.0206      0.193      0.107      0.915      -0.358       0.399\n",
      "S_Ligne_Paris Est Ã¢ÂÂ Troyes - Mulhouse                                0.0164      0.451      0.036      0.971      -0.868       0.901\n",
      "S_Ligne_Reims - Champagne Ardenne TGV                                    -0.3654      0.621     -0.589      0.556      -1.582       0.851\n",
      "S_Ligne_Reims Ã¢ÂÂ ChÃÂ¢lons-en-Champagne                              0.0796      0.266      0.299      0.765      -0.443       0.602\n",
      "S_Ligne_Reims Ã¢ÂÂ Dijon                                               -0.1399      0.291     -0.480      0.631      -0.711       0.431\n",
      "S_Ligne_Reims Ã¢ÂÂ Fismes Ã¢ÂÂ La FertÃÂ©-Milon Ã¢ÂÂ Paris-Est    -0.1523      0.257     -0.592      0.554      -0.656       0.352\n",
      "S_Ligne_Reims Ã¢ÂÂ Laon                                                 0.1348      0.260      0.518      0.604      -0.375       0.645\n",
      "S_Ligne_Reims Ã¢ÂÂ ÃÂpernay                                           0.3025      0.477      0.634      0.526      -0.633       1.237\n",
      "S_Ligne_Saint-DiÃÂ©-des-Vosges Ã¢ÂÂ Strasbourg                        -0.2374      0.214     -1.109      0.267      -0.657       0.182\n",
      "S_Ligne_Sarrebourg Ã¢ÂÂ Strasbourg                                     -0.4068      0.510     -0.798      0.425      -1.405       0.592\n",
      "S_Ligne_Strasbourg - Molsheim                                            -0.3056      0.113     -2.694      0.007      -0.528      -0.083\n",
      "S_Ligne_Strasbourg -Offenburg - Mulhouse-MÃÂ¼llheim                     -0.4850      0.192     -2.527      0.011      -0.861      -0.109\n",
      "S_Ligne_Strasbourg Ã¢ÂÂ Metz                                           -0.6449      0.421     -1.530      0.126      -1.471       0.181\n",
      "S_Ligne_Strasbourg Ã¢ÂÂ Mulhouse                                       -0.1894      0.433     -0.437      0.662      -1.038       0.659\n",
      "S_Ligne_Strasbourg Ã¢ÂÂ SÃÂ©lestat Ã¢ÂÂ Colmar Ã¢ÂÂ Mulhouse      -0.2750      0.169     -1.622      0.105      -0.607       0.057\n",
      "S_Ligne_SÃÂ©lestat Ã¢ÂÂ Molsheim (Ã¢ÂÂ Strasbourg)                   0.0187      0.169      0.111      0.912      -0.313       0.350\n",
      "S_Ligne_TERÃÂ Strasbourg-Mulhouse-BÃÂ¢le                                0.2014      0.214      0.941      0.347      -0.218       0.621\n",
      "S_Ligne_Thionville Ã¢ÂÂ Longuyon Ã¢ÂÂ Longwy                          0.0786      0.199      0.395      0.693      -0.312       0.469\n",
      "S_Ligne_Tram-train Thann Ã¢ÂÂ Mulhouse                                 -0.0313      0.150     -0.209      0.835      -0.326       0.263\n",
      "S_Ligne_Travaux                                                           0.1604      0.310      0.517      0.605      -0.447       0.768\n",
      "S_Ligne_Wissembourg Ã¢ÂÂ Strasbourg                                    -0.2375      0.456     -0.520      0.603      -1.132       0.657\n",
      "S_Ligne_Wissembourg-Neustadt et Lauterbourg-Woerth                       -0.4477      0.181     -2.476      0.013      -0.802      -0.093\n",
      "jr_semaine_0                                                              0.0304      0.017      1.754      0.080      -0.004       0.064\n",
      "jr_semaine_1                                                             -0.0058      0.017     -0.336      0.737      -0.040       0.028\n",
      "jr_semaine_2                                                              0.0462      0.018      2.615      0.009       0.012       0.081\n",
      "jr_semaine_3                                                             -0.0468      0.018     -2.654      0.008      -0.081      -0.012\n",
      "jr_semaine_4                                                              0.0718      0.018      4.012      0.000       0.037       0.107\n",
      "jr_semaine_5                                                              0.2297      0.021     11.081      0.000       0.189       0.270\n",
      "jr_semaine_6                                                              0.1122      0.022      5.097      0.000       0.069       0.155\n",
      "Gare_Origine_Bar-le-Duc                                                   0.0161      0.324      0.050      0.960      -0.618       0.651\n",
      "Gare_Origine_Barr                                                        -0.2187      0.092     -2.367      0.018      -0.400      -0.038\n",
      "Gare_Origine_Basel SBB                                                   -0.1562      0.162     -0.963      0.335      -0.474       0.162\n",
      "Gare_Origine_Belfort                                                     -0.1394      0.156     -0.894      0.371      -0.445       0.166\n",
      "Gare_Origine_CHALONS EN CHAMPAGNE                                         0.1248      0.255      0.489      0.625      -0.375       0.625\n",
      "Gare_Origine_CHAMPAGNE ARDENNE TGV                                        0.3777      0.457      0.826      0.409      -0.519       1.274\n",
      "Gare_Origine_CHARLEVILLE M                                               -0.5949      0.422     -1.409      0.159      -1.422       0.232\n",
      "Gare_Origine_Champagne-Ardenne TGV                                       -0.2430      0.393     -0.618      0.537      -1.014       0.528\n",
      "Gare_Origine_Charleville-MÃÂÃÂ©ziÃÂÃÂ¨res                           0.0373      0.375      0.100      0.921      -0.697       0.772\n",
      "Gare_Origine_ChÃÂÃÂ¢lons-en-Champagne                                 -0.1130      0.301     -0.375      0.708      -0.704       0.478\n",
      "Gare_Origine_Colmar                                                       0.0181      0.133      0.136      0.891      -0.242       0.278\n",
      "Gare_Origine_Fismes                                                      -0.0521      0.287     -0.182      0.856      -0.614       0.510\n",
      "Gare_Origine_Forbach                                                     -0.7638      0.667     -1.146      0.252      -2.071       0.543\n",
      "Gare_Origine_Gare de Bar-le-Duc                                           0.2498      0.275      0.910      0.363      -0.288       0.788\n",
      "Gare_Origine_Gare de Basel-SBB                                            0.5504      0.517      1.066      0.287      -0.462       1.563\n",
      "Gare_Origine_Gare de Belfort-Ville                                        0.7589      0.450      1.686      0.092      -0.123       1.641\n",
      "Gare_Origine_Gare de Bening                                              -0.3407      0.379     -0.898      0.369      -1.084       0.403\n",
      "Gare_Origine_Gare de Bettembourg                                          0.1893      0.189      1.000      0.318      -0.182       0.561\n",
      "Gare_Origine_Gare de Charleville-MÃÂÃÂ©ziÃÂÃÂ¨res                  -0.2932      0.442     -0.664      0.507      -1.159       0.572\n",
      "Gare_Origine_Gare de Chaumont                                            -0.7341      0.620     -1.184      0.236      -1.949       0.481\n",
      "Gare_Origine_Gare de ChÃÂÃÂ¢lons-en-Champagne                          0.0428      0.258      0.166      0.868      -0.463       0.549\n",
      "Gare_Origine_Gare de Colmar                                               0.7638      0.504      1.515      0.130      -0.224       1.752\n",
      "Gare_Origine_Gare de Culmont-Chalindrey                                   0.2641      0.302      0.874      0.382      -0.328       0.856\n",
      "Gare_Origine_Gare de Epernay                                             -0.3163      0.376     -0.842      0.400      -1.053       0.420\n",
      "Gare_Origine_Gare de Epinal                                               0.1362      0.513      0.265      0.791      -0.870       1.142\n",
      "Gare_Origine_Gare de Forbach                                             -0.4615      0.352     -1.310      0.190      -1.152       0.229\n",
      "Gare_Origine_Gare de Laon                                                 0.1045      0.252      0.415      0.678      -0.389       0.598\n",
      "Gare_Origine_Gare de Lauterbourg                                          0.1228      0.161      0.761      0.446      -0.193       0.439\n",
      "Gare_Origine_Gare de Longuyon                                             0.0786      0.199      0.395      0.693      -0.312       0.469\n",
      "Gare_Origine_Gare de Longwy                                               0.1978      0.341      0.581      0.561      -0.470       0.865\n",
      "Gare_Origine_Gare de LunÃÂÃÂ©ville                                     0.6260      0.392      1.596      0.111      -0.143       1.395\n",
      "Gare_Origine_Gare de Luxembourg                                           0.1011      0.179      0.564      0.573      -0.250       0.453\n",
      "Gare_Origine_Gare de Metz-Ville                                          -0.2205      0.181     -1.217      0.224      -0.576       0.135\n",
      "Gare_Origine_Gare de Mulhouse                                             0.1607      0.289      0.556      0.578      -0.406       0.728\n",
      "Gare_Origine_Gare de Munster                                             -0.2203      0.273     -0.806      0.421      -0.756       0.316\n",
      "Gare_Origine_Gare de Nancy-Ville                                         -0.1864      0.201     -0.926      0.354      -0.581       0.208\n",
      "Gare_Origine_Gare de Offenburg                                           -0.5182      0.224     -2.316      0.021      -0.957      -0.080\n",
      "Gare_Origine_Gare de Paris-Est                                           -0.3863      0.373     -1.036      0.300      -1.117       0.345\n",
      "Gare_Origine_Gare de Reims                                               -0.3599      0.456     -0.790      0.430      -1.253       0.533\n",
      "Gare_Origine_Gare de SaarbrÃÂÃÂ¼cken /Sarrebruck                       0.0725      0.389      0.186      0.852      -0.690       0.835\n",
      "Gare_Origine_Gare de Sedan                                               -0.3570      0.433     -0.824      0.410      -1.206       0.492\n",
      "Gare_Origine_Gare de St-Dizier                                            0.0470      0.440      0.107      0.915      -0.815       0.909\n",
      "Gare_Origine_Gare de Strasbourg                                           0.8036      0.588      1.367      0.172      -0.349       1.956\n",
      "Gare_Origine_Gare de Thionville                                           0.0408      0.646      0.063      0.950      -1.225       1.307\n",
      "Gare_Origine_Gare de WOERTH RHEIN                                         0.5087      0.238      2.138      0.033       0.042       0.975\n",
      "Gare_Origine_Givet                                                        0.4250      0.259      1.641      0.101      -0.083       0.933\n",
      "Gare_Origine_Haguenau                                                     0.0194      0.299      0.065      0.948      -0.566       0.605\n",
      "Gare_Origine_Kruth                                                        0.3365      0.399      0.844      0.399      -0.445       1.118\n",
      "Gare_Origine_LAON                                                        -0.1640      0.256     -0.640      0.522      -0.666       0.338\n",
      "Gare_Origine_Laon                                                         0.1066      0.240      0.444      0.657      -0.365       0.578\n",
      "Gare_Origine_Lauterbourg                                                  0.0785      0.088      0.895      0.371      -0.093       0.251\n",
      "Gare_Origine_Longwy                                                       0.0312      0.335      0.093      0.926      -0.625       0.687\n",
      "Gare_Origine_LunÃÂÃÂ©ville                                            -0.0109      0.186     -0.059      0.953      -0.376       0.354\n",
      "Gare_Origine_Metz                                                         0.4264      0.291      1.463      0.143      -0.145       0.998\n",
      "Gare_Origine_Metzeral                                                     0.1182      0.150      0.785      0.432      -0.177       0.413\n",
      "Gare_Origine_Molsheim                                                    -0.2778      0.111     -2.505      0.012      -0.495      -0.060\n",
      "Gare_Origine_Mulhouse                                                     0.0764      0.257      0.297      0.766      -0.427       0.580\n",
      "Gare_Origine_Mulhouse Gare Centrale                                      -0.2249      0.122     -1.847      0.065      -0.463       0.014\n",
      "Gare_Origine_Munster                                                      0.2414      0.321      0.751      0.452      -0.388       0.871\n",
      "Gare_Origine_Nancy                                                       -0.4457      0.376     -1.186      0.236      -1.182       0.291\n",
      "Gare_Origine_NeufchÃÂÃÂ¢teau                                           0.2728      0.225      1.210      0.226      -0.169       0.715\n",
      "Gare_Origine_Niederbronn-les-Bains                                       -0.1276      0.084     -1.521      0.128      -0.292       0.037\n",
      "Gare_Origine_Obernai                                                     -0.3865      0.125     -3.098      0.002      -0.631      -0.142\n",
      "Gare_Origine_Offenburg                                                   -0.1722      0.290     -0.594      0.553      -0.741       0.396\n",
      "Gare_Origine_Paris Est                                                    0.0571      0.225      0.253      0.800      -0.385       0.499\n",
      "Gare_Origine_REIMS                                                       -0.0077      0.329     -0.023      0.981      -0.653       0.637\n",
      "Gare_Origine_Reims                                                       -0.0029      0.362     -0.008      0.994      -0.713       0.707\n",
      "Gare_Origine_Remiremont                                                   0.4451      0.192      2.323      0.020       0.070       0.821\n",
      "Gare_Origine_Revigny                                                      0.4209      0.340      1.238      0.216      -0.246       1.087\n",
      "Gare_Origine_Roeschwoog                                                  -0.1265      0.108     -1.175      0.240      -0.337       0.084\n",
      "Gare_Origine_Rothau                                                      -0.0853      0.175     -0.488      0.626      -0.428       0.257\n",
      "Gare_Origine_Saales                                                       0.4533      0.396      1.145      0.252      -0.323       1.229\n",
      "Gare_Origine_Saint-Dizier                                                 0.0542      0.333      0.163      0.871      -0.598       0.706\n",
      "Gare_Origine_Saint-DiÃÂÃÂ©-des-Vosges                                  0.0740      0.129      0.574      0.566      -0.179       0.327\n",
      "Gare_Origine_Sarrebourg                                                   0.0557      0.384      0.145      0.885      -0.697       0.808\n",
      "Gare_Origine_Sarreguemines                                               -0.1806      0.289     -0.624      0.533      -0.748       0.387\n",
      "Gare_Origine_Saverne                                                      0.1487      0.410      0.363      0.717      -0.655       0.953\n",
      "Gare_Origine_Strasbourg                                                   0.2696      0.253      1.065      0.287      -0.227       0.766\n",
      "Gare_Origine_SÃÂÃÂ©lestat                                             -0.0788      0.088     -0.895      0.371      -0.251       0.094\n",
      "Gare_Origine_Thann                                                       -0.2748      0.295     -0.931      0.352      -0.854       0.304\n",
      "Gare_Origine_Thann Saint-Jacques                                         -0.3786      0.298     -1.270      0.204      -0.963       0.206\n",
      "Gare_Origine_Toul                                                         0.1461      0.190      0.771      0.441      -0.225       0.518\n",
      "Gare_Origine_Verdun                                                       0.1528      0.221      0.692      0.489      -0.280       0.585\n",
      "Gare_Origine_Wesserling                                                   0.3125      0.424      0.738      0.461      -0.518       1.143\n",
      "Gare_Origine_Willer-sur-Thur                                             -0.0311      0.488     -0.064      0.949      -0.987       0.925\n",
      "Gare_Origine_Wissembourg                                                  0.1360      0.300      0.453      0.650      -0.452       0.724\n",
      "Gare_Origine_Woerth                                                      -0.8293      0.306     -2.710      0.007      -1.429      -0.230\n",
      "Gare_Origine_ÃÂÃ¢ÂÂ°pernay                                            -0.3337      0.380     -0.879      0.379      -1.078       0.410\n",
      "Gare_Fin_Bar-le-Duc                                                       0.0246      0.239      0.103      0.918      -0.445       0.494\n",
      "Gare_Fin_Barr                                                            -0.2781      0.098     -2.851      0.004      -0.469      -0.087\n",
      "Gare_Fin_Basel SBB                                                       -0.0656      0.167     -0.392      0.695      -0.393       0.262\n",
      "Gare_Fin_Belfort                                                          0.0199      0.158      0.127      0.899      -0.289       0.329\n",
      "Gare_Fin_CHALONS EN CHAMPAGNE                                             0.0871      0.288      0.302      0.763      -0.478       0.652\n",
      "Gare_Fin_CHAMPAGNE ARDENNE TGV                                            0.1248      0.255      0.489      0.625      -0.375       0.625\n",
      "Gare_Fin_CHARLEVILLE                                                     -0.0746      0.289     -0.258      0.796      -0.642       0.492\n",
      "Gare_Fin_Champagne-Ardenne TGV                                           -0.2721      0.340     -0.799      0.424      -0.939       0.395\n",
      "Gare_Fin_Charleville-MÃÂÃÂ©ziÃÂÃÂ¨res                              -0.3321      0.350     -0.949      0.343      -1.018       0.354\n",
      "Gare_Fin_Chaumont                                                         0.3341      0.296      1.128      0.259      -0.246       0.915\n",
      "Gare_Fin_ChÃÂÃÂ¢lons-en-Champagne                                      0.0966      0.228      0.424      0.671      -0.350       0.543\n",
      "Gare_Fin_Colmar                                                           0.2058      0.131      1.568      0.117      -0.051       0.463\n",
      "Gare_Fin_Fismes                                                          -0.1002      0.321     -0.312      0.755      -0.729       0.529\n",
      "Gare_Fin_Forbach                                                         -1.2420      0.633     -1.963      0.050      -2.482      -0.002\n",
      "Gare_Fin_Gare de Bar-le-Duc                                              -0.3572      0.560     -0.638      0.524      -1.455       0.741\n",
      "Gare_Fin_Gare de Basel-SBB                                               -0.1274      0.215     -0.592      0.554      -0.549       0.294\n",
      "Gare_Fin_Gare de Belfort-Ville                                           -0.4173      0.235     -1.779      0.075      -0.877       0.042\n",
      "Gare_Fin_Gare de Champagne-Ardenne                                       -0.2070      0.447     -0.463      0.644      -1.084       0.670\n",
      "Gare_Fin_Gare de Charleville-MÃÂÃÂ©ziÃÂÃÂ¨res                      -0.0784      0.382     -0.205      0.838      -0.827       0.671\n",
      "Gare_Fin_Gare de ChÃÂÃÂ¢lons-en-Champagne                              0.3637      0.431      0.843      0.399      -0.482       1.209\n",
      "Gare_Fin_Gare de ChÃÂÃÂ¢teau-Thierry                                   0.6659      0.496      1.342      0.180      -0.307       1.639\n",
      "Gare_Fin_Gare de Colmar                                                   0.2562      0.139      1.837      0.066      -0.017       0.529\n",
      "Gare_Fin_Gare de Epernay                                                  0.0424      0.399      0.106      0.915      -0.740       0.825\n",
      "Gare_Fin_Gare de Forbach                                                 -0.2693      0.525     -0.513      0.608      -1.298       0.759\n",
      "Gare_Fin_Gare de Laon                                                     0.3711      0.338      1.098      0.272      -0.291       1.034\n",
      "Gare_Fin_Gare de Lauterbourg                                             -0.3274      0.460     -0.712      0.476      -1.228       0.573\n",
      "Gare_Fin_Gare de Longwy                                                   0.0876      0.317      0.276      0.782      -0.534       0.709\n",
      "Gare_Fin_Gare de LunÃÂÃÂ©ville                                        -0.0602      0.312     -0.193      0.847      -0.671       0.551\n",
      "Gare_Fin_Gare de Luxembourg                                               0.0693      0.227      0.305      0.761      -0.376       0.515\n",
      "Gare_Fin_Gare de Metz-Ville                                              -0.0909      0.345     -0.264      0.792      -0.766       0.584\n",
      "Gare_Fin_Gare de Mulhouse                                                -0.3106      0.584     -0.532      0.595      -1.455       0.834\n",
      "Gare_Fin_Gare de Nancy-Ville                                             -0.2536      0.337     -0.753      0.451      -0.913       0.406\n",
      "Gare_Fin_Gare de Paris-Est                                                0.1634      0.246      0.665      0.506      -0.318       0.645\n",
      "Gare_Fin_Gare de Reims                                                    0.0468      0.283      0.165      0.869      -0.509       0.602\n",
      "Gare_Fin_Gare de SaarbrÃÂÃÂ¼cken /Sarrebruck                          -0.4067      0.491     -0.828      0.407      -1.369       0.556\n",
      "Gare_Fin_Gare de Sarrebourg                                               0.9072      0.705      1.286      0.198      -0.475       2.290\n",
      "Gare_Fin_Gare de Sedan                                                    0.1664      0.453      0.368      0.713      -0.721       1.054\n",
      "Gare_Fin_Gare de St-Dizier                                                0.7892      0.447      1.765      0.077      -0.087       1.665\n",
      "Gare_Fin_Gare de Strasbourg                                               0.5467      0.245      2.234      0.025       0.067       1.026\n",
      "Gare_Fin_Gare de Thionville                                              -0.2679      0.315     -0.850      0.396      -0.886       0.350\n",
      "Gare_Fin_Gare de WOERTH RHEIN                                             0.1228      0.161      0.761      0.446      -0.193       0.439\n",
      "Gare_Fin_Givet                                                           -0.2086      0.280     -0.745      0.456      -0.757       0.340\n",
      "Gare_Fin_Haguenau                                                         0.1172      0.276      0.425      0.671      -0.423       0.658\n",
      "Gare_Fin_Herrlisheim                                                     -0.1441      0.140     -1.031      0.303      -0.418       0.130\n",
      "Gare_Fin_Kruth                                                            0.4828      0.393      1.228      0.219      -0.288       1.253\n",
      "Gare_Fin_Laon                                                            -0.2835      0.254     -1.116      0.264      -0.781       0.214\n",
      "Gare_Fin_Lauterbourg                                                      0.0825      0.087      0.953      0.340      -0.087       0.252\n",
      "Gare_Fin_Longwy                                                           0.0398      0.309      0.129      0.898      -0.566       0.645\n",
      "Gare_Fin_LunÃÂÃÂ©ville                                                -0.0170      0.223     -0.076      0.939      -0.455       0.421\n",
      "Gare_Fin_Lutterbach Tram-train                                            0.0326      0.372      0.088      0.930      -0.696       0.761\n",
      "Gare_Fin_Metz                                                             0.3349      0.277      1.209      0.227      -0.208       0.878\n",
      "Gare_Fin_Metzeral                                                        -0.0460      0.153     -0.301      0.764      -0.345       0.254\n",
      "Gare_Fin_Molsheim                                                        -0.1810      0.126     -1.438      0.151      -0.428       0.066\n",
      "Gare_Fin_Mulhouse                                                         0.2871      0.229      1.253      0.210      -0.162       0.736\n",
      "Gare_Fin_Mulhouse Gare Centrale                                           0.1935      0.150      1.294      0.196      -0.100       0.487\n",
      "Gare_Fin_Munster                                                         -0.0772      0.247     -0.313      0.754      -0.560       0.406\n",
      "Gare_Fin_Nancy                                                           -0.3581      0.356     -1.005      0.315      -1.057       0.341\n",
      "Gare_Fin_NeufchÃÂÃÂ¢teau                                              -0.0908      0.200     -0.453      0.650      -0.483       0.302\n",
      "Gare_Fin_Niederbronn-les-Bains                                            0.1066      0.098      1.091      0.275      -0.085       0.298\n",
      "Gare_Fin_Obernai                                                         -0.2956      0.135     -2.197      0.028      -0.559      -0.032\n",
      "Gare_Fin_Offenburg                                                        0.2055      0.213      0.966      0.334      -0.212       0.623\n",
      "Gare_Fin_Paris Est                                                        0.2027      0.210      0.964      0.335      -0.209       0.615\n",
      "Gare_Fin_REIMS                                                           -0.3812      0.369     -1.033      0.302      -1.105       0.342\n",
      "Gare_Fin_Reims                                                            0.1455      0.327      0.445      0.656      -0.495       0.786\n",
      "Gare_Fin_Remiremont                                                       0.2190      0.191      1.144      0.253      -0.156       0.594\n",
      "Gare_Fin_Revigny                                                          0.1702      0.374      0.455      0.649      -0.562       0.903\n",
      "Gare_Fin_Roeschwoog                                                      -0.1355      0.104     -1.309      0.191      -0.338       0.067\n",
      "Gare_Fin_Rothau                                                          -0.1986      0.183     -1.086      0.278      -0.557       0.160\n",
      "Gare_Fin_SEDAN                                                           -0.0201      0.277     -0.073      0.942      -0.563       0.523\n",
      "Gare_Fin_Saales                                                           0.1141      0.204      0.558      0.577      -0.287       0.515\n",
      "Gare_Fin_Saint-Dizier                                                    -0.1056      0.299     -0.353      0.724      -0.692       0.481\n",
      "Gare_Fin_Saint-DiÃÂÃÂ©-des-Vosges                                      0.0572      0.159      0.360      0.719      -0.254       0.369\n",
      "Gare_Fin_Sarrebourg                                                       0.0116      0.479      0.024      0.981      -0.927       0.950\n",
      "Gare_Fin_Sarreguemines                                                   -0.0371      0.273     -0.136      0.892      -0.572       0.497\n",
      "Gare_Fin_Saverne                                                          0.1310      0.454      0.288      0.773      -0.760       1.022\n",
      "Gare_Fin_Sedan                                                           -0.4911      0.333     -1.474      0.140      -1.144       0.162\n",
      "Gare_Fin_Strasbourg                                                       0.3540      0.226      1.568      0.117      -0.089       0.797\n",
      "Gare_Fin_SÃÂÃÂ©lestat                                                 -0.0658      0.095     -0.692      0.489      -0.252       0.120\n",
      "Gare_Fin_Thann                                                            0.2675      0.248      1.078      0.281      -0.219       0.754\n",
      "Gare_Fin_Thann Saint-Jacques                                              0.1481      0.247      0.601      0.548      -0.335       0.632\n",
      "Gare_Fin_Toul                                                             0.0354      0.452      0.079      0.937      -0.850       0.920\n",
      "Gare_Fin_Wesserling                                                       0.6298      0.410      1.536      0.125      -0.174       1.434\n",
      "Gare_Fin_Wissembourg                                                      0.0997      0.279      0.357      0.721      -0.447       0.647\n",
      "Gare_Fin_Woerth                                                          -0.2499      0.282     -0.886      0.375      -0.802       0.303\n",
      "Gare_Fin_ÃÂÃ¢ÂÂ°pernay                                                -0.1171      0.326     -0.359      0.719      -0.756       0.522\n",
      "Gare_Fin_ÃÂÃ¢ÂÂ°pinal                                                 -0.4806      0.352     -1.365      0.172      -1.171       0.209\n",
      "=========================================================================================================================================\n"
     ]
    }
   ],
   "source": [
    "exog, endog = sm.add_constant(X_train), y_train\n",
    "glm_model = sm.GLM(endog, exog, family = sm.families.Gaussian())\n",
    "res = glm_model.fit()\n",
    "print(res.summary())"
   ]
  },
  {
   "cell_type": "code",
   "execution_count": 81,
   "metadata": {},
   "outputs": [
    {
     "name": "stdout",
     "output_type": "stream",
     "text": [
      "0.39242996080161163\n",
      "0.41790860692903314\n"
     ]
    }
   ],
   "source": [
    "pred_train = res.predict(sm.add_constant(X_train))\n",
    "pred_test = res.predict(sm.add_constant(X_test))\n",
    "print(mean_squared_error(pred_train, y_train))\n",
    "print(mean_squared_error(pred_test, y_test))"
   ]
  },
  {
   "cell_type": "code",
   "execution_count": 83,
   "metadata": {},
   "outputs": [
    {
     "data": {
      "text/plain": [
       "[<matplotlib.lines.Line2D at 0x1512c4f50b8>]"
      ]
     },
     "execution_count": 83,
     "metadata": {},
     "output_type": "execute_result"
    },
    {
     "data": {
      "image/png": "[encoded data removed]",
      "text/plain": [
       "<Figure size 432x288 with 1 Axes>"
      ]
     },
     "metadata": {
      "needs_background": "light"
     },
     "output_type": "display_data"
    }
   ],
   "source": [
    "plt.scatter(pred_test, y_test)\n",
    "plt.plot((y_test.min(),y_test.max()), (y_test.min(),y_test.max()))"
   ]
  },
  {
   "cell_type": "code",
   "execution_count": 82,
   "metadata": {},
   "outputs": [
    {
     "data": {
      "image/png": "[encoded data removed]",
      "text/plain": [
       "<Figure size 432x288 with 1 Axes>"
      ]
     },
     "metadata": {
      "needs_background": "light"
     },
     "output_type": "display_data"
    }
   ],
   "source": [
    "residus = y_train - pred_train\n",
    "plt.scatter(y_train, residus)\n",
    "plt.plot((y_train.min(),y_train.max()), (0,0), lw=3, color = '#0a5798');"
   ]
  },
  {
   "cell_type": "code",
   "execution_count": 84,
   "metadata": {},
   "outputs": [
    {
     "name": "stdout",
     "output_type": "stream",
     "text": [
      "<class 'pandas.core.frame.DataFrame'>\n",
      "Int64Index: 13617 entries, 1 to 243860\n",
      "Data columns (total 9 columns):\n",
      "Sens_circulation    13617 non-null int64\n",
      "h_x                 13617 non-null float64\n",
      "h_y                 13617 non-null float64\n",
      "m_x                 13617 non-null float64\n",
      "m_y                 13617 non-null float64\n",
      "nb_control_1        13617 non-null int64\n",
      "nb_control_2        13617 non-null int64\n",
      "nb_control_3        13617 non-null int64\n",
      "nb_control_log      13617 non-null float64\n",
      "dtypes: float64(5), int64(4)\n",
      "memory usage: 1.7 MB\n"
     ]
    }
   ],
   "source": [
    "bc_2019_cv_5 = bc_2019_cv_test.drop(['Date', 'Num_Train', 'Direction_Ligne', 'Year', 'Month', '15zaine_jour', 'Heure_Origine',  \n",
    "                        'Ligne_Presence_imposee', 'Montant_operation', 'Type_operation_CC BORD', 'Type_operation_CC CONTROLE',\n",
    "                        'Type_operation_CC GUICHET', 'Type_operation_PV', 'cv', 'nb_controleurs', 'Heure_Fin', 'Date_1', \n",
    "                         'diff_ctrl_1', 'diff_ctrl_2', 'Date_2', 'diff_ctrl_3', 'Date_3', 'nb_control',\n",
    "                                    'Sous_Ligne', 'jour_semaine', 'Gare_Origine', 'Gare_Fin'],\n",
    "                      axis = 1)\n",
    "bc_2019_cv_5.info()"
   ]
  },
  {
   "cell_type": "code",
   "execution_count": 85,
   "metadata": {},
   "outputs": [],
   "source": [
    "data = bc_2019_cv_5.drop('nb_control_log', axis = 1)\n",
    "target = bc_2019_cv_5.nb_control_log\n",
    "X_train, X_test, y_train, y_test = train_test_split(data, target, test_size = 0.2)"
   ]
  },
  {
   "cell_type": "code",
   "execution_count": 86,
   "metadata": {},
   "outputs": [
    {
     "name": "stdout",
     "output_type": "stream",
     "text": [
      "                 Generalized Linear Model Regression Results                  \n",
      "==============================================================================\n",
      "Dep. Variable:         nb_control_log   No. Observations:                10893\n",
      "Model:                            GLM   Df Residuals:                    10884\n",
      "Model Family:                Gaussian   Df Model:                            8\n",
      "Link Function:               identity   Scale:                         0.42798\n",
      "Method:                          IRLS   Log-Likelihood:                -10830.\n",
      "Date:                Sun, 09 May 2021   Deviance:                       4658.1\n",
      "Time:                        20:48:25   Pearson chi2:                 4.66e+03\n",
      "No. Iterations:                     3   Covariance Type:             nonrobust\n",
      "====================================================================================\n",
      "                       coef    std err          z      P>|z|      [0.025      0.975]\n",
      "------------------------------------------------------------------------------------\n",
      "const                0.4526      0.015     30.247      0.000       0.423       0.482\n",
      "Sens_circulation    -0.0186      0.013     -1.487      0.137      -0.043       0.006\n",
      "h_x                 -0.0302      0.009     -3.473      0.001      -0.047      -0.013\n",
      "h_y                 -0.0399      0.015     -2.665      0.008      -0.069      -0.011\n",
      "m_x                  0.0392      0.009      4.584      0.000       0.022       0.056\n",
      "m_y                  0.0055      0.009      0.588      0.557      -0.013       0.024\n",
      "nb_control_1         0.0572      0.002     23.173      0.000       0.052       0.062\n",
      "nb_control_2         0.0581      0.002     23.743      0.000       0.053       0.063\n",
      "nb_control_3         0.0459      0.002     19.827      0.000       0.041       0.050\n",
      "====================================================================================\n"
     ]
    },
    {
     "name": "stderr",
     "output_type": "stream",
     "text": [
      "C:\\Users\\user\\Anaconda3\\lib\\site-packages\\numpy\\core\\fromnumeric.py:2389: FutureWarning: Method .ptp is deprecated and will be removed in a future version. Use numpy.ptp instead.\n",
      "  return ptp(axis=axis, out=out, **kwargs)\n"
     ]
    }
   ],
   "source": [
    "exog, endog = sm.add_constant(X_train), y_train\n",
    "glm_model = sm.GLM(endog, exog, family = sm.families.Gaussian())\n",
    "res = glm_model.fit()\n",
    "print(res.summary())"
   ]
  },
  {
   "cell_type": "code",
   "execution_count": 87,
   "metadata": {},
   "outputs": [
    {
     "name": "stdout",
     "output_type": "stream",
     "text": [
      "0.4276251645661144\n",
      "0.42189975623367426\n"
     ]
    }
   ],
   "source": [
    "pred_train = res.predict(sm.add_constant(X_train))\n",
    "pred_test = res.predict(sm.add_constant(X_test))\n",
    "print(mean_squared_error(pred_train, y_train))\n",
    "print(mean_squared_error(pred_test, y_test))"
   ]
  },
  {
   "cell_type": "code",
   "execution_count": 89,
   "metadata": {},
   "outputs": [
    {
     "data": {
      "text/plain": [
       "[<matplotlib.lines.Line2D at 0x1512c346358>]"
      ]
     },
     "execution_count": 89,
     "metadata": {},
     "output_type": "execute_result"
    },
    {
     "data": {
      "image/png": "[encoded data removed]",
      "text/plain": [
       "<Figure size 432x288 with 1 Axes>"
      ]
     },
     "metadata": {
      "needs_background": "light"
     },
     "output_type": "display_data"
    }
   ],
   "source": [
    "plt.scatter(pred_test, y_test)\n",
    "plt.plot((y_test.min(),y_test.max()), (y_test.min(),y_test.max()))"
   ]
  },
  {
   "cell_type": "code",
   "execution_count": 116,
   "metadata": {},
   "outputs": [
    {
     "data": {
      "text/html": [
       "<div>\n",
       "<style scoped>\n",
       "    .dataframe tbody tr th:only-of-type {\n",
       "        vertical-align: middle;\n",
       "    }\n",
       "\n",
       "    .dataframe tbody tr th {\n",
       "        vertical-align: top;\n",
       "    }\n",
       "\n",
       "    .dataframe thead th {\n",
       "        text-align: right;\n",
       "    }\n",
       "</style>\n",
       "<table border=\"1\" class=\"dataframe\">\n",
       "  <thead>\n",
       "    <tr style=\"text-align: right;\">\n",
       "      <th></th>\n",
       "      <th>jour_semaine</th>\n",
       "      <th>Sens_circulation</th>\n",
       "      <th>nb_control</th>\n",
       "      <th>h_x</th>\n",
       "      <th>h_y</th>\n",
       "      <th>m_x</th>\n",
       "      <th>m_y</th>\n",
       "      <th>nb_control_1</th>\n",
       "      <th>nb_control_2</th>\n",
       "      <th>nb_control_3</th>\n",
       "    </tr>\n",
       "    <tr>\n",
       "      <th>Sous_Ligne</th>\n",
       "      <th></th>\n",
       "      <th></th>\n",
       "      <th></th>\n",
       "      <th></th>\n",
       "      <th></th>\n",
       "      <th></th>\n",
       "      <th></th>\n",
       "      <th></th>\n",
       "      <th></th>\n",
       "      <th></th>\n",
       "    </tr>\n",
       "  </thead>\n",
       "  <tbody>\n",
       "    <tr>\n",
       "      <th>Metz Ã¢ÂÂ Forbach-SBK</th>\n",
       "      <td>3</td>\n",
       "      <td>1</td>\n",
       "      <td>2</td>\n",
       "      <td>1.0</td>\n",
       "      <td>0.0</td>\n",
       "      <td>5.000000e-01</td>\n",
       "      <td>-0.866025</td>\n",
       "      <td>1</td>\n",
       "      <td>2</td>\n",
       "      <td>1</td>\n",
       "    </tr>\n",
       "    <tr>\n",
       "      <th>Metz Ã¢ÂÂ Forbach-SBK</th>\n",
       "      <td>4</td>\n",
       "      <td>1</td>\n",
       "      <td>1</td>\n",
       "      <td>1.0</td>\n",
       "      <td>0.0</td>\n",
       "      <td>5.000000e-01</td>\n",
       "      <td>-0.866025</td>\n",
       "      <td>1</td>\n",
       "      <td>2</td>\n",
       "      <td>1</td>\n",
       "    </tr>\n",
       "    <tr>\n",
       "      <th>Metz Ã¢ÂÂ Forbach-SBK</th>\n",
       "      <td>1</td>\n",
       "      <td>1</td>\n",
       "      <td>2</td>\n",
       "      <td>1.0</td>\n",
       "      <td>0.0</td>\n",
       "      <td>6.123234e-17</td>\n",
       "      <td>-1.000000</td>\n",
       "      <td>1</td>\n",
       "      <td>2</td>\n",
       "      <td>1</td>\n",
       "    </tr>\n",
       "    <tr>\n",
       "      <th>Metz Ã¢ÂÂ Forbach-SBK</th>\n",
       "      <td>3</td>\n",
       "      <td>1</td>\n",
       "      <td>1</td>\n",
       "      <td>1.0</td>\n",
       "      <td>0.0</td>\n",
       "      <td>6.123234e-17</td>\n",
       "      <td>-1.000000</td>\n",
       "      <td>1</td>\n",
       "      <td>2</td>\n",
       "      <td>1</td>\n",
       "    </tr>\n",
       "    <tr>\n",
       "      <th>Metz Ã¢ÂÂ Forbach-SBK</th>\n",
       "      <td>2</td>\n",
       "      <td>0</td>\n",
       "      <td>2</td>\n",
       "      <td>1.0</td>\n",
       "      <td>0.0</td>\n",
       "      <td>1.000000e+00</td>\n",
       "      <td>0.000000</td>\n",
       "      <td>1</td>\n",
       "      <td>4</td>\n",
       "      <td>3</td>\n",
       "    </tr>\n",
       "  </tbody>\n",
       "</table>\n",
       "</div>"
      ],
      "text/plain": [
       "                         jour_semaine  Sens_circulation  nb_control  h_x  h_y  \\\n",
       "Sous_Ligne                                                                      \n",
       "Metz Ã¢ÂÂ Forbach-SBK             3                 1           2  1.0  0.0   \n",
       "Metz Ã¢ÂÂ Forbach-SBK             4                 1           1  1.0  0.0   \n",
       "Metz Ã¢ÂÂ Forbach-SBK             1                 1           2  1.0  0.0   \n",
       "Metz Ã¢ÂÂ Forbach-SBK             3                 1           1  1.0  0.0   \n",
       "Metz Ã¢ÂÂ Forbach-SBK             2                 0           2  1.0  0.0   \n",
       "\n",
       "                                  m_x       m_y  nb_control_1  nb_control_2  \\\n",
       "Sous_Ligne                                                                    \n",
       "Metz Ã¢ÂÂ Forbach-SBK  5.000000e-01 -0.866025             1             2   \n",
       "Metz Ã¢ÂÂ Forbach-SBK  5.000000e-01 -0.866025             1             2   \n",
       "Metz Ã¢ÂÂ Forbach-SBK  6.123234e-17 -1.000000             1             2   \n",
       "Metz Ã¢ÂÂ Forbach-SBK  6.123234e-17 -1.000000             1             2   \n",
       "Metz Ã¢ÂÂ Forbach-SBK  1.000000e+00  0.000000             1             4   \n",
       "\n",
       "                         nb_control_3  \n",
       "Sous_Ligne                             \n",
       "Metz Ã¢ÂÂ Forbach-SBK             1  \n",
       "Metz Ã¢ÂÂ Forbach-SBK             1  \n",
       "Metz Ã¢ÂÂ Forbach-SBK             1  \n",
       "Metz Ã¢ÂÂ Forbach-SBK             1  \n",
       "Metz Ã¢ÂÂ Forbach-SBK             3  "
      ]
     },
     "execution_count": 116,
     "metadata": {},
     "output_type": "execute_result"
    }
   ],
   "source": [
    "bc_2019_cv_6 = bc_2019_cv_test.set_index(bc_2019_cv_test.Sous_Ligne, drop = True)\n",
    "bc_2019_cv_6 = bc_2019_cv_6.drop(['Sous_Ligne'], axis = 1)\n",
    "\n",
    "bc_2019_cv_6 = bc_2019_cv_6.drop(['Date', 'Num_Train', 'Direction_Ligne', 'Year', 'Month', '15zaine_jour', 'Heure_Origine',  \n",
    "                        'Ligne_Presence_imposee', 'Montant_operation', 'Type_operation_CC BORD', 'Type_operation_CC CONTROLE',\n",
    "                        'Type_operation_CC GUICHET', 'Type_operation_PV', 'cv', 'nb_controleurs', 'Heure_Fin', 'Date_1', \n",
    "                         'diff_ctrl_1', 'diff_ctrl_2', 'Date_2', 'diff_ctrl_3', 'Date_3', 'nb_control_log', 'Gare_Origine', \n",
    "                                     'Gare_Fin'],\n",
    "                      axis = 1)\n",
    "bc_2019_cv_6.head()"
   ]
  },
  {
   "cell_type": "code",
   "execution_count": 109,
   "metadata": {},
   "outputs": [
    {
     "data": {
      "image/png": "[encoded data removed]",
      "text/plain": [
       "<Figure size 1440x720 with 1 Axes>"
      ]
     },
     "metadata": {
      "needs_background": "light"
     },
     "output_type": "display_data"
    }
   ],
   "source": [
    "# Importation des packages nécessaires pour la CAH\n",
    "from scipy.cluster.hierarchy import dendrogram, linkage\n",
    "\n",
    "# Initialisaion de la figrue\n",
    "plt.figure(figsize=(20, 10))\n",
    "\n",
    "# Génération de la matrice des liens\n",
    "Z = linkage(bc_2019_cv_6, method = 'ward', metric = 'euclidean')\n",
    "\n",
    "# Affichage du dendrogramme\n",
    "plt.title(\"Dendrogramme CAH\")\n",
    "dendrogram(Z, labels = bc_2019_cv_6.index, leaf_rotation = 90., color_threshold = 0)\n",
    "plt.show()"
   ]
  },
  {
   "cell_type": "code",
   "execution_count": 118,
   "metadata": {},
   "outputs": [
    {
     "data": {
      "text/html": [
       "<div>\n",
       "<style scoped>\n",
       "    .dataframe tbody tr th:only-of-type {\n",
       "        vertical-align: middle;\n",
       "    }\n",
       "\n",
       "    .dataframe tbody tr th {\n",
       "        vertical-align: top;\n",
       "    }\n",
       "\n",
       "    .dataframe thead th {\n",
       "        text-align: right;\n",
       "    }\n",
       "</style>\n",
       "<table border=\"1\" class=\"dataframe\">\n",
       "  <thead>\n",
       "    <tr style=\"text-align: right;\">\n",
       "      <th></th>\n",
       "      <th>jour_semaine</th>\n",
       "      <th>Sens_circulation</th>\n",
       "      <th>nb_control</th>\n",
       "      <th>h_x</th>\n",
       "      <th>h_y</th>\n",
       "      <th>m_x</th>\n",
       "      <th>m_y</th>\n",
       "      <th>nb_control_1</th>\n",
       "      <th>nb_control_2</th>\n",
       "      <th>nb_control_3</th>\n",
       "    </tr>\n",
       "  </thead>\n",
       "  <tbody>\n",
       "    <tr>\n",
       "      <th>0</th>\n",
       "      <td>3</td>\n",
       "      <td>1</td>\n",
       "      <td>2</td>\n",
       "      <td>1.0</td>\n",
       "      <td>0.0</td>\n",
       "      <td>5.000000e-01</td>\n",
       "      <td>-0.866025</td>\n",
       "      <td>1</td>\n",
       "      <td>2</td>\n",
       "      <td>1</td>\n",
       "    </tr>\n",
       "    <tr>\n",
       "      <th>1</th>\n",
       "      <td>4</td>\n",
       "      <td>1</td>\n",
       "      <td>1</td>\n",
       "      <td>1.0</td>\n",
       "      <td>0.0</td>\n",
       "      <td>5.000000e-01</td>\n",
       "      <td>-0.866025</td>\n",
       "      <td>1</td>\n",
       "      <td>2</td>\n",
       "      <td>1</td>\n",
       "    </tr>\n",
       "    <tr>\n",
       "      <th>2</th>\n",
       "      <td>1</td>\n",
       "      <td>1</td>\n",
       "      <td>2</td>\n",
       "      <td>1.0</td>\n",
       "      <td>0.0</td>\n",
       "      <td>6.123234e-17</td>\n",
       "      <td>-1.000000</td>\n",
       "      <td>1</td>\n",
       "      <td>2</td>\n",
       "      <td>1</td>\n",
       "    </tr>\n",
       "    <tr>\n",
       "      <th>3</th>\n",
       "      <td>3</td>\n",
       "      <td>1</td>\n",
       "      <td>1</td>\n",
       "      <td>1.0</td>\n",
       "      <td>0.0</td>\n",
       "      <td>6.123234e-17</td>\n",
       "      <td>-1.000000</td>\n",
       "      <td>1</td>\n",
       "      <td>2</td>\n",
       "      <td>1</td>\n",
       "    </tr>\n",
       "    <tr>\n",
       "      <th>4</th>\n",
       "      <td>2</td>\n",
       "      <td>0</td>\n",
       "      <td>2</td>\n",
       "      <td>1.0</td>\n",
       "      <td>0.0</td>\n",
       "      <td>1.000000e+00</td>\n",
       "      <td>0.000000</td>\n",
       "      <td>1</td>\n",
       "      <td>4</td>\n",
       "      <td>3</td>\n",
       "    </tr>\n",
       "  </tbody>\n",
       "</table>\n",
       "</div>"
      ],
      "text/plain": [
       "   jour_semaine  Sens_circulation  nb_control  h_x  h_y           m_x  \\\n",
       "0             3                 1           2  1.0  0.0  5.000000e-01   \n",
       "1             4                 1           1  1.0  0.0  5.000000e-01   \n",
       "2             1                 1           2  1.0  0.0  6.123234e-17   \n",
       "3             3                 1           1  1.0  0.0  6.123234e-17   \n",
       "4             2                 0           2  1.0  0.0  1.000000e+00   \n",
       "\n",
       "        m_y  nb_control_1  nb_control_2  nb_control_3  \n",
       "0 -0.866025             1             2             1  \n",
       "1 -0.866025             1             2             1  \n",
       "2 -1.000000             1             2             1  \n",
       "3 -1.000000             1             2             1  \n",
       "4  0.000000             1             4             3  "
      ]
     },
     "execution_count": 118,
     "metadata": {},
     "output_type": "execute_result"
    }
   ],
   "source": [
    "bc_2019_cv_6 = bc_2019_cv_6.reset_index()\n",
    "bc_2019_cv_6 = bc_2019_cv_6.drop('Sous_Ligne', axis = 1)\n",
    "bc_2019_cv_6.head()"
   ]
  },
  {
   "cell_type": "code",
   "execution_count": 139,
   "metadata": {},
   "outputs": [
    {
     "data": {
      "text/html": [
       "<div>\n",
       "<style scoped>\n",
       "    .dataframe tbody tr th:only-of-type {\n",
       "        vertical-align: middle;\n",
       "    }\n",
       "\n",
       "    .dataframe tbody tr th {\n",
       "        vertical-align: top;\n",
       "    }\n",
       "\n",
       "    .dataframe thead th {\n",
       "        text-align: right;\n",
       "    }\n",
       "</style>\n",
       "<table border=\"1\" class=\"dataframe\">\n",
       "  <thead>\n",
       "    <tr style=\"text-align: right;\">\n",
       "      <th></th>\n",
       "      <th>jour_semaine</th>\n",
       "      <th>Sens_circulation</th>\n",
       "      <th>nb_control</th>\n",
       "      <th>h_x</th>\n",
       "      <th>h_y</th>\n",
       "      <th>m_x</th>\n",
       "      <th>m_y</th>\n",
       "      <th>nb_control_1</th>\n",
       "      <th>nb_control_2</th>\n",
       "      <th>nb_control_3</th>\n",
       "      <th>label</th>\n",
       "    </tr>\n",
       "  </thead>\n",
       "  <tbody>\n",
       "    <tr>\n",
       "      <th>0</th>\n",
       "      <td>3</td>\n",
       "      <td>1</td>\n",
       "      <td>2</td>\n",
       "      <td>1.0</td>\n",
       "      <td>0.0</td>\n",
       "      <td>5.000000e-01</td>\n",
       "      <td>-0.866025</td>\n",
       "      <td>1</td>\n",
       "      <td>2</td>\n",
       "      <td>1</td>\n",
       "      <td>1</td>\n",
       "    </tr>\n",
       "    <tr>\n",
       "      <th>1</th>\n",
       "      <td>4</td>\n",
       "      <td>1</td>\n",
       "      <td>1</td>\n",
       "      <td>1.0</td>\n",
       "      <td>0.0</td>\n",
       "      <td>5.000000e-01</td>\n",
       "      <td>-0.866025</td>\n",
       "      <td>1</td>\n",
       "      <td>2</td>\n",
       "      <td>1</td>\n",
       "      <td>1</td>\n",
       "    </tr>\n",
       "    <tr>\n",
       "      <th>2</th>\n",
       "      <td>1</td>\n",
       "      <td>1</td>\n",
       "      <td>2</td>\n",
       "      <td>1.0</td>\n",
       "      <td>0.0</td>\n",
       "      <td>6.123234e-17</td>\n",
       "      <td>-1.000000</td>\n",
       "      <td>1</td>\n",
       "      <td>2</td>\n",
       "      <td>1</td>\n",
       "      <td>1</td>\n",
       "    </tr>\n",
       "    <tr>\n",
       "      <th>3</th>\n",
       "      <td>3</td>\n",
       "      <td>1</td>\n",
       "      <td>1</td>\n",
       "      <td>1.0</td>\n",
       "      <td>0.0</td>\n",
       "      <td>6.123234e-17</td>\n",
       "      <td>-1.000000</td>\n",
       "      <td>1</td>\n",
       "      <td>2</td>\n",
       "      <td>1</td>\n",
       "      <td>1</td>\n",
       "    </tr>\n",
       "    <tr>\n",
       "      <th>4</th>\n",
       "      <td>2</td>\n",
       "      <td>0</td>\n",
       "      <td>2</td>\n",
       "      <td>1.0</td>\n",
       "      <td>0.0</td>\n",
       "      <td>1.000000e+00</td>\n",
       "      <td>0.000000</td>\n",
       "      <td>1</td>\n",
       "      <td>4</td>\n",
       "      <td>3</td>\n",
       "      <td>1</td>\n",
       "    </tr>\n",
       "  </tbody>\n",
       "</table>\n",
       "</div>"
      ],
      "text/plain": [
       "   jour_semaine  Sens_circulation  nb_control  h_x  h_y           m_x  \\\n",
       "0             3                 1           2  1.0  0.0  5.000000e-01   \n",
       "1             4                 1           1  1.0  0.0  5.000000e-01   \n",
       "2             1                 1           2  1.0  0.0  6.123234e-17   \n",
       "3             3                 1           1  1.0  0.0  6.123234e-17   \n",
       "4             2                 0           2  1.0  0.0  1.000000e+00   \n",
       "\n",
       "        m_y  nb_control_1  nb_control_2  nb_control_3  label  \n",
       "0 -0.866025             1             2             1      1  \n",
       "1 -0.866025             1             2             1      1  \n",
       "2 -1.000000             1             2             1      1  \n",
       "3 -1.000000             1             2             1      1  \n",
       "4  0.000000             1             4             3      1  "
      ]
     },
     "execution_count": 139,
     "metadata": {},
     "output_type": "execute_result"
    }
   ],
   "source": [
    "from sklearn.cluster import AgglomerativeClustering\n",
    "\n",
    "clf = AgglomerativeClustering(n_clusters = 3)\n",
    "clf.fit(bc_2019_cv_6)\n",
    "\n",
    "labels = pd.DataFrame(clf.labels_)\n",
    "labels.columns = ['label']\n",
    "\n",
    "bc_2019_cv_label = pd.concat([bc_2019_cv_6, labels], axis = 1)\n",
    "bc_2019_cv_label.head()"
   ]
  },
  {
   "cell_type": "code",
   "execution_count": 134,
   "metadata": {},
   "outputs": [
    {
     "name": "stdout",
     "output_type": "stream",
     "text": [
      "0.0713653234243461\n",
      "0.08713030467755545\n"
     ]
    }
   ],
   "source": [
    "label_n = bc_2019_cv_label[bc_2019_cv_label['label'] == 0]\n",
    "data = label_n.drop(['nb_control', 'label'], axis = 1)\n",
    "target = label_n.nb_control\n",
    "X_train, X_test, y_train, y_test = train_test_split(data, target, test_size = 0.2)\n",
    "\n",
    "# modèle ElasticNetCV\n",
    "model_en = ElasticNetCV(cv = 8, l1_ratio = (0.1, 0.25, 0.5, 0.7, 0.75, 0.8, 0.85, 0.9, 0.99), alphas= (0.001,0.01,0.02,0.025,0.05,0.1,0.25,0.5,0.8,1.0))\n",
    "model_en.fit(X_train, y_train)\n",
    "\n",
    "print(model_en.score(X_train, y_train))\n",
    "print(model_en.score(X_test, y_test))"
   ]
  },
  {
   "cell_type": "code",
   "execution_count": 145,
   "metadata": {},
   "outputs": [
    {
     "name": "stderr",
     "output_type": "stream",
     "text": [
      "C:\\Users\\user\\Anaconda3\\lib\\site-packages\\ipykernel_launcher.py:2: SettingWithCopyWarning: \n",
      "A value is trying to be set on a copy of a slice from a DataFrame.\n",
      "Try using .loc[row_indexer,col_indexer] = value instead\n",
      "\n",
      "See the caveats in the documentation: http://pandas.pydata.org/pandas-docs/stable/indexing.html#indexing-view-versus-copy\n",
      "  \n"
     ]
    },
    {
     "data": {
      "image/png": "[encoded data removed]",
      "text/plain": [
       "<Figure size 432x288 with 1 Axes>"
      ]
     },
     "metadata": {
      "needs_background": "light"
     },
     "output_type": "display_data"
    }
   ],
   "source": [
    "label_0 = bc_2019_cv_label[bc_2019_cv_label['label'] == 0]\n",
    "label_0['nb_control_log'] = np.log(label_0['nb_control'])\n",
    "sns.kdeplot(label_0.nb_control_log, shade = True, cut=0);"
   ]
  },
  {
   "cell_type": "code",
   "execution_count": 146,
   "metadata": {},
   "outputs": [
    {
     "name": "stderr",
     "output_type": "stream",
     "text": [
      "C:\\Users\\user\\Anaconda3\\lib\\site-packages\\ipykernel_launcher.py:2: SettingWithCopyWarning: \n",
      "A value is trying to be set on a copy of a slice from a DataFrame.\n",
      "Try using .loc[row_indexer,col_indexer] = value instead\n",
      "\n",
      "See the caveats in the documentation: http://pandas.pydata.org/pandas-docs/stable/indexing.html#indexing-view-versus-copy\n",
      "  \n"
     ]
    },
    {
     "data": {
      "image/png": "[encoded data removed]",
      "text/plain": [
       "<Figure size 432x288 with 1 Axes>"
      ]
     },
     "metadata": {
      "needs_background": "light"
     },
     "output_type": "display_data"
    }
   ],
   "source": [
    "label_1 = bc_2019_cv_label[bc_2019_cv_label['label'] == 1]\n",
    "label_1['nb_control_log'] = np.log(label_1['nb_control'])\n",
    "sns.kdeplot(label_1.nb_control_log, shade = True, cut=0);"
   ]
  },
  {
   "cell_type": "code",
   "execution_count": 147,
   "metadata": {},
   "outputs": [
    {
     "name": "stderr",
     "output_type": "stream",
     "text": [
      "C:\\Users\\user\\Anaconda3\\lib\\site-packages\\ipykernel_launcher.py:2: SettingWithCopyWarning: \n",
      "A value is trying to be set on a copy of a slice from a DataFrame.\n",
      "Try using .loc[row_indexer,col_indexer] = value instead\n",
      "\n",
      "See the caveats in the documentation: http://pandas.pydata.org/pandas-docs/stable/indexing.html#indexing-view-versus-copy\n",
      "  \n"
     ]
    },
    {
     "data": {
      "image/png": "[encoded data removed]",
      "text/plain": [
       "<Figure size 432x288 with 1 Axes>"
      ]
     },
     "metadata": {
      "needs_background": "light"
     },
     "output_type": "display_data"
    }
   ],
   "source": [
    "label_2 = bc_2019_cv_label[bc_2019_cv_label['label'] == 2]\n",
    "label_2['nb_control_log'] = np.log(label_2['nb_control'])\n",
    "sns.kdeplot(label_2.nb_control_log, shade = True, cut=0);"
   ]
  },
  {
   "cell_type": "code",
   "execution_count": 157,
   "metadata": {},
   "outputs": [
    {
     "name": "stdout",
     "output_type": "stream",
     "text": [
      "                 Generalized Linear Model Regression Results                  \n",
      "==============================================================================\n",
      "Dep. Variable:         nb_control_log   No. Observations:                 1364\n",
      "Model:                            GLM   Df Residuals:                     1354\n",
      "Model Family:                Gaussian   Df Model:                            9\n",
      "Link Function:               identity   Scale:                         0.43274\n",
      "Method:                          IRLS   Log-Likelihood:                -1359.2\n",
      "Date:                Sun, 09 May 2021   Deviance:                       585.93\n",
      "Time:                        22:00:53   Pearson chi2:                     586.\n",
      "No. Iterations:                     3   Covariance Type:             nonrobust\n",
      "====================================================================================\n",
      "                       coef    std err          z      P>|z|      [0.025      0.975]\n",
      "------------------------------------------------------------------------------------\n",
      "const                1.2886      0.076     16.870      0.000       1.139       1.438\n",
      "jour_semaine         0.0442      0.009      5.057      0.000       0.027       0.061\n",
      "Sens_circulation    -0.0268      0.036     -0.740      0.459      -0.098       0.044\n",
      "h_x                  0.0173      0.029      0.589      0.556      -0.040       0.075\n",
      "h_y                  0.0049      0.048      0.102      0.919      -0.089       0.099\n",
      "m_x                 -0.0403      0.024     -1.646      0.100      -0.088       0.008\n",
      "m_y                  0.0339      0.027      1.279      0.201      -0.018       0.086\n",
      "nb_control_1         0.0165      0.005      3.393      0.001       0.007       0.026\n",
      "nb_control_2         0.0061      0.004      1.439      0.150      -0.002       0.014\n",
      "nb_control_3         0.0206      0.004      4.863      0.000       0.012       0.029\n",
      "====================================================================================\n"
     ]
    },
    {
     "name": "stderr",
     "output_type": "stream",
     "text": [
      "C:\\Users\\user\\Anaconda3\\lib\\site-packages\\numpy\\core\\fromnumeric.py:2389: FutureWarning: Method .ptp is deprecated and will be removed in a future version. Use numpy.ptp instead.\n",
      "  return ptp(axis=axis, out=out, **kwargs)\n"
     ]
    }
   ],
   "source": [
    "data = label_0.drop(['nb_control_log', 'nb_control', 'label'], axis = 1)\n",
    "target = label_0.nb_control_log\n",
    "X_train, X_test, y_train, y_test = train_test_split(data, target, test_size = 0.2)\n",
    "\n",
    "exog, endog = sm.add_constant(X_train), y_train\n",
    "glm_model = sm.GLM(endog, exog, family = sm.families.Gaussian())\n",
    "res = glm_model.fit()\n",
    "print(res.summary())"
   ]
  },
  {
   "cell_type": "code",
   "execution_count": 158,
   "metadata": {},
   "outputs": [
    {
     "name": "stdout",
     "output_type": "stream",
     "text": [
      "0.4295641481269786\n",
      "0.4338929783362157\n"
     ]
    }
   ],
   "source": [
    "pred_train = res.predict(sm.add_constant(X_train))\n",
    "pred_test = res.predict(sm.add_constant(X_test))\n",
    "print(mean_squared_error(pred_train, y_train))\n",
    "print(mean_squared_error(pred_test, y_test))"
   ]
  },
  {
   "cell_type": "code",
   "execution_count": 159,
   "metadata": {},
   "outputs": [
    {
     "data": {
      "text/plain": [
       "[<matplotlib.lines.Line2D at 0x1512c5dd400>]"
      ]
     },
     "execution_count": 159,
     "metadata": {},
     "output_type": "execute_result"
    },
    {
     "data": {
      "image/png": "[encoded data removed]",
      "text/plain": [
       "<Figure size 432x288 with 1 Axes>"
      ]
     },
     "metadata": {
      "needs_background": "light"
     },
     "output_type": "display_data"
    }
   ],
   "source": [
    "plt.scatter(pred_test, y_test)\n",
    "plt.plot((y_test.min(),y_test.max()), (y_test.min(),y_test.max()))"
   ]
  },
  {
   "cell_type": "code",
   "execution_count": 160,
   "metadata": {},
   "outputs": [
    {
     "name": "stdout",
     "output_type": "stream",
     "text": [
      "                 Generalized Linear Model Regression Results                  \n",
      "==============================================================================\n",
      "Dep. Variable:         nb_control_log   No. Observations:                 3099\n",
      "Model:                            GLM   Df Residuals:                     3089\n",
      "Model Family:                Gaussian   Df Model:                            9\n",
      "Link Function:               identity   Scale:                         0.41881\n",
      "Method:                          IRLS   Log-Likelihood:                -3043.7\n",
      "Date:                Sun, 09 May 2021   Deviance:                       1293.7\n",
      "Time:                        22:01:20   Pearson chi2:                 1.29e+03\n",
      "No. Iterations:                     3   Covariance Type:             nonrobust\n",
      "====================================================================================\n",
      "                       coef    std err          z      P>|z|      [0.025      0.975]\n",
      "------------------------------------------------------------------------------------\n",
      "const                1.6354      0.052     31.512      0.000       1.534       1.737\n",
      "jour_semaine        -0.0038      0.006     -0.646      0.518      -0.015       0.008\n",
      "Sens_circulation    -0.0151      0.023     -0.644      0.519      -0.061       0.031\n",
      "h_x                 -0.0808      0.017     -4.762      0.000      -0.114      -0.048\n",
      "h_y                 -0.1317      0.029     -4.524      0.000      -0.189      -0.075\n",
      "m_x                  0.0090      0.016      0.572      0.567      -0.022       0.040\n",
      "m_y                  0.0236      0.018      1.343      0.179      -0.011       0.058\n",
      "nb_control_1        -0.0308      0.005     -6.368      0.000      -0.040      -0.021\n",
      "nb_control_2         0.0270      0.005      5.633      0.000       0.018       0.036\n",
      "nb_control_3        -0.0732      0.005    -13.979      0.000      -0.083      -0.063\n",
      "====================================================================================\n"
     ]
    },
    {
     "name": "stderr",
     "output_type": "stream",
     "text": [
      "C:\\Users\\user\\Anaconda3\\lib\\site-packages\\numpy\\core\\fromnumeric.py:2389: FutureWarning: Method .ptp is deprecated and will be removed in a future version. Use numpy.ptp instead.\n",
      "  return ptp(axis=axis, out=out, **kwargs)\n"
     ]
    }
   ],
   "source": [
    "data = label_2.drop(['nb_control_log', 'nb_control', 'label'], axis = 1)\n",
    "target = label_2.nb_control_log\n",
    "X_train, X_test, y_train, y_test = train_test_split(data, target, test_size = 0.2)\n",
    "\n",
    "exog, endog = sm.add_constant(X_train), y_train\n",
    "glm_model = sm.GLM(endog, exog, family = sm.families.Gaussian())\n",
    "res = glm_model.fit()\n",
    "print(res.summary())"
   ]
  },
  {
   "cell_type": "code",
   "execution_count": 161,
   "metadata": {},
   "outputs": [
    {
     "name": "stdout",
     "output_type": "stream",
     "text": [
      "0.4174555968171498\n",
      "0.39544010545224517\n"
     ]
    }
   ],
   "source": [
    "pred_train = res.predict(sm.add_constant(X_train))\n",
    "pred_test = res.predict(sm.add_constant(X_test))\n",
    "print(mean_squared_error(pred_train, y_train))\n",
    "print(mean_squared_error(pred_test, y_test))"
   ]
  },
  {
   "cell_type": "code",
   "execution_count": 162,
   "metadata": {},
   "outputs": [
    {
     "data": {
      "text/plain": [
       "[<matplotlib.lines.Line2D at 0x15132cc24e0>]"
      ]
     },
     "execution_count": 162,
     "metadata": {},
     "output_type": "execute_result"
    },
    {
     "data": {
      "image/png": "[encoded data removed]",
      "text/plain": [
       "<Figure size 432x288 with 1 Axes>"
      ]
     },
     "metadata": {
      "needs_background": "light"
     },
     "output_type": "display_data"
    }
   ],
   "source": [
    "plt.scatter(pred_test, y_test)\n",
    "plt.plot((y_test.min(),y_test.max()), (y_test.min(),y_test.max()))"
   ]
  },
  {
   "cell_type": "code",
   "execution_count": 163,
   "metadata": {},
   "outputs": [
    {
     "data": {
      "text/html": [
       "<div>\n",
       "<style scoped>\n",
       "    .dataframe tbody tr th:only-of-type {\n",
       "        vertical-align: middle;\n",
       "    }\n",
       "\n",
       "    .dataframe tbody tr th {\n",
       "        vertical-align: top;\n",
       "    }\n",
       "\n",
       "    .dataframe thead th {\n",
       "        text-align: right;\n",
       "    }\n",
       "</style>\n",
       "<table border=\"1\" class=\"dataframe\">\n",
       "  <thead>\n",
       "    <tr style=\"text-align: right;\">\n",
       "      <th></th>\n",
       "      <th>jour_semaine</th>\n",
       "      <th>Sens_circulation</th>\n",
       "      <th>nb_control</th>\n",
       "      <th>h_x</th>\n",
       "      <th>h_y</th>\n",
       "      <th>m_x</th>\n",
       "      <th>m_y</th>\n",
       "      <th>nb_control_1</th>\n",
       "      <th>nb_control_2</th>\n",
       "      <th>nb_control_3</th>\n",
       "      <th>label</th>\n",
       "    </tr>\n",
       "  </thead>\n",
       "  <tbody>\n",
       "    <tr>\n",
       "      <th>0</th>\n",
       "      <td>3</td>\n",
       "      <td>1</td>\n",
       "      <td>2</td>\n",
       "      <td>1.0</td>\n",
       "      <td>0.0</td>\n",
       "      <td>5.000000e-01</td>\n",
       "      <td>-0.866025</td>\n",
       "      <td>1</td>\n",
       "      <td>2</td>\n",
       "      <td>1</td>\n",
       "      <td>1</td>\n",
       "    </tr>\n",
       "    <tr>\n",
       "      <th>1</th>\n",
       "      <td>4</td>\n",
       "      <td>1</td>\n",
       "      <td>1</td>\n",
       "      <td>1.0</td>\n",
       "      <td>0.0</td>\n",
       "      <td>5.000000e-01</td>\n",
       "      <td>-0.866025</td>\n",
       "      <td>1</td>\n",
       "      <td>2</td>\n",
       "      <td>1</td>\n",
       "      <td>1</td>\n",
       "    </tr>\n",
       "    <tr>\n",
       "      <th>2</th>\n",
       "      <td>1</td>\n",
       "      <td>1</td>\n",
       "      <td>2</td>\n",
       "      <td>1.0</td>\n",
       "      <td>0.0</td>\n",
       "      <td>6.123234e-17</td>\n",
       "      <td>-1.000000</td>\n",
       "      <td>1</td>\n",
       "      <td>2</td>\n",
       "      <td>1</td>\n",
       "      <td>1</td>\n",
       "    </tr>\n",
       "    <tr>\n",
       "      <th>3</th>\n",
       "      <td>3</td>\n",
       "      <td>1</td>\n",
       "      <td>1</td>\n",
       "      <td>1.0</td>\n",
       "      <td>0.0</td>\n",
       "      <td>6.123234e-17</td>\n",
       "      <td>-1.000000</td>\n",
       "      <td>1</td>\n",
       "      <td>2</td>\n",
       "      <td>1</td>\n",
       "      <td>1</td>\n",
       "    </tr>\n",
       "    <tr>\n",
       "      <th>4</th>\n",
       "      <td>2</td>\n",
       "      <td>0</td>\n",
       "      <td>2</td>\n",
       "      <td>1.0</td>\n",
       "      <td>0.0</td>\n",
       "      <td>1.000000e+00</td>\n",
       "      <td>0.000000</td>\n",
       "      <td>1</td>\n",
       "      <td>4</td>\n",
       "      <td>3</td>\n",
       "      <td>1</td>\n",
       "    </tr>\n",
       "  </tbody>\n",
       "</table>\n",
       "</div>"
      ],
      "text/plain": [
       "   jour_semaine  Sens_circulation  nb_control  h_x  h_y           m_x  \\\n",
       "0             3                 1           2  1.0  0.0  5.000000e-01   \n",
       "1             4                 1           1  1.0  0.0  5.000000e-01   \n",
       "2             1                 1           2  1.0  0.0  6.123234e-17   \n",
       "3             3                 1           1  1.0  0.0  6.123234e-17   \n",
       "4             2                 0           2  1.0  0.0  1.000000e+00   \n",
       "\n",
       "        m_y  nb_control_1  nb_control_2  nb_control_3  label  \n",
       "0 -0.866025             1             2             1      1  \n",
       "1 -0.866025             1             2             1      1  \n",
       "2 -1.000000             1             2             1      1  \n",
       "3 -1.000000             1             2             1      1  \n",
       "4  0.000000             1             4             3      1  "
      ]
     },
     "execution_count": 163,
     "metadata": {},
     "output_type": "execute_result"
    }
   ],
   "source": [
    "bc_2019_cv_label.head()"
   ]
  },
  {
   "cell_type": "code",
   "execution_count": 164,
   "metadata": {},
   "outputs": [],
   "source": [
    "from sklearn.preprocessing import PolynomialFeatures\n",
    "from sklearn.pipeline import make_pipeline"
   ]
  },
  {
   "cell_type": "code",
   "execution_count": 165,
   "metadata": {},
   "outputs": [],
   "source": [
    "data = bc_2019_cv_label.drop(['nb_control', 'label'], axis = 1)\n",
    "target = bc_2019_cv_label.nb_control\n",
    "X_train, X_test, y_train, y_test = train_test_split(data, target, test_size = 0.2)"
   ]
  },
  {
   "cell_type": "code",
   "execution_count": 179,
   "metadata": {},
   "outputs": [
    {
     "data": {
      "text/plain": [
       "Pipeline(memory=None,\n",
       "     steps=[('polynomialfeatures', PolynomialFeatures(degree=3, include_bias=True, interaction_only=False)), ('linearregression', LinearRegression(copy_X=True, fit_intercept=True, n_jobs=None,\n",
       "         normalize=False))])"
      ]
     },
     "execution_count": 179,
     "metadata": {},
     "output_type": "execute_result"
    }
   ],
   "source": [
    "#poly = PolynomialFeatures(degree = 4)\n",
    "#X_train_poly = poly.fit_transform(X_train)\n",
    "polyreg = make_pipeline(PolynomialFeatures(3), LinearRegression())\n",
    "polyreg.fit(X_train, y_train)"
   ]
  },
  {
   "cell_type": "code",
   "execution_count": 180,
   "metadata": {},
   "outputs": [
    {
     "name": "stdout",
     "output_type": "stream",
     "text": [
      "6.101600649413533\n",
      "6.2362476741425485\n"
     ]
    }
   ],
   "source": [
    "pred_train = polyreg.predict(X_train)\n",
    "pred_test = polyreg.predict(X_test)\n",
    "print(mean_squared_error(pred_train, y_train))\n",
    "print(mean_squared_error(pred_test, y_test))"
   ]
  },
  {
   "cell_type": "code",
   "execution_count": 181,
   "metadata": {},
   "outputs": [
    {
     "data": {
      "text/plain": [
       "[<matplotlib.lines.Line2D at 0x15129ff4400>]"
      ]
     },
     "execution_count": 181,
     "metadata": {},
     "output_type": "execute_result"
    },
    {
     "data": {
      "image/png": "[encoded data removed]",
      "text/plain": [
       "<Figure size 432x288 with 1 Axes>"
      ]
     },
     "metadata": {
      "needs_background": "light"
     },
     "output_type": "display_data"
    }
   ],
   "source": [
    "plt.scatter(pred_test, y_test)\n",
    "plt.plot((y_test.min(),y_test.max()), (y_test.min(),y_test.max()))"
   ]
  }
 ],
 "metadata": {
  "kernelspec": {
   "display_name": "Python 3",
   "language": "python",
   "name": "python3"
  },
  "language_info": {
   "codemirror_mode": {
    "name": "ipython",
    "version": 3
   },
   "file_extension": ".py",
   "mimetype": "text/x-python",
   "name": "python",
   "nbconvert_exporter": "python",
   "pygments_lexer": "ipython3",
   "version": "3.8.10"
  }
 },
 "nbformat": 4,
 "nbformat_minor": 2
}

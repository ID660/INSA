{
 "cells": [
  {
   "cell_type": "code",
   "execution_count": 4,
   "id": "58e1b2cd",
   "metadata": {},
   "outputs": [
    {
     "name": "stdout",
     "output_type": "stream",
     "text": [
      "Requirement already satisfied: cmake in c:\\users\\insa\\anaconda3\\envs\\insa\\lib\\site-packages (3.21.2)\n"
     ]
    }
   ],
   "source": [
    "!pip install cmake"
   ]
  },
  {
   "cell_type": "code",
   "execution_count": 5,
   "id": "cf891ab5",
   "metadata": {},
   "outputs": [
    {
     "name": "stdout",
     "output_type": "stream",
     "text": [
      "Requirement already satisfied: dlib in c:\\users\\insa\\anaconda3\\envs\\insa\\lib\\site-packages (19.22.1)\n"
     ]
    }
   ],
   "source": [
    "! pip install dlib"
   ]
  },
  {
   "cell_type": "code",
   "execution_count": 8,
   "id": "a0ce998a",
   "metadata": {},
   "outputs": [
    {
     "ename": "error",
     "evalue": "OpenCV(4.5.3) C:\\Users\\runneradmin\\AppData\\Local\\Temp\\pip-req-build-u4kjpz2z\\opencv\\modules\\imgproc\\src\\color.cpp:182: error: (-215:Assertion failed) !_src.empty() in function 'cv::cvtColor'\n",
     "output_type": "error",
     "traceback": [
      "\u001b[1;31m---------------------------------------------------------------------------\u001b[0m",
      "\u001b[1;31merror\u001b[0m                                     Traceback (most recent call last)",
      "\u001b[1;32m<ipython-input-8-a13e5542a6e1>\u001b[0m in \u001b[0;36m<module>\u001b[1;34m\u001b[0m\n\u001b[0;32m     16\u001b[0m \u001b[1;32mwhile\u001b[0m \u001b[1;32mTrue\u001b[0m\u001b[1;33m:\u001b[0m\u001b[1;33m\u001b[0m\u001b[1;33m\u001b[0m\u001b[0m\n\u001b[0;32m     17\u001b[0m     \u001b[0m_\u001b[0m\u001b[1;33m,\u001b[0m \u001b[0mframe\u001b[0m \u001b[1;33m=\u001b[0m \u001b[0mcap\u001b[0m\u001b[1;33m.\u001b[0m\u001b[0mread\u001b[0m\u001b[1;33m(\u001b[0m\u001b[1;33m)\u001b[0m\u001b[1;33m\u001b[0m\u001b[1;33m\u001b[0m\u001b[0m\n\u001b[1;32m---> 18\u001b[1;33m     \u001b[0mgray\u001b[0m \u001b[1;33m=\u001b[0m \u001b[0mcv2\u001b[0m\u001b[1;33m.\u001b[0m\u001b[0mcvtColor\u001b[0m\u001b[1;33m(\u001b[0m\u001b[0mframe\u001b[0m\u001b[1;33m,\u001b[0m \u001b[0mcv2\u001b[0m\u001b[1;33m.\u001b[0m\u001b[0mCOLOR_BGR2GRAY\u001b[0m\u001b[1;33m)\u001b[0m\u001b[1;33m\u001b[0m\u001b[1;33m\u001b[0m\u001b[0m\n\u001b[0m\u001b[0;32m     19\u001b[0m \u001b[1;33m\u001b[0m\u001b[0m\n\u001b[0;32m     20\u001b[0m     \u001b[0mfaces\u001b[0m \u001b[1;33m=\u001b[0m \u001b[0mhog_face_detector\u001b[0m\u001b[1;33m(\u001b[0m\u001b[0mgray\u001b[0m\u001b[1;33m)\u001b[0m\u001b[1;33m\u001b[0m\u001b[1;33m\u001b[0m\u001b[0m\n",
      "\u001b[1;31merror\u001b[0m: OpenCV(4.5.3) C:\\Users\\runneradmin\\AppData\\Local\\Temp\\pip-req-build-u4kjpz2z\\opencv\\modules\\imgproc\\src\\color.cpp:182: error: (-215:Assertion failed) !_src.empty() in function 'cv::cvtColor'\n"
     ]
    }
   ],
   "source": [
    "import cv2\n",
    "import dlib\n",
    "from scipy.spatial import distance\n",
    "\n",
    "def calculate_EAR(eye):\n",
    "    A = distance.euclidean(eye[1], eye[5])\n",
    "    B = distance.euclidean(eye[2], eye[4])\n",
    "    C = distance.euclidean(eye[0], eye[3])\n",
    "    ear_aspect_ratio = (A+B)/(2.0*C)\n",
    "    return ear_aspect_ratio\n",
    "\n",
    "cap = cv2.VideoCapture(0)\n",
    "hog_face_detector = dlib.get_frontal_face_detector()\n",
    "dlib_facelandmark = dlib.shape_predictor(\"shape_predictor_68_face_landmarks.dat\")\n",
    "\n",
    "while True:\n",
    "    _, frame = cap.read()\n",
    "    gray = cv2.cvtColor(frame, cv2.COLOR_BGR2GRAY)\n",
    "\n",
    "    faces = hog_face_detector(gray)\n",
    "    for face in faces:\n",
    "\n",
    "        face_landmarks = dlib_facelandmark(gray, face)\n",
    "        leftEye = []\n",
    "        rightEye = []\n",
    "\n",
    "        for n in range(36,42):\n",
    "            x = face_landmarks.part(n).x\n",
    "            y = face_landmarks.part(n).y\n",
    "            leftEye.append((x,y))\n",
    "            next_point = n+1\n",
    "            if n == 41:\n",
    "                next_point = 36\n",
    "            x2 = face_landmarks.part(next_point).x\n",
    "            y2 = face_landmarks.part(next_point).y\n",
    "            cv2.line(frame,(x,y),(x2,y2),(0,255,0),1)\n",
    "\n",
    "        for n in range(42,48):\n",
    "            x = face_landmarks.part(n).x\n",
    "            y = face_landmarks.part(n).y\n",
    "            rightEye.append((x,y))\n",
    "            next_point = n+1\n",
    "            if n == 47:\n",
    "                next_point = 42\n",
    "            x2 = face_landmarks.part(next_point).x\n",
    "            y2 = face_landmarks.part(next_point).y\n",
    "            cv2.line(frame,(x,y),(x2,y2),(0,255,0),1)\n",
    "\n",
    "        left_ear = calculate_EAR(leftEye)\n",
    "        right_ear = calculate_EAR(rightEye)\n",
    "\n",
    "        EAR = (left_ear+right_ear)/2\n",
    "        EAR = round(EAR,2)\n",
    "        if EAR<0.26:\n",
    "            cv2.putText(frame,\"DROWSY\",(20,100),\n",
    "                cv2.FONT_HERSHEY_SIMPLEX,3,(0,0,255),4)\n",
    "            cv2.putText(frame,\"Are you Sleepy?\",(20,400),\n",
    "                cv2.FONT_HERSHEY_SIMPLEX,2,(0,0,255),4)\n",
    "            print(\"Drowsy\")\n",
    "        print(EAR)\n",
    "\n",
    "    cv2.imshow(\"Are you Sleepy\", frame)\n",
    "\n",
    "    key = cv2.waitKey(1)\n",
    "    if key == 27:\n",
    "        break\n",
    "cap.release()\n",
    "cv2.destroyAllWindows()"
   ]
  },
  {
   "cell_type": "code",
   "execution_count": null,
   "id": "60d9aa7b",
   "metadata": {},
   "outputs": [],
   "source": []
  }
 ],
 "metadata": {
  "kernelspec": {
   "display_name": "Python 3",
   "language": "python",
   "name": "python3"
  },
  "language_info": {
   "codemirror_mode": {
    "name": "ipython",
    "version": 3
   },
   "file_extension": ".py",
   "mimetype": "text/x-python",
   "name": "python",
   "nbconvert_exporter": "python",
   "pygments_lexer": "ipython3",
   "version": "3.8.10"
  }
 },
 "nbformat": 4,
 "nbformat_minor": 5
}

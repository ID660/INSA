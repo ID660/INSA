{
 "cells": [
  {
   "cell_type": "code",
   "execution_count": 1,
   "id": "44adf356",
   "metadata": {},
   "outputs": [
    {
     "name": "stderr",
     "output_type": "stream",
     "text": [
      "C:\\Users\\INSA\\anaconda4\\INSA\\lib\\site-packages\\numpy\\_distributor_init.py:30: UserWarning: loaded more than 1 DLL from .libs:\n",
      "C:\\Users\\INSA\\anaconda4\\INSA\\lib\\site-packages\\numpy\\.libs\\libopenblas.PYQHXLVVQ7VESDPUVUADXEVJOBGHJPAY.gfortran-win_amd64.dll\n",
      "C:\\Users\\INSA\\anaconda4\\INSA\\lib\\site-packages\\numpy\\.libs\\libopenblas.wcdjnk7yvmpzq2me2zzhjjrj3jikndb7.gfortran-win_amd64.dll\n",
      "  warnings.warn(\"loaded more than 1 DLL from .libs:\"\n"
     ]
    }
   ],
   "source": [
    "from mlxtend.plotting import plot_decision_regions\n",
    "import matplotlib.pyplot as plt\n",
    "from sklearn import datasets\n",
    "from sklearn.svm import SVC\n"
   ]
  },
  {
   "cell_type": "code",
   "execution_count": 2,
   "id": "77214e2c",
   "metadata": {},
   "outputs": [],
   "source": [
    "import pandas as pd\n",
    "from sklearn.model_selection import  train_test_split"
   ]
  },
  {
   "cell_type": "code",
   "execution_count": 3,
   "id": "b2abe305",
   "metadata": {},
   "outputs": [
    {
     "data": {
      "text/html": [
       "<div>\n",
       "<style scoped>\n",
       "    .dataframe tbody tr th:only-of-type {\n",
       "        vertical-align: middle;\n",
       "    }\n",
       "\n",
       "    .dataframe tbody tr th {\n",
       "        vertical-align: top;\n",
       "    }\n",
       "\n",
       "    .dataframe thead th {\n",
       "        text-align: right;\n",
       "    }\n",
       "</style>\n",
       "<table border=\"1\" class=\"dataframe\">\n",
       "  <thead>\n",
       "    <tr style=\"text-align: right;\">\n",
       "      <th></th>\n",
       "      <th>Num_Train</th>\n",
       "      <th>Date</th>\n",
       "      <th>nbre_operation</th>\n",
       "      <th>Id_Agent</th>\n",
       "      <th>Direction_Ligne</th>\n",
       "      <th>Sous_Ligne</th>\n",
       "      <th>Ligne_Presence_imposee</th>\n",
       "      <th>Gare Origine</th>\n",
       "      <th>Heure_Origine</th>\n",
       "      <th>Gare Fin</th>\n",
       "      <th>Heure_Fin</th>\n",
       "      <th>nbre_voy_reconstruc</th>\n",
       "      <th>annee</th>\n",
       "      <th>mois</th>\n",
       "      <th>jour_semaine</th>\n",
       "      <th>periode_pointe</th>\n",
       "      <th>Sens_circulation</th>\n",
       "    </tr>\n",
       "  </thead>\n",
       "  <tbody>\n",
       "    <tr>\n",
       "      <th>0</th>\n",
       "      <td>836404</td>\n",
       "      <td>2021-04-05</td>\n",
       "      <td>1</td>\n",
       "      <td>1.0</td>\n",
       "      <td>DL Paris Grand Est</td>\n",
       "      <td>Paris Est Ã¢ÂÂ Troyes - Mulhouse</td>\n",
       "      <td>1.0</td>\n",
       "      <td>Paris Est</td>\n",
       "      <td>42</td>\n",
       "      <td>Culmont - Chalindrey</td>\n",
       "      <td>40</td>\n",
       "      <td>39.0</td>\n",
       "      <td>2021</td>\n",
       "      <td>4</td>\n",
       "      <td>0</td>\n",
       "      <td>hors pointe</td>\n",
       "      <td>1</td>\n",
       "    </tr>\n",
       "    <tr>\n",
       "      <th>1</th>\n",
       "      <td>836404</td>\n",
       "      <td>2021-04-11</td>\n",
       "      <td>7</td>\n",
       "      <td>1.0</td>\n",
       "      <td>DL Paris Grand Est</td>\n",
       "      <td>Paris Est Ã¢ÂÂ Troyes - Mulhouse</td>\n",
       "      <td>1.0</td>\n",
       "      <td>Paris Est</td>\n",
       "      <td>42</td>\n",
       "      <td>Culmont - Chalindrey</td>\n",
       "      <td>40</td>\n",
       "      <td>65.0</td>\n",
       "      <td>2021</td>\n",
       "      <td>4</td>\n",
       "      <td>6</td>\n",
       "      <td>hors pointe</td>\n",
       "      <td>1</td>\n",
       "    </tr>\n",
       "    <tr>\n",
       "      <th>2</th>\n",
       "      <td>836404</td>\n",
       "      <td>2021-04-18</td>\n",
       "      <td>7</td>\n",
       "      <td>1.0</td>\n",
       "      <td>DL Paris Grand Est</td>\n",
       "      <td>Paris Est Ã¢ÂÂ Troyes - Mulhouse</td>\n",
       "      <td>1.0</td>\n",
       "      <td>Paris Est</td>\n",
       "      <td>42</td>\n",
       "      <td>Culmont - Chalindrey</td>\n",
       "      <td>40</td>\n",
       "      <td>75.0</td>\n",
       "      <td>2021</td>\n",
       "      <td>4</td>\n",
       "      <td>6</td>\n",
       "      <td>hors pointe</td>\n",
       "      <td>1</td>\n",
       "    </tr>\n",
       "    <tr>\n",
       "      <th>3</th>\n",
       "      <td>836404</td>\n",
       "      <td>2021-04-25</td>\n",
       "      <td>14</td>\n",
       "      <td>1.0</td>\n",
       "      <td>DL Paris Grand Est</td>\n",
       "      <td>Paris Est Ã¢ÂÂ Troyes - Mulhouse</td>\n",
       "      <td>1.0</td>\n",
       "      <td>Paris Est</td>\n",
       "      <td>42</td>\n",
       "      <td>Culmont - Chalindrey</td>\n",
       "      <td>40</td>\n",
       "      <td>129.0</td>\n",
       "      <td>2021</td>\n",
       "      <td>4</td>\n",
       "      <td>6</td>\n",
       "      <td>hors pointe</td>\n",
       "      <td>1</td>\n",
       "    </tr>\n",
       "    <tr>\n",
       "      <th>7</th>\n",
       "      <td>836406</td>\n",
       "      <td>2021-04-02</td>\n",
       "      <td>2</td>\n",
       "      <td>1.0</td>\n",
       "      <td>DL Paris Grand Est</td>\n",
       "      <td>Paris Est Ã¢ÂÂ Troyes - Mulhouse</td>\n",
       "      <td>1.0</td>\n",
       "      <td>Paris Est</td>\n",
       "      <td>12</td>\n",
       "      <td>Vittel</td>\n",
       "      <td>2</td>\n",
       "      <td>8.0</td>\n",
       "      <td>2021</td>\n",
       "      <td>4</td>\n",
       "      <td>4</td>\n",
       "      <td>pointe midi</td>\n",
       "      <td>1</td>\n",
       "    </tr>\n",
       "  </tbody>\n",
       "</table>\n",
       "</div>"
      ],
      "text/plain": [
       "   Num_Train        Date  nbre_operation  Id_Agent     Direction_Ligne  \\\n",
       "0     836404  2021-04-05               1       1.0  DL Paris Grand Est   \n",
       "1     836404  2021-04-11               7       1.0  DL Paris Grand Est   \n",
       "2     836404  2021-04-18               7       1.0  DL Paris Grand Est   \n",
       "3     836404  2021-04-25              14       1.0  DL Paris Grand Est   \n",
       "7     836406  2021-04-02               2       1.0  DL Paris Grand Est   \n",
       "\n",
       "                           Sous_Ligne  Ligne_Presence_imposee Gare Origine  \\\n",
       "0  Paris Est Ã¢ÂÂ Troyes - Mulhouse                     1.0    Paris Est   \n",
       "1  Paris Est Ã¢ÂÂ Troyes - Mulhouse                     1.0    Paris Est   \n",
       "2  Paris Est Ã¢ÂÂ Troyes - Mulhouse                     1.0    Paris Est   \n",
       "3  Paris Est Ã¢ÂÂ Troyes - Mulhouse                     1.0    Paris Est   \n",
       "7  Paris Est Ã¢ÂÂ Troyes - Mulhouse                     1.0    Paris Est   \n",
       "\n",
       "   Heure_Origine              Gare Fin  Heure_Fin  nbre_voy_reconstruc  annee  \\\n",
       "0             42  Culmont - Chalindrey         40                 39.0   2021   \n",
       "1             42  Culmont - Chalindrey         40                 65.0   2021   \n",
       "2             42  Culmont - Chalindrey         40                 75.0   2021   \n",
       "3             42  Culmont - Chalindrey         40                129.0   2021   \n",
       "7             12                Vittel          2                  8.0   2021   \n",
       "\n",
       "   mois  jour_semaine periode_pointe  Sens_circulation  \n",
       "0     4             0    hors pointe                 1  \n",
       "1     4             6    hors pointe                 1  \n",
       "2     4             6    hors pointe                 1  \n",
       "3     4             6    hors pointe                 1  \n",
       "7     4             4    pointe midi                 1  "
      ]
     },
     "execution_count": 3,
     "metadata": {},
     "output_type": "execute_result"
    }
   ],
   "source": [
    "T = pd.read_csv('base_2021.csv', index_col = 0)\n",
    "T.head()\n"
   ]
  },
  {
   "cell_type": "code",
   "execution_count": 4,
   "id": "dd9737dc",
   "metadata": {},
   "outputs": [
    {
     "name": "stdout",
     "output_type": "stream",
     "text": [
      "<class 'pandas.core.frame.DataFrame'>\n",
      "Int64Index: 38660 entries, 0 to 39026\n",
      "Data columns (total 5 columns):\n",
      " #   Column               Non-Null Count  Dtype  \n",
      "---  ------               --------------  -----  \n",
      " 0   nbre_operation       38660 non-null  int64  \n",
      " 1   Id_Agent             38660 non-null  float64\n",
      " 2   Sous_Ligne           38660 non-null  object \n",
      " 3   nbre_voy_reconstruc  38660 non-null  float64\n",
      " 4   jour_semaine         38660 non-null  int64  \n",
      "dtypes: float64(2), int64(2), object(1)\n",
      "memory usage: 1.8+ MB\n"
     ]
    }
   ],
   "source": [
    "total = T.drop(['Date', 'Num_Train', 'annee', 'Heure_Fin', 'Gare Origine', 'Gare Fin','Direction_Ligne'\n",
    "                      , 'Ligne_Presence_imposee', 'Sens_circulation','Heure_Origine','periode_pointe','mois'] , axis = 1)\n",
    "\n",
    "total.info()"
   ]
  },
  {
   "cell_type": "code",
   "execution_count": 5,
   "id": "211424f2",
   "metadata": {},
   "outputs": [],
   "source": [
    "total['jour_semaine'] = total['jour_semaine'].astype('object')\n",
    "\n",
    "total['Id_Agent'] = total['Id_Agent'].astype('object')\n"
   ]
  },
  {
   "cell_type": "code",
   "execution_count": 6,
   "id": "693f7e6d",
   "metadata": {},
   "outputs": [],
   "source": [
    "import numpy as np\n",
    "import pandas as pd\n",
    "\n",
    "from sklearn import model_selection, preprocessing\n",
    "\n",
    "from sklearn.model_selection import cross_val_predict, train_test_split\n",
    "from sklearn.linear_model import LinearRegression, LassoCV, RidgeCV\n",
    "from sklearn.metrics import mean_squared_error\n",
    "\n",
    "import matplotlib.pyplot as plt\n",
    "%matplotlib inline \n",
    "\n",
    "import seaborn as sns"
   ]
  },
  {
   "cell_type": "code",
   "execution_count": 7,
   "id": "b7efe598",
   "metadata": {},
   "outputs": [
    {
     "name": "stdout",
     "output_type": "stream",
     "text": [
      "Id_Agent\n",
      "Sous_Ligne\n",
      "jour_semaine\n"
     ]
    },
    {
     "data": {
      "text/html": [
       "<div>\n",
       "<style scoped>\n",
       "    .dataframe tbody tr th:only-of-type {\n",
       "        vertical-align: middle;\n",
       "    }\n",
       "\n",
       "    .dataframe tbody tr th {\n",
       "        vertical-align: top;\n",
       "    }\n",
       "\n",
       "    .dataframe thead th {\n",
       "        text-align: right;\n",
       "    }\n",
       "</style>\n",
       "<table border=\"1\" class=\"dataframe\">\n",
       "  <thead>\n",
       "    <tr style=\"text-align: right;\">\n",
       "      <th></th>\n",
       "      <th>nbre_operation</th>\n",
       "      <th>nbre_voy_reconstruc</th>\n",
       "      <th>Id_Agent_1.0</th>\n",
       "      <th>Id_Agent_2.0</th>\n",
       "      <th>Id_Agent_3.0</th>\n",
       "      <th>Id_Agent_4.0</th>\n",
       "      <th>Id_Agent_5.0</th>\n",
       "      <th>Id_Agent_6.0</th>\n",
       "      <th>Id_Agent_7.0</th>\n",
       "      <th>Id_Agent_8.0</th>\n",
       "      <th>...</th>\n",
       "      <th>Sous_Ligne_Thionville â Longuyon â Longwy</th>\n",
       "      <th>Sous_Ligne_Tram-train Thann Ã¢ÂÂ Mulhouse</th>\n",
       "      <th>Sous_Ligne_Wissembourg Ã¢ÂÂ Strasbourg</th>\n",
       "      <th>jour_semaine_0</th>\n",
       "      <th>jour_semaine_1</th>\n",
       "      <th>jour_semaine_2</th>\n",
       "      <th>jour_semaine_3</th>\n",
       "      <th>jour_semaine_4</th>\n",
       "      <th>jour_semaine_5</th>\n",
       "      <th>jour_semaine_6</th>\n",
       "    </tr>\n",
       "  </thead>\n",
       "  <tbody>\n",
       "    <tr>\n",
       "      <th>0</th>\n",
       "      <td>1</td>\n",
       "      <td>39.0</td>\n",
       "      <td>1</td>\n",
       "      <td>0</td>\n",
       "      <td>0</td>\n",
       "      <td>0</td>\n",
       "      <td>0</td>\n",
       "      <td>0</td>\n",
       "      <td>0</td>\n",
       "      <td>0</td>\n",
       "      <td>...</td>\n",
       "      <td>0</td>\n",
       "      <td>0</td>\n",
       "      <td>0</td>\n",
       "      <td>1</td>\n",
       "      <td>0</td>\n",
       "      <td>0</td>\n",
       "      <td>0</td>\n",
       "      <td>0</td>\n",
       "      <td>0</td>\n",
       "      <td>0</td>\n",
       "    </tr>\n",
       "    <tr>\n",
       "      <th>1</th>\n",
       "      <td>7</td>\n",
       "      <td>65.0</td>\n",
       "      <td>1</td>\n",
       "      <td>0</td>\n",
       "      <td>0</td>\n",
       "      <td>0</td>\n",
       "      <td>0</td>\n",
       "      <td>0</td>\n",
       "      <td>0</td>\n",
       "      <td>0</td>\n",
       "      <td>...</td>\n",
       "      <td>0</td>\n",
       "      <td>0</td>\n",
       "      <td>0</td>\n",
       "      <td>0</td>\n",
       "      <td>0</td>\n",
       "      <td>0</td>\n",
       "      <td>0</td>\n",
       "      <td>0</td>\n",
       "      <td>0</td>\n",
       "      <td>1</td>\n",
       "    </tr>\n",
       "    <tr>\n",
       "      <th>2</th>\n",
       "      <td>7</td>\n",
       "      <td>75.0</td>\n",
       "      <td>1</td>\n",
       "      <td>0</td>\n",
       "      <td>0</td>\n",
       "      <td>0</td>\n",
       "      <td>0</td>\n",
       "      <td>0</td>\n",
       "      <td>0</td>\n",
       "      <td>0</td>\n",
       "      <td>...</td>\n",
       "      <td>0</td>\n",
       "      <td>0</td>\n",
       "      <td>0</td>\n",
       "      <td>0</td>\n",
       "      <td>0</td>\n",
       "      <td>0</td>\n",
       "      <td>0</td>\n",
       "      <td>0</td>\n",
       "      <td>0</td>\n",
       "      <td>1</td>\n",
       "    </tr>\n",
       "    <tr>\n",
       "      <th>3</th>\n",
       "      <td>14</td>\n",
       "      <td>129.0</td>\n",
       "      <td>1</td>\n",
       "      <td>0</td>\n",
       "      <td>0</td>\n",
       "      <td>0</td>\n",
       "      <td>0</td>\n",
       "      <td>0</td>\n",
       "      <td>0</td>\n",
       "      <td>0</td>\n",
       "      <td>...</td>\n",
       "      <td>0</td>\n",
       "      <td>0</td>\n",
       "      <td>0</td>\n",
       "      <td>0</td>\n",
       "      <td>0</td>\n",
       "      <td>0</td>\n",
       "      <td>0</td>\n",
       "      <td>0</td>\n",
       "      <td>0</td>\n",
       "      <td>1</td>\n",
       "    </tr>\n",
       "    <tr>\n",
       "      <th>7</th>\n",
       "      <td>2</td>\n",
       "      <td>8.0</td>\n",
       "      <td>1</td>\n",
       "      <td>0</td>\n",
       "      <td>0</td>\n",
       "      <td>0</td>\n",
       "      <td>0</td>\n",
       "      <td>0</td>\n",
       "      <td>0</td>\n",
       "      <td>0</td>\n",
       "      <td>...</td>\n",
       "      <td>0</td>\n",
       "      <td>0</td>\n",
       "      <td>0</td>\n",
       "      <td>0</td>\n",
       "      <td>0</td>\n",
       "      <td>0</td>\n",
       "      <td>0</td>\n",
       "      <td>1</td>\n",
       "      <td>0</td>\n",
       "      <td>0</td>\n",
       "    </tr>\n",
       "    <tr>\n",
       "      <th>...</th>\n",
       "      <td>...</td>\n",
       "      <td>...</td>\n",
       "      <td>...</td>\n",
       "      <td>...</td>\n",
       "      <td>...</td>\n",
       "      <td>...</td>\n",
       "      <td>...</td>\n",
       "      <td>...</td>\n",
       "      <td>...</td>\n",
       "      <td>...</td>\n",
       "      <td>...</td>\n",
       "      <td>...</td>\n",
       "      <td>...</td>\n",
       "      <td>...</td>\n",
       "      <td>...</td>\n",
       "      <td>...</td>\n",
       "      <td>...</td>\n",
       "      <td>...</td>\n",
       "      <td>...</td>\n",
       "      <td>...</td>\n",
       "      <td>...</td>\n",
       "    </tr>\n",
       "    <tr>\n",
       "      <th>39022</th>\n",
       "      <td>12</td>\n",
       "      <td>45.0</td>\n",
       "      <td>1</td>\n",
       "      <td>0</td>\n",
       "      <td>0</td>\n",
       "      <td>0</td>\n",
       "      <td>0</td>\n",
       "      <td>0</td>\n",
       "      <td>0</td>\n",
       "      <td>0</td>\n",
       "      <td>...</td>\n",
       "      <td>0</td>\n",
       "      <td>0</td>\n",
       "      <td>0</td>\n",
       "      <td>0</td>\n",
       "      <td>0</td>\n",
       "      <td>0</td>\n",
       "      <td>1</td>\n",
       "      <td>0</td>\n",
       "      <td>0</td>\n",
       "      <td>0</td>\n",
       "    </tr>\n",
       "    <tr>\n",
       "      <th>39023</th>\n",
       "      <td>14</td>\n",
       "      <td>19.0</td>\n",
       "      <td>1</td>\n",
       "      <td>0</td>\n",
       "      <td>0</td>\n",
       "      <td>0</td>\n",
       "      <td>0</td>\n",
       "      <td>0</td>\n",
       "      <td>0</td>\n",
       "      <td>0</td>\n",
       "      <td>...</td>\n",
       "      <td>0</td>\n",
       "      <td>0</td>\n",
       "      <td>0</td>\n",
       "      <td>1</td>\n",
       "      <td>0</td>\n",
       "      <td>0</td>\n",
       "      <td>0</td>\n",
       "      <td>0</td>\n",
       "      <td>0</td>\n",
       "      <td>0</td>\n",
       "    </tr>\n",
       "    <tr>\n",
       "      <th>39024</th>\n",
       "      <td>11</td>\n",
       "      <td>45.0</td>\n",
       "      <td>1</td>\n",
       "      <td>0</td>\n",
       "      <td>0</td>\n",
       "      <td>0</td>\n",
       "      <td>0</td>\n",
       "      <td>0</td>\n",
       "      <td>0</td>\n",
       "      <td>0</td>\n",
       "      <td>...</td>\n",
       "      <td>0</td>\n",
       "      <td>0</td>\n",
       "      <td>0</td>\n",
       "      <td>0</td>\n",
       "      <td>0</td>\n",
       "      <td>0</td>\n",
       "      <td>1</td>\n",
       "      <td>0</td>\n",
       "      <td>0</td>\n",
       "      <td>0</td>\n",
       "    </tr>\n",
       "    <tr>\n",
       "      <th>39025</th>\n",
       "      <td>6</td>\n",
       "      <td>43.0</td>\n",
       "      <td>1</td>\n",
       "      <td>0</td>\n",
       "      <td>0</td>\n",
       "      <td>0</td>\n",
       "      <td>0</td>\n",
       "      <td>0</td>\n",
       "      <td>0</td>\n",
       "      <td>0</td>\n",
       "      <td>...</td>\n",
       "      <td>0</td>\n",
       "      <td>0</td>\n",
       "      <td>0</td>\n",
       "      <td>0</td>\n",
       "      <td>0</td>\n",
       "      <td>1</td>\n",
       "      <td>0</td>\n",
       "      <td>0</td>\n",
       "      <td>0</td>\n",
       "      <td>0</td>\n",
       "    </tr>\n",
       "    <tr>\n",
       "      <th>39026</th>\n",
       "      <td>1</td>\n",
       "      <td>2.0</td>\n",
       "      <td>1</td>\n",
       "      <td>0</td>\n",
       "      <td>0</td>\n",
       "      <td>0</td>\n",
       "      <td>0</td>\n",
       "      <td>0</td>\n",
       "      <td>0</td>\n",
       "      <td>0</td>\n",
       "      <td>...</td>\n",
       "      <td>0</td>\n",
       "      <td>0</td>\n",
       "      <td>0</td>\n",
       "      <td>0</td>\n",
       "      <td>0</td>\n",
       "      <td>0</td>\n",
       "      <td>1</td>\n",
       "      <td>0</td>\n",
       "      <td>0</td>\n",
       "      <td>0</td>\n",
       "    </tr>\n",
       "  </tbody>\n",
       "</table>\n",
       "<p>38660 rows × 80 columns</p>\n",
       "</div>"
      ],
      "text/plain": [
       "       nbre_operation  nbre_voy_reconstruc  Id_Agent_1.0  Id_Agent_2.0  \\\n",
       "0                   1                 39.0             1             0   \n",
       "1                   7                 65.0             1             0   \n",
       "2                   7                 75.0             1             0   \n",
       "3                  14                129.0             1             0   \n",
       "7                   2                  8.0             1             0   \n",
       "...               ...                  ...           ...           ...   \n",
       "39022              12                 45.0             1             0   \n",
       "39023              14                 19.0             1             0   \n",
       "39024              11                 45.0             1             0   \n",
       "39025               6                 43.0             1             0   \n",
       "39026               1                  2.0             1             0   \n",
       "\n",
       "       Id_Agent_3.0  Id_Agent_4.0  Id_Agent_5.0  Id_Agent_6.0  Id_Agent_7.0  \\\n",
       "0                 0             0             0             0             0   \n",
       "1                 0             0             0             0             0   \n",
       "2                 0             0             0             0             0   \n",
       "3                 0             0             0             0             0   \n",
       "7                 0             0             0             0             0   \n",
       "...             ...           ...           ...           ...           ...   \n",
       "39022             0             0             0             0             0   \n",
       "39023             0             0             0             0             0   \n",
       "39024             0             0             0             0             0   \n",
       "39025             0             0             0             0             0   \n",
       "39026             0             0             0             0             0   \n",
       "\n",
       "       Id_Agent_8.0  ...  Sous_Ligne_Thionville â Longuyon â Longwy  \\\n",
       "0                 0  ...                                              0   \n",
       "1                 0  ...                                              0   \n",
       "2                 0  ...                                              0   \n",
       "3                 0  ...                                              0   \n",
       "7                 0  ...                                              0   \n",
       "...             ...  ...                                            ...   \n",
       "39022             0  ...                                              0   \n",
       "39023             0  ...                                              0   \n",
       "39024             0  ...                                              0   \n",
       "39025             0  ...                                              0   \n",
       "39026             0  ...                                              0   \n",
       "\n",
       "       Sous_Ligne_Tram-train Thann Ã¢ÂÂ Mulhouse   \\\n",
       "0                                                 0   \n",
       "1                                                 0   \n",
       "2                                                 0   \n",
       "3                                                 0   \n",
       "7                                                 0   \n",
       "...                                             ...   \n",
       "39022                                             0   \n",
       "39023                                             0   \n",
       "39024                                             0   \n",
       "39025                                             0   \n",
       "39026                                             0   \n",
       "\n",
       "       Sous_Ligne_Wissembourg Ã¢ÂÂ Strasbourg   jour_semaine_0  \\\n",
       "0                                              0               1   \n",
       "1                                              0               0   \n",
       "2                                              0               0   \n",
       "3                                              0               0   \n",
       "7                                              0               0   \n",
       "...                                          ...             ...   \n",
       "39022                                          0               0   \n",
       "39023                                          0               1   \n",
       "39024                                          0               0   \n",
       "39025                                          0               0   \n",
       "39026                                          0               0   \n",
       "\n",
       "       jour_semaine_1  jour_semaine_2  jour_semaine_3  jour_semaine_4  \\\n",
       "0                   0               0               0               0   \n",
       "1                   0               0               0               0   \n",
       "2                   0               0               0               0   \n",
       "3                   0               0               0               0   \n",
       "7                   0               0               0               1   \n",
       "...               ...             ...             ...             ...   \n",
       "39022               0               0               1               0   \n",
       "39023               0               0               0               0   \n",
       "39024               0               0               1               0   \n",
       "39025               0               1               0               0   \n",
       "39026               0               0               1               0   \n",
       "\n",
       "       jour_semaine_5  jour_semaine_6  \n",
       "0                   0               0  \n",
       "1                   0               1  \n",
       "2                   0               1  \n",
       "3                   0               1  \n",
       "7                   0               0  \n",
       "...               ...             ...  \n",
       "39022               0               0  \n",
       "39023               0               0  \n",
       "39024               0               0  \n",
       "39025               0               0  \n",
       "39026               0               0  \n",
       "\n",
       "[38660 rows x 80 columns]"
      ]
     },
     "execution_count": 7,
     "metadata": {},
     "output_type": "execute_result"
    }
   ],
   "source": [
    "t = pd.DataFrame(total) \n",
    "for _c in t.select_dtypes(include=['object']).columns:\n",
    "    print(_c)\n",
    "    t[_c]  = pd.Categorical(t[_c])\n",
    "    T1 = pd.get_dummies(t)\n",
    "T1\n",
    "\n"
   ]
  },
  {
   "cell_type": "code",
   "execution_count": 9,
   "id": "a4396bd6",
   "metadata": {},
   "outputs": [],
   "source": [
    "from sklearn.preprocessing import StandardScaler\n",
    "from sklearn.preprocessing import RobustScaler\n",
    "#Normalisation de l'ensemble des données avec preprocesssing.StandardScaler\n",
    "T1[T1.columns] = pd.DataFrame(preprocessing.RobustScaler().fit_transform(T1))\n",
    "y = T1['nbre_operation']\n",
    "X = T1.drop(['nbre_operation'], axis=1)\n",
    "X_train, X_test, y_train, y_test = train_test_split(X, y, test_size = 0.2 , random_state = 789)\n"
   ]
  },
  {
   "cell_type": "code",
   "execution_count": 10,
   "id": "bc8b6dcc",
   "metadata": {},
   "outputs": [
    {
     "data": {
      "text/plain": [
       "nbre_voy_reconstruc    295\n",
       "Id_Agent_1.0           295\n",
       "Id_Agent_2.0           295\n",
       "Id_Agent_3.0           295\n",
       "Id_Agent_4.0           295\n",
       "                      ... \n",
       "jour_semaine_2         295\n",
       "jour_semaine_3         295\n",
       "jour_semaine_4         295\n",
       "jour_semaine_5         295\n",
       "jour_semaine_6         295\n",
       "Length: 79, dtype: int64"
      ]
     },
     "execution_count": 10,
     "metadata": {},
     "output_type": "execute_result"
    }
   ],
   "source": [
    "X_train.isna().sum()"
   ]
  },
  {
   "cell_type": "code",
   "execution_count": 11,
   "id": "d9df34a8",
   "metadata": {},
   "outputs": [],
   "source": [
    "X_train = X_train.dropna()\n",
    "y_train = y_train.dropna()"
   ]
  },
  {
   "cell_type": "code",
   "execution_count": 12,
   "id": "d7ca3493",
   "metadata": {},
   "outputs": [
    {
     "data": {
      "text/plain": [
       "(30633, 79)"
      ]
     },
     "execution_count": 12,
     "metadata": {},
     "output_type": "execute_result"
    }
   ],
   "source": [
    "X_train.shape"
   ]
  },
  {
   "cell_type": "markdown",
   "id": "0f1524c1",
   "metadata": {},
   "source": [
    "# REG POLY"
   ]
  },
  {
   "cell_type": "code",
   "execution_count": 13,
   "id": "5d254aa0",
   "metadata": {},
   "outputs": [],
   "source": [
    "X_test = X_test.dropna()\n",
    "y_test = y_test.dropna()\n"
   ]
  },
  {
   "cell_type": "code",
   "execution_count": 15,
   "id": "7ccdf3cf",
   "metadata": {},
   "outputs": [
    {
     "name": "stdout",
     "output_type": "stream",
     "text": [
      "linear model coeff (w): [ 2.70040326e-01 -4.42094432e+11 -4.42094432e+11 -4.42094432e+11\n",
      " -4.42094432e+11 -4.42094432e+11 -4.42094432e+11 -4.42094432e+11\n",
      " -4.42094432e+11 -4.42094432e+11 -4.42094432e+11 -4.42094432e+11\n",
      " -5.74915468e+11 -5.74915468e+11 -5.74915468e+11 -5.74915468e+11\n",
      " -5.74915468e+11 -5.74915468e+11 -5.74915468e+11 -5.74915468e+11\n",
      " -5.74915468e+11 -5.74915468e+11 -5.74915468e+11 -5.74915468e+11\n",
      " -5.74915468e+11 -5.74915468e+11 -5.74915468e+11 -5.74915468e+11\n",
      " -5.74915468e+11 -5.74915468e+11 -5.74915468e+11 -5.74915468e+11\n",
      " -5.74915468e+11 -5.74915468e+11 -5.74915468e+11 -5.74915468e+11\n",
      " -5.74915468e+11 -5.74915468e+11 -5.74915468e+11 -5.74915468e+11\n",
      " -5.74915468e+11 -5.74915468e+11 -5.74915468e+11 -5.74915468e+11\n",
      " -5.74915468e+11 -5.74915468e+11 -5.74915468e+11 -5.74915468e+11\n",
      " -5.74915468e+11 -5.74915468e+11 -5.74915468e+11 -5.74915468e+11\n",
      " -5.74915468e+11 -5.74915468e+11 -5.74915468e+11 -5.74915468e+11\n",
      " -5.74915468e+11 -5.74915468e+11 -5.74915468e+11 -5.74915468e+11\n",
      " -5.74915468e+11 -5.74915468e+11 -5.74915468e+11 -5.74915468e+11\n",
      " -5.74915468e+11 -5.74915468e+11 -5.74915468e+11 -5.74915468e+11\n",
      " -5.74915468e+11 -5.74915468e+11 -5.74915468e+11 -5.74915468e+11\n",
      " -2.29477666e+12 -2.29477666e+12 -2.29477666e+12 -2.29477666e+12\n",
      " -2.29477666e+12 -2.29477666e+12 -2.29477666e+12]\n",
      "linear model intercept (b): 2869692128560.034\n",
      "R-squared score (training): 0.376\n",
      "R-squared score (test): 0.374\n"
     ]
    }
   ],
   "source": [
    "from sklearn.linear_model import LinearRegression\n",
    "from sklearn.linear_model import Ridge\n",
    "from sklearn.preprocessing import PolynomialFeatures\n",
    "\n",
    "#scaler = preprocessing.StandardScaler().fi\n",
    "linreg = LinearRegression().fit(X_train, y_train)\n",
    "\n",
    "print('linear model coeff (w): {}'\n",
    "     .format(linreg.coef_))\n",
    "print('linear model intercept (b): {:.3f}'\n",
    "     .format(linreg.intercept_))\n",
    "print('R-squared score (training): {:.3f}'\n",
    "     .format(linreg.score(X_train, y_train)))\n",
    "print('R-squared score (test): {:.3f}'\n",
    "     .format(linreg.score(X_test, y_test)))"
   ]
  },
  {
   "cell_type": "markdown",
   "id": "ca023b7f",
   "metadata": {},
   "source": [
    "# KNN INTERACTIVE"
   ]
  },
  {
   "cell_type": "code",
   "execution_count": 16,
   "id": "cc6b383c",
   "metadata": {},
   "outputs": [
    {
     "data": {
      "application/vnd.jupyter.widget-view+json": {
       "model_id": "c9a00456c3e0422c8ba0dba13944a113",
       "version_major": 2,
       "version_minor": 0
      },
      "text/plain": [
       "interactive(children=(IntSlider(value=11, description='k', max=21, min=1, step=2), Dropdown(description='weigh…"
      ]
     },
     "metadata": {},
     "output_type": "display_data"
    }
   ],
   "source": [
    "import numpy as np\n",
    "import pandas as pd\n",
    "import matplotlib.pyplot as plt\n",
    "from sklearn.neighbors import KNeighborsClassifier\n",
    "from ipywidgets import interact\n",
    "from sklearn.preprocessing import StandardScaler\n",
    "from sklearn.datasets import make_blobs\n",
    "from sklearn.model_selection import train_test_split, cross_validate\n",
    "\n",
    "X,y=make_blobs(n_samples=1000, n_features=2, centers=2, cluster_std=5.6, random_state=42)\n",
    "\n",
    "@interact # scaling\n",
    "def knn_interactive(k=(1,21,2), weight=[\"distance\", \"uniform\"], p=(1.,2.5,0.5)):\n",
    "    model=KNeighborsClassifier(n_neighbors=k, weights=weight, p=p)\n",
    "    scaler=StandardScaler()\n",
    "    Xsc=scaler.fit_transform(X) # (x-x.mean())/x.std()\n",
    "    cv = cross_validate(model, Xsc, y, cv=10, return_train_score=True)\n",
    "    cv_f=pd.DataFrame({\"train\":cv[\"train_score\"], \"test\":cv[\"test_score\"]})\n",
    "    to_be_displayed=cv_f.agg([\"mean\",\"std\"]).T\n",
    "    display(to_be_displayed)"
   ]
  },
  {
   "cell_type": "markdown",
   "id": "69179d80",
   "metadata": {},
   "source": [
    "# KNN REGRESSOR"
   ]
  },
  {
   "cell_type": "code",
   "execution_count": 17,
   "id": "ebb83dbc",
   "metadata": {},
   "outputs": [],
   "source": [
    "from sklearn.neighbors import KNeighborsRegressor\n",
    "from sklearn.metrics import mean_squared_error as score\n",
    "\n",
    "clf = KNeighborsRegressor(n_neighbors=9)\n",
    "clf = clf.fit(X, y)"
   ]
  },
  {
   "cell_type": "code",
   "execution_count": 18,
   "id": "2597be83",
   "metadata": {},
   "outputs": [
    {
     "data": {
      "text/plain": [
       "0.11555555555555558"
      ]
     },
     "execution_count": 18,
     "metadata": {},
     "output_type": "execute_result"
    }
   ],
   "source": [
    "score(clf.predict(X), y)"
   ]
  },
  {
   "cell_type": "code",
   "execution_count": 19,
   "id": "185108e9",
   "metadata": {},
   "outputs": [
    {
     "data": {
      "text/plain": [
       "0.15432098765432098"
      ]
     },
     "execution_count": 19,
     "metadata": {},
     "output_type": "execute_result"
    }
   ],
   "source": [
    "#from sklearn.cross_validation import train_test_split\n",
    "from sklearn.model_selection import train_test_split\n",
    "from sklearn import datasets\n",
    "from sklearn import svm\n",
    "#X_train, X_test, y_train, y_test = train_test_split(X, y, test_size=0.3, random_state=sum(list(map(ord, 'shad'))))\n",
    "X_train, X_test, y_train, y_test = train_test_split(X, y, test_size=0.2, random_state=126)\n",
    "clf = clf.fit(X_train, y_train)\n",
    "score(clf.predict(X_test), y_test)\n"
   ]
  },
  {
   "cell_type": "code",
   "execution_count": 20,
   "id": "b1b7943f",
   "metadata": {},
   "outputs": [],
   "source": [
    "def get_scores(X_train, X_test, y_train, y_test, max_k=100, clf_class=KNeighborsRegressor):\n",
    "    for k in range(1, max_k):\n",
    "        yield score(y_test, clf_class(n_neighbors=k).fit(X_train, y_train).predict(X_test))\n",
    "\n",
    "scores = list(get_scores(X_train, X_test, y_train, y_test))"
   ]
  },
  {
   "cell_type": "code",
   "execution_count": 21,
   "id": "c2f1aa0b",
   "metadata": {},
   "outputs": [
    {
     "data": {
      "image/png": "[encoded data removed]",
      "text/plain": [
       "<Figure size 432x288 with 1 Axes>"
      ]
     },
     "metadata": {
      "needs_background": "light"
     },
     "output_type": "display_data"
    }
   ],
   "source": [
    "best_k = min(range(len(scores)), key=scores.__getitem__)\n",
    "start_point = best_k, scores[best_k]\n",
    "plt.annotate(\"k = {}\\nScore = {:.4}\".format(best_k, scores[best_k]),\n",
    "            xy=start_point,\n",
    "            xytext=(50, -10), textcoords='offset points',\n",
    "            size=20,\n",
    "            bbox=dict(boxstyle=\"round\", fc=\"1\"),\n",
    "            va=\"center\", ha=\"left\",\n",
    "            arrowprops=dict(facecolor='red', width=4,))\n",
    "plt.plot(scores, linewidth=3.0);"
   ]
  },
  {
   "cell_type": "code",
   "execution_count": 22,
   "id": "4704a3a7",
   "metadata": {},
   "outputs": [
    {
     "data": {
      "image/png": "[encoded data removed]",
      "text/plain": [
       "<Figure size 432x288 with 1 Axes>"
      ]
     },
     "metadata": {
      "needs_background": "light"
     },
     "output_type": "display_data"
    }
   ],
   "source": [
    "for idx in range(10):\n",
    "    parts = train_test_split(X, y, test_size=0.3, random_state=idx)\n",
    "    current_scores = list(get_scores(*parts))\n",
    "    plt.plot(current_scores, linewidth=3.0);"
   ]
  },
  {
   "cell_type": "code",
   "execution_count": 23,
   "id": "f453b7a2",
   "metadata": {},
   "outputs": [],
   "source": [
    "def get_scores(X_train, X_test, y_train, y_test, max_k=100, clf_class=KNeighborsRegressor):\n",
    "    for k in range(1, max_k):\n",
    "        yield score(y_test, clf_class(n_neighbors=k).fit(X_train, y_train).predict(X_test))\n",
    "\n",
    "scores = list(get_scores(X_train, X_test, y_train, y_test))"
   ]
  },
  {
   "cell_type": "code",
   "execution_count": 24,
   "id": "8cce09da",
   "metadata": {},
   "outputs": [
    {
     "name": "stdout",
     "output_type": "stream",
     "text": [
      "[0.245, 0.195, 0.17444444444444443, 0.17375, 0.16620000000000001, 0.1661111111111111, 0.1613265306122449, 0.1578125, 0.15432098765432098, 0.1516, 0.15004132231404957, 0.14954861111111112, 0.14769230769230768, 0.14510204081632655, 0.14242222222222226, 0.141875, 0.14219723183391003, 0.14162037037037037, 0.14018005540166203, 0.1418375, 0.14227891156462585, 0.143801652892562, 0.1408506616257089, 0.1419965277777778, 0.141568, 0.14136834319526628, 0.1420301783264746, 0.1425127551020408, 0.1415933412604043, 0.13988333333333333, 0.1395681581685744, 0.13955078125, 0.1400550964187328, 0.1405060553633218, 0.1402204081632653, 0.14001543209876544, 0.14047479912344776, 0.14146814404432134, 0.14180144641683104, 0.14186875000000002, 0.14174301011302798, 0.14149659863945577, 0.14211465657111952, 0.14274276859504134, 0.14311851851851853, 0.14360113421550094, 0.14344273426889995, 0.1425737847222222, 0.14243023740108288, 0.14208, 0.14281814686658978, 0.14321745562130178, 0.14297792808828766, 0.1428840877914952, 0.142899173553719, 0.14332110969387757, 0.14323484148968915, 0.14311087990487517, 0.14286124676817008, 0.14281944444444444, 0.1426686374630476, 0.1422359521331946, 0.14234567901234568, 0.142421875, 0.1427846153846154, 0.14283172635445365, 0.14281020271775452, 0.143407223183391, 0.14317790380172235, 0.14263673469387755, 0.14307875421543342, 0.14302179783950617, 0.14270501032088573, 0.14230916727538348, 0.1420248888888889, 0.14178410664819943, 0.14193793219767248, 0.14162639710716635, 0.1416559846178497, 0.14139296875, 0.14121399176954733, 0.1413831052944676, 0.14142255770068224, 0.14122661564625852, 0.14093979238754323, 0.14031909140075716, 0.13984542211652795, 0.13976110537190084, 0.13915477843706603, 0.13899999999999998, 0.13919454172201426, 0.13903473534971644, 0.13866285119667013, 0.13831484834766866, 0.13823767313019392, 0.1381179470486111, 0.13806887023063025, 0.13801541024573094, 0.13791960004081216]\n"
     ]
    }
   ],
   "source": [
    "print(scores)"
   ]
  },
  {
   "cell_type": "markdown",
   "id": "f8ff695f",
   "metadata": {},
   "source": [
    "La meilleure façon de saisir l'intuition derrière les \n",
    "divisions bloquées et chronologiques est de les visualiser.\n",
    "Les trois méthodes de division sont décrites dans le diagramme ci-dessous. \n",
    "L'axe horizontal est la taille de l'ensemble d'apprentissage tandis que\n",
    "l'axe vertical représente les itérations de validation croisée. \n",
    "Les plis utilisés pour la formation sont représentés en bleu et \n",
    "les plis utilisés pour la validation sont représentés en orange.\n",
    "Vous pouvez intuitivement interpréter l'axe horizontal comme une ligne de progression dans le temps puisque\n",
    "nous n'avons pas mélangé l'ensemble de données et maintenu l'ordre chronologique."
   ]
  },
  {
   "cell_type": "markdown",
   "id": "e03a910e",
   "metadata": {},
   "source": [
    "Timeseries cross validation: #Une version plus sophistiquée des ensembles d'entraînement/de test est\n",
    "    la validation croisée des séries chronologiques.\n",
    "    #Dans cette procédure, il existe une série d'ensembles de tests, chacun consistant en une seule observation.\n",
    "\n",
    "#L'ensemble d'apprentissage correspondant se compose uniquement d'observations\n",
    "qui se sont produites avant #l'observation qui forme l'ensemble de test. Ainsi\n",
    ", aucune observation future ne peut être utilisée dans la construction #de la prévision.\n",
    "\n",
    "Puisqu'il n'est pas possible d'obtenir une prévision fiable basée sur un petit ensemble d'apprentissage, #les premières observations ne sont pas considérées comme des ensembles de test."
   ]
  },
  {
   "cell_type": "code",
   "execution_count": 25,
   "id": "04650ac2",
   "metadata": {},
   "outputs": [
    {
     "name": "stdout",
     "output_type": "stream",
     "text": [
      "LR: 0.294969 (0.138992)\n",
      "LDA: 0.289623 (0.156791)\n",
      "KNN: 0.188570 (0.151087)\n"
     ]
    },
    {
     "data": {
      "image/png": "[encoded data removed]",
      "text/plain": [
       "<Figure size 432x288 with 1 Axes>"
      ]
     },
     "metadata": {
      "needs_background": "light"
     },
     "output_type": "display_data"
    }
   ],
   "source": [
    "from sklearn.linear_model import LogisticRegression\n",
    "from sklearn.discriminant_analysis import LinearDiscriminantAnalysis\n",
    "from sklearn.neighbors import KNeighborsClassifier\n",
    "from sklearn.model_selection import TimeSeriesSplit\n",
    "from sklearn.model_selection import cross_val_score\n",
    "#X_train, X_validation, y_train, y_validation = train_test_split(X, y, test_size=0.20, random_state=1)\n",
    "X_train, X_test, y_train, y_test = train_test_split(X, y, test_size=0.2, random_state=126)\n",
    "models = []\n",
    "models.append(('LR', LogisticRegression(solver=\"liblinear\", multi_class=\"ovr\")))\n",
    "models.append(('LDA', LinearDiscriminantAnalysis()))\n",
    "models.append(('KNN', KNeighborsClassifier()))\n",
    "# Evaluate each model in turn\n",
    "results = []\n",
    "names = []\n",
    "for name, model in models:\n",
    "    # TimeSeries Cross validation\n",
    "    tscv = TimeSeriesSplit(n_splits=10)\n",
    "    cv_results = cross_val_score(model, X_train, y_train, cv=tscv, scoring='r2')\n",
    "    results.append(cv_results)\n",
    "    names.append(name)\n",
    "    print('%s: %f (%f)' % (name, cv_results.mean(), cv_results.std()))\n",
    "    \n",
    "# Compare Algorithms\n",
    "plt.boxplot(results, labels=names)\n",
    "plt.title('Algorithm Comparison')\n",
    "plt.show()"
   ]
  },
  {
   "cell_type": "markdown",
   "id": "c061bf1a",
   "metadata": {},
   "source": [
    "# XGBOOST"
   ]
  },
  {
   "cell_type": "code",
   "execution_count": 26,
   "id": "57d8d7d2",
   "metadata": {},
   "outputs": [
    {
     "name": "stderr",
     "output_type": "stream",
     "text": [
      "C:\\Users\\INSA\\anaconda4\\INSA\\lib\\site-packages\\xgboost\\sklearn.py:1146: UserWarning: The use of label encoder in XGBClassifier is deprecated and will be removed in a future release. To remove this warning, do the following: 1) Pass option use_label_encoder=False when constructing XGBClassifier object; and 2) Encode your labels (y) as integers starting with 0, i.e. 0, 1, 2, ..., [num_class - 1].\n",
      "  warnings.warn(label_encoder_deprecation_msg, UserWarning)\n"
     ]
    },
    {
     "name": "stdout",
     "output_type": "stream",
     "text": [
      "[20:54:00] WARNING: C:/Users/Administrator/workspace/xgboost-win64_release_1.4.0/src/learner.cc:1095: Starting in XGBoost 1.3.0, the default evaluation metric used with the objective 'binary:logistic' was changed from 'error' to 'logloss'. Explicitly set eval_metric if you'd like to restore the old behavior.\n",
      "Accuracy=   0.904\n"
     ]
    }
   ],
   "source": [
    "\n",
    "from xgboost import XGBClassifier\n",
    "from sklearn.metrics import confusion_matrix\n",
    "from sklearn.ensemble import GradientBoostingRegressor\n",
    "from sklearn.metrics import accuracy_score\n",
    "X_train,X_test,y_train,y_test=train_test_split(X,y,random_state=50)\n",
    "xgb=XGBClassifier(colsample_bytree=0.8, learning_rate=0.4, max_depth=4)\n",
    "xgb.fit(X,y)\n",
    "pred=xgb.predict(X_test)\n",
    "print('Accuracy=  ',accuracy_score(y_test,pred))\n"
   ]
  },
  {
   "cell_type": "code",
   "execution_count": 27,
   "id": "9863d32e",
   "metadata": {},
   "outputs": [
    {
     "name": "stderr",
     "output_type": "stream",
     "text": [
      "C:\\Users\\INSA\\anaconda4\\INSA\\lib\\site-packages\\xgboost\\sklearn.py:1146: UserWarning: The use of label encoder in XGBClassifier is deprecated and will be removed in a future release. To remove this warning, do the following: 1) Pass option use_label_encoder=False when constructing XGBClassifier object; and 2) Encode your labels (y) as integers starting with 0, i.e. 0, 1, 2, ..., [num_class - 1].\n",
      "  warnings.warn(label_encoder_deprecation_msg, UserWarning)\n"
     ]
    },
    {
     "name": "stdout",
     "output_type": "stream",
     "text": [
      "[20:54:24] WARNING: C:/Users/Administrator/workspace/xgboost-win64_release_1.4.0/src/learner.cc:1095: Starting in XGBoost 1.3.0, the default evaluation metric used with the objective 'binary:logistic' was changed from 'error' to 'logloss'. Explicitly set eval_metric if you'd like to restore the old behavior.\n",
      "[20:54:24] WARNING: C:/Users/Administrator/workspace/xgboost-win64_release_1.4.0/src/learner.cc:1095: Starting in XGBoost 1.3.0, the default evaluation metric used with the objective 'binary:logistic' was changed from 'error' to 'logloss'. Explicitly set eval_metric if you'd like to restore the old behavior.\n",
      "[20:54:24] WARNING: C:/Users/Administrator/workspace/xgboost-win64_release_1.4.0/src/learner.cc:1095: Starting in XGBoost 1.3.0, the default evaluation metric used with the objective 'binary:logistic' was changed from 'error' to 'logloss'. Explicitly set eval_metric if you'd like to restore the old behavior.\n",
      "[20:54:25] WARNING: C:/Users/Administrator/workspace/xgboost-win64_release_1.4.0/src/learner.cc:1095: Starting in XGBoost 1.3.0, the default evaluation metric used with the objective 'binary:logistic' was changed from 'error' to 'logloss'. Explicitly set eval_metric if you'd like to restore the old behavior.\n",
      "[20:54:25] WARNING: C:/Users/Administrator/workspace/xgboost-win64_release_1.4.0/src/learner.cc:1095: Starting in XGBoost 1.3.0, the default evaluation metric used with the objective 'binary:logistic' was changed from 'error' to 'logloss'. Explicitly set eval_metric if you'd like to restore the old behavior.\n",
      "[20:54:25] WARNING: C:/Users/Administrator/workspace/xgboost-win64_release_1.4.0/src/learner.cc:1095: Starting in XGBoost 1.3.0, the default evaluation metric used with the objective 'binary:logistic' was changed from 'error' to 'logloss'. Explicitly set eval_metric if you'd like to restore the old behavior.\n",
      "[20:54:26] WARNING: C:/Users/Administrator/workspace/xgboost-win64_release_1.4.0/src/learner.cc:1095: Starting in XGBoost 1.3.0, the default evaluation metric used with the objective 'binary:logistic' was changed from 'error' to 'logloss'. Explicitly set eval_metric if you'd like to restore the old behavior.\n",
      "[20:54:26] WARNING: C:/Users/Administrator/workspace/xgboost-win64_release_1.4.0/src/learner.cc:1095: Starting in XGBoost 1.3.0, the default evaluation metric used with the objective 'binary:logistic' was changed from 'error' to 'logloss'. Explicitly set eval_metric if you'd like to restore the old behavior.\n",
      "[20:54:26] WARNING: C:/Users/Administrator/workspace/xgboost-win64_release_1.4.0/src/learner.cc:1095: Starting in XGBoost 1.3.0, the default evaluation metric used with the objective 'binary:logistic' was changed from 'error' to 'logloss'. Explicitly set eval_metric if you'd like to restore the old behavior.\n",
      "[20:54:27] WARNING: C:/Users/Administrator/workspace/xgboost-win64_release_1.4.0/src/learner.cc:1095: Starting in XGBoost 1.3.0, the default evaluation metric used with the objective 'binary:logistic' was changed from 'error' to 'logloss'. Explicitly set eval_metric if you'd like to restore the old behavior.\n",
      "cross_val_scores=   0.7939999999999999\n"
     ]
    },
    {
     "name": "stderr",
     "output_type": "stream",
     "text": [
      "C:\\Users\\INSA\\anaconda4\\INSA\\lib\\site-packages\\xgboost\\sklearn.py:1146: UserWarning: The use of label encoder in XGBClassifier is deprecated and will be removed in a future release. To remove this warning, do the following: 1) Pass option use_label_encoder=False when constructing XGBClassifier object; and 2) Encode your labels (y) as integers starting with 0, i.e. 0, 1, 2, ..., [num_class - 1].\n",
      "  warnings.warn(label_encoder_deprecation_msg, UserWarning)\n"
     ]
    },
    {
     "name": "stdout",
     "output_type": "stream",
     "text": [
      "[20:54:27] WARNING: C:/Users/Administrator/workspace/xgboost-win64_release_1.4.0/src/learner.cc:1095: Starting in XGBoost 1.3.0, the default evaluation metric used with the objective 'binary:logistic' was changed from 'error' to 'logloss'. Explicitly set eval_metric if you'd like to restore the old behavior.\n",
      "[20:54:27] WARNING: C:/Users/Administrator/workspace/xgboost-win64_release_1.4.0/src/learner.cc:1095: Starting in XGBoost 1.3.0, the default evaluation metric used with the objective 'binary:logistic' was changed from 'error' to 'logloss'. Explicitly set eval_metric if you'd like to restore the old behavior.\n",
      "[20:54:28] WARNING: C:/Users/Administrator/workspace/xgboost-win64_release_1.4.0/src/learner.cc:1095: Starting in XGBoost 1.3.0, the default evaluation metric used with the objective 'binary:logistic' was changed from 'error' to 'logloss'. Explicitly set eval_metric if you'd like to restore the old behavior.\n",
      "[20:54:28] WARNING: C:/Users/Administrator/workspace/xgboost-win64_release_1.4.0/src/learner.cc:1095: Starting in XGBoost 1.3.0, the default evaluation metric used with the objective 'binary:logistic' was changed from 'error' to 'logloss'. Explicitly set eval_metric if you'd like to restore the old behavior.\n",
      "[20:54:28] WARNING: C:/Users/Administrator/workspace/xgboost-win64_release_1.4.0/src/learner.cc:1095: Starting in XGBoost 1.3.0, the default evaluation metric used with the objective 'binary:logistic' was changed from 'error' to 'logloss'. Explicitly set eval_metric if you'd like to restore the old behavior.\n",
      "[20:54:28] WARNING: C:/Users/Administrator/workspace/xgboost-win64_release_1.4.0/src/learner.cc:1095: Starting in XGBoost 1.3.0, the default evaluation metric used with the objective 'binary:logistic' was changed from 'error' to 'logloss'. Explicitly set eval_metric if you'd like to restore the old behavior.\n",
      "[20:54:29] WARNING: C:/Users/Administrator/workspace/xgboost-win64_release_1.4.0/src/learner.cc:1095: Starting in XGBoost 1.3.0, the default evaluation metric used with the objective 'binary:logistic' was changed from 'error' to 'logloss'. Explicitly set eval_metric if you'd like to restore the old behavior.\n",
      "[20:54:29] WARNING: C:/Users/Administrator/workspace/xgboost-win64_release_1.4.0/src/learner.cc:1095: Starting in XGBoost 1.3.0, the default evaluation metric used with the objective 'binary:logistic' was changed from 'error' to 'logloss'. Explicitly set eval_metric if you'd like to restore the old behavior.\n",
      "[20:54:29] WARNING: C:/Users/Administrator/workspace/xgboost-win64_release_1.4.0/src/learner.cc:1095: Starting in XGBoost 1.3.0, the default evaluation metric used with the objective 'binary:logistic' was changed from 'error' to 'logloss'. Explicitly set eval_metric if you'd like to restore the old behavior.\n",
      "[20:54:29] WARNING: C:/Users/Administrator/workspace/xgboost-win64_release_1.4.0/src/learner.cc:1095: Starting in XGBoost 1.3.0, the default evaluation metric used with the objective 'binary:logistic' was changed from 'error' to 'logloss'. Explicitly set eval_metric if you'd like to restore the old behavior.\n"
     ]
    },
    {
     "name": "stderr",
     "output_type": "stream",
     "text": [
      "C:\\Users\\INSA\\anaconda4\\INSA\\lib\\site-packages\\xgboost\\sklearn.py:1146: UserWarning: The use of label encoder in XGBClassifier is deprecated and will be removed in a future release. To remove this warning, do the following: 1) Pass option use_label_encoder=False when constructing XGBClassifier object; and 2) Encode your labels (y) as integers starting with 0, i.e. 0, 1, 2, ..., [num_class - 1].\n",
      "  warnings.warn(label_encoder_deprecation_msg, UserWarning)\n",
      "C:\\Users\\INSA\\anaconda4\\INSA\\lib\\site-packages\\xgboost\\sklearn.py:1146: UserWarning: The use of label encoder in XGBClassifier is deprecated and will be removed in a future release. To remove this warning, do the following: 1) Pass option use_label_encoder=False when constructing XGBClassifier object; and 2) Encode your labels (y) as integers starting with 0, i.e. 0, 1, 2, ..., [num_class - 1].\n",
      "  warnings.warn(label_encoder_deprecation_msg, UserWarning)\n"
     ]
    },
    {
     "name": "stdout",
     "output_type": "stream",
     "text": [
      "[20:54:30] WARNING: C:/Users/Administrator/workspace/xgboost-win64_release_1.4.0/src/learner.cc:1095: Starting in XGBoost 1.3.0, the default evaluation metric used with the objective 'binary:logistic' was changed from 'error' to 'logloss'. Explicitly set eval_metric if you'd like to restore the old behavior.\n",
      "[20:54:30] WARNING: C:/Users/Administrator/workspace/xgboost-win64_release_1.4.0/src/learner.cc:1095: Starting in XGBoost 1.3.0, the default evaluation metric used with the objective 'binary:logistic' was changed from 'error' to 'logloss'. Explicitly set eval_metric if you'd like to restore the old behavior.\n"
     ]
    },
    {
     "name": "stderr",
     "output_type": "stream",
     "text": [
      "C:\\Users\\INSA\\anaconda4\\INSA\\lib\\site-packages\\xgboost\\sklearn.py:1146: UserWarning: The use of label encoder in XGBClassifier is deprecated and will be removed in a future release. To remove this warning, do the following: 1) Pass option use_label_encoder=False when constructing XGBClassifier object; and 2) Encode your labels (y) as integers starting with 0, i.e. 0, 1, 2, ..., [num_class - 1].\n",
      "  warnings.warn(label_encoder_deprecation_msg, UserWarning)\n",
      "C:\\Users\\INSA\\anaconda4\\INSA\\lib\\site-packages\\xgboost\\sklearn.py:1146: UserWarning: The use of label encoder in XGBClassifier is deprecated and will be removed in a future release. To remove this warning, do the following: 1) Pass option use_label_encoder=False when constructing XGBClassifier object; and 2) Encode your labels (y) as integers starting with 0, i.e. 0, 1, 2, ..., [num_class - 1].\n",
      "  warnings.warn(label_encoder_deprecation_msg, UserWarning)\n"
     ]
    },
    {
     "name": "stdout",
     "output_type": "stream",
     "text": [
      "[20:54:30] WARNING: C:/Users/Administrator/workspace/xgboost-win64_release_1.4.0/src/learner.cc:1095: Starting in XGBoost 1.3.0, the default evaluation metric used with the objective 'binary:logistic' was changed from 'error' to 'logloss'. Explicitly set eval_metric if you'd like to restore the old behavior.\n"
     ]
    },
    {
     "name": "stderr",
     "output_type": "stream",
     "text": [
      "C:\\Users\\INSA\\anaconda4\\INSA\\lib\\site-packages\\xgboost\\sklearn.py:1146: UserWarning: The use of label encoder in XGBClassifier is deprecated and will be removed in a future release. To remove this warning, do the following: 1) Pass option use_label_encoder=False when constructing XGBClassifier object; and 2) Encode your labels (y) as integers starting with 0, i.e. 0, 1, 2, ..., [num_class - 1].\n",
      "  warnings.warn(label_encoder_deprecation_msg, UserWarning)\n"
     ]
    },
    {
     "name": "stdout",
     "output_type": "stream",
     "text": [
      "[20:54:30] WARNING: C:/Users/Administrator/workspace/xgboost-win64_release_1.4.0/src/learner.cc:1095: Starting in XGBoost 1.3.0, the default evaluation metric used with the objective 'binary:logistic' was changed from 'error' to 'logloss'. Explicitly set eval_metric if you'd like to restore the old behavior.\n",
      "[20:54:30] WARNING: C:/Users/Administrator/workspace/xgboost-win64_release_1.4.0/src/learner.cc:1095: Starting in XGBoost 1.3.0, the default evaluation metric used with the objective 'binary:logistic' was changed from 'error' to 'logloss'. Explicitly set eval_metric if you'd like to restore the old behavior.\n",
      "cross_val_scores=   0.10800000000000001\n"
     ]
    }
   ],
   "source": [
    "#Cross validating (for classification) the model and checking the cross_val_score,model giving highest score will be choosen as final model.\n",
    "from sklearn.model_selection import cross_val_predict\n",
    "from sklearn.model_selection import cross_val_score\n",
    "xgb=XGBClassifier(colsample_bytree=0.8, learning_rate=0.4, max_depth=4)\n",
    "cvs=cross_val_score(xgb,X,y,scoring='accuracy',cv=10)\n",
    "print('cross_val_scores=  ',cvs.mean())\n",
    "y_pred=cross_val_predict(xgb,X,y,cv=10)\n",
    "conf_mat=confusion_matrix(y_pred,y)\n",
    "conf_mat\n",
    "\n",
    "#Cross validating(for regression) the model and checking the cross_val_score,model giving highest score will be choosen as final model\n",
    "gbm=GradientBoostingRegressor(max_depth=7,min_samples_leaf=1,n_estimators=100)\n",
    "cvs=cross_val_score(xgb,X,y,scoring='r2',cv=5)\n",
    "print('cross_val_scores=  ',cvs.mean())\n"
   ]
  },
  {
   "cell_type": "markdown",
   "id": "eeb76792",
   "metadata": {},
   "source": [
    "# Évaluation du modèle de classification par knn classifier"
   ]
  },
  {
   "cell_type": "code",
   "execution_count": 28,
   "id": "3fca6e9e",
   "metadata": {},
   "outputs": [
    {
     "data": {
      "text/html": [
       "<div>\n",
       "<style scoped>\n",
       "    .dataframe tbody tr th:only-of-type {\n",
       "        vertical-align: middle;\n",
       "    }\n",
       "\n",
       "    .dataframe tbody tr th {\n",
       "        vertical-align: top;\n",
       "    }\n",
       "\n",
       "    .dataframe thead th {\n",
       "        text-align: right;\n",
       "    }\n",
       "</style>\n",
       "<table border=\"1\" class=\"dataframe\">\n",
       "  <thead>\n",
       "    <tr style=\"text-align: right;\">\n",
       "      <th>Classe prédite</th>\n",
       "      <th>0</th>\n",
       "      <th>1</th>\n",
       "    </tr>\n",
       "    <tr>\n",
       "      <th>Classe réelle</th>\n",
       "      <th></th>\n",
       "      <th></th>\n",
       "    </tr>\n",
       "  </thead>\n",
       "  <tbody>\n",
       "    <tr>\n",
       "      <th>0</th>\n",
       "      <td>91</td>\n",
       "      <td>23</td>\n",
       "    </tr>\n",
       "    <tr>\n",
       "      <th>1</th>\n",
       "      <td>28</td>\n",
       "      <td>108</td>\n",
       "    </tr>\n",
       "  </tbody>\n",
       "</table>\n",
       "</div>"
      ],
      "text/plain": [
       "Classe prédite   0    1\n",
       "Classe réelle          \n",
       "0               91   23\n",
       "1               28  108"
      ]
     },
     "execution_count": 28,
     "metadata": {},
     "output_type": "execute_result"
    }
   ],
   "source": [
    "from sklearn.linear_model import LogisticRegression\n",
    "from sklearn.discriminant_analysis import LinearDiscriminantAnalysis\n",
    "from sklearn.neighbors import KNeighborsClassifier\n",
    "from sklearn.model_selection import TimeSeriesSplit\n",
    "from sklearn.model_selection import cross_val_score\n",
    "from sklearn.neighbors import KNeighborsClassifier\n",
    "\n",
    "knn = KNeighborsClassifier(n_neighbors=7, metric='minkowski')\n",
    "knn.fit(X_train, y_train)\n",
    "y_pred = knn.predict(X_test)\n",
    "pd.crosstab(y_test, y_pred, rownames=['Classe réelle'], colnames=['Classe prédite'])"
   ]
  },
  {
   "cell_type": "code",
   "execution_count": 29,
   "id": "dea298f5",
   "metadata": {},
   "outputs": [],
   "source": [
    "model.fit(X_train, y_train)\n",
    "predictions = model.predict(X_test)\n"
   ]
  },
  {
   "cell_type": "code",
   "execution_count": 30,
   "id": "5a1ba42b",
   "metadata": {},
   "outputs": [],
   "source": [
    "from sklearn.metrics import classification_report\n",
    "\n",
    "from sklearn.metrics import confusion_matrix"
   ]
  },
  {
   "cell_type": "code",
   "execution_count": 31,
   "id": "2d637e1b",
   "metadata": {},
   "outputs": [
    {
     "name": "stdout",
     "output_type": "stream",
     "text": [
      "              precision    recall  f1-score   support\n",
      "\n",
      "           0       0.75      0.81      0.78       114\n",
      "           1       0.83      0.78      0.80       136\n",
      "\n",
      "    accuracy                           0.79       250\n",
      "   macro avg       0.79      0.79      0.79       250\n",
      "weighted avg       0.79      0.79      0.79       250\n",
      "\n"
     ]
    }
   ],
   "source": [
    "print(classification_report(y_test, predictions))"
   ]
  },
  {
   "cell_type": "code",
   "execution_count": 32,
   "id": "1b8db901",
   "metadata": {},
   "outputs": [
    {
     "name": "stdout",
     "output_type": "stream",
     "text": [
      "[[ 92  22]\n",
      " [ 30 106]]\n"
     ]
    }
   ],
   "source": [
    "print(confusion_matrix(y_test, predictions))"
   ]
  },
  {
   "cell_type": "markdown",
   "id": "9bdd9b56",
   "metadata": {},
   "source": [
    "# Choosing An Optimal K Value Using the Elbow Method"
   ]
  },
  {
   "cell_type": "code",
   "execution_count": 33,
   "id": "cd071a3c",
   "metadata": {},
   "outputs": [],
   "source": [
    "error_rates = []"
   ]
  },
  {
   "cell_type": "code",
   "execution_count": 34,
   "id": "dc1c02a6",
   "metadata": {},
   "outputs": [],
   "source": [
    "for i in np.arange(1, 101):\n",
    "\n",
    "    new_model = KNeighborsClassifier(n_neighbors = i)\n",
    "\n",
    "    new_model.fit(X_train, y_train)\n",
    "\n",
    "    new_predictions = new_model.predict(X_test)\n",
    "\n",
    "    error_rates.append(np.mean(new_predictions != y_test))"
   ]
  },
  {
   "cell_type": "code",
   "execution_count": 35,
   "id": "430307d8",
   "metadata": {},
   "outputs": [
    {
     "data": {
      "text/plain": [
       "[<matplotlib.lines.Line2D at 0x22e1578cdc0>]"
      ]
     },
     "execution_count": 35,
     "metadata": {},
     "output_type": "execute_result"
    },
    {
     "data": {
      "image/png": "[encoded data removed]",
      "text/plain": [
       "<Figure size 432x288 with 1 Axes>"
      ]
     },
     "metadata": {
      "needs_background": "light"
     },
     "output_type": "display_data"
    }
   ],
   "source": [
    "plt.plot(error_rates)\n",
    "#Comme vous pouvez le voir, nos taux d'erreur ( avoisinent 0.18) ont tendance à être minimisés avec une valeur K d'environ 20.\n",
    "#Cela signifie que 21 est un choix approprié pour K qui équilibre à la fois la simplicité et le pouvoir prédictif."
   ]
  },
  {
   "cell_type": "markdown",
   "id": "cead4b96",
   "metadata": {},
   "source": [
    "# Création du nouveau classificateur et entraînement du modèle"
   ]
  },
  {
   "cell_type": "code",
   "execution_count": 36,
   "id": "7e5f17af",
   "metadata": {},
   "outputs": [
    {
     "data": {
      "text/plain": [
       "KNeighborsClassifier(metric='manhattan')"
      ]
     },
     "execution_count": 36,
     "metadata": {},
     "output_type": "execute_result"
    }
   ],
   "source": [
    "#Création du nouveau classificateur et entraînement du modèle\n",
    "knn_m = KNeighborsClassifier(n_neighbors=5, metric='manhattan')\n",
    "knn_m.fit(X_train, y_train)"
   ]
  },
  {
   "cell_type": "code",
   "execution_count": 37,
   "id": "6d62ee05",
   "metadata": {},
   "outputs": [
    {
     "data": {
      "text/plain": [
       "(0.796, 0.792)"
      ]
     },
     "execution_count": 37,
     "metadata": {},
     "output_type": "execute_result"
    }
   ],
   "source": [
    "#Score du modèle utilisant la distance de Minkowski\n",
    "score_minkowski = knn.score(X_test, y_test)\n",
    "\n",
    "#Score du modèle utilisant la distance de Manhattan\n",
    "score_manhattan = knn_m.score(X_test, y_test)\n",
    "\n",
    "score_minkowski, score_manhattan"
   ]
  },
  {
   "cell_type": "code",
   "execution_count": 38,
   "id": "f1046030",
   "metadata": {},
   "outputs": [],
   "source": [
    "score_minko = []\n",
    "score_man = []\n",
    "score_cheb = []\n",
    "\n",
    "for k in range(1, 50):\n",
    "    knn = KNeighborsClassifier(n_neighbors=k)\n",
    "    knn.fit(X_train, y_train)\n",
    "    score_minko.append(knn.score(X_test, y_test))\n",
    "\n",
    "for k in range(1, 50):\n",
    "    knn = KNeighborsClassifier(n_neighbors=k, metric='manhattan')\n",
    "    knn.fit(X_train, y_train)\n",
    "    score_man.append(knn.score(X_test, y_test))\n",
    "    \n",
    "for k in range(1, 50):\n",
    "    knn = KNeighborsClassifier(n_neighbors=k, metric='chebyshev')\n",
    "    knn.fit(X_train, y_train)\n",
    "    score_cheb.append(knn.score(X_test, y_test))"
   ]
  },
  {
   "cell_type": "code",
   "execution_count": 39,
   "id": "15d15f41",
   "metadata": {},
   "outputs": [
    {
     "data": {
      "image/png": "[encoded data removed]",
      "text/plain": [
       "<Figure size 432x288 with 1 Axes>"
      ]
     },
     "metadata": {
      "needs_background": "light"
     },
     "output_type": "display_data"
    }
   ],
   "source": [
    "import matplotlib.pyplot as plt\n",
    "%matplotlib inline\n",
    "\n",
    "plt.plot(range(1, 50), score_minko, color='blue', linestyle='dashed', lw=2, label='Minkowski')\n",
    "plt.plot(range(1, 50), score_man, color='orange', linestyle='dashed', lw=2, label='Manhattan')\n",
    "plt.plot(range(1, 50), score_cheb, color='red', linestyle='dashed', lw=2, label='Chebyshev')\n",
    "plt.title('Score - valeur de K')  \n",
    "plt.xlabel('Valeur de K')  \n",
    "plt.ylabel('Accuracy') \n",
    "plt.legend();"
   ]
  },
  {
   "cell_type": "code",
   "execution_count": 40,
   "id": "0ba2a1ef",
   "metadata": {},
   "outputs": [
    {
     "data": {
      "text/plain": [
       "KNeighborsClassifier(metric='manhattan', n_neighbors=33)"
      ]
     },
     "execution_count": 40,
     "metadata": {},
     "output_type": "execute_result"
    }
   ],
   "source": [
    "#Création du nouveau classificateur et entraînement du modèle\n",
    "knn_m = KNeighborsClassifier(n_neighbors=33, metric='manhattan')\n",
    "knn_m.fit(X_train, y_train)"
   ]
  },
  {
   "cell_type": "code",
   "execution_count": 41,
   "id": "2e4691aa",
   "metadata": {},
   "outputs": [
    {
     "data": {
      "text/plain": [
       "(0.788, 0.796)"
      ]
     },
     "execution_count": 41,
     "metadata": {},
     "output_type": "execute_result"
    }
   ],
   "source": [
    "#Score du modèle utilisant la distance de Minkowski\n",
    "score_minkowski = knn.score(X_test, y_test)\n",
    "\n",
    "#Score du modèle utilisant la distance de Manhattan\n",
    "score_manhattan = knn_m.score(X_test, y_test)\n",
    "score_minkowski, score_manhattan\n"
   ]
  },
  {
   "cell_type": "code",
   "execution_count": 43,
   "id": "6f35dd25",
   "metadata": {},
   "outputs": [
    {
     "data": {
      "text/plain": [
       "KNeighborsClassifier(metric='manhattan', n_neighbors=45)"
      ]
     },
     "execution_count": 43,
     "metadata": {},
     "output_type": "execute_result"
    }
   ],
   "source": [
    "#Création du nouveau classificateur et entraînement du modèle\n",
    "knn_m = KNeighborsClassifier(n_neighbors=45, metric='manhattan')\n",
    "knn_m.fit(X_train, y_train)\n"
   ]
  },
  {
   "cell_type": "code",
   "execution_count": 44,
   "id": "b3d5d1af",
   "metadata": {},
   "outputs": [
    {
     "data": {
      "text/plain": [
       "(0.788, 0.784)"
      ]
     },
     "execution_count": 44,
     "metadata": {},
     "output_type": "execute_result"
    }
   ],
   "source": [
    "#Score du modèle utilisant la distance de Minkowski\n",
    "score_minkowski = knn.score(X_test, y_test)\n",
    "\n",
    "#Score du modèle utilisant la distance de Manhattan\n",
    "score_manhattan = knn_m.score(X_test, y_test)\n",
    "score_minkowski, score_manhattan\n"
   ]
  },
  {
   "cell_type": "markdown",
   "id": "50a014cc",
   "metadata": {},
   "source": [
    "### KNN 3 D"
   ]
  },
  {
   "cell_type": "code",
   "execution_count": 54,
   "id": "0003ec4c",
   "metadata": {},
   "outputs": [],
   "source": [
    "import pandas as pd # for data manipulation\n",
    "import numpy as np # for data manipulation\n",
    "\n",
    "from sklearn.model_selection import train_test_split # for splitting the data into train and test samples\n",
    "from sklearn.metrics import classification_report # for model evaluation metrics\n",
    "from sklearn.preprocessing import MinMaxScaler # for feature scaling\n",
    "from sklearn.preprocessing import OrdinalEncoder # to encode categorical variables\n",
    "from sklearn.neighbors import KNeighborsClassifier # for KNN classification\n",
    "from sklearn.neighbors import KNeighborsRegressor # for KNN regression\n",
    "\n",
    "import matplotlib.pyplot as plt # for data visualization\n",
    "import plotly.express as px # for data visualization"
   ]
  },
  {
   "cell_type": "code",
   "execution_count": null,
   "id": "182d9137",
   "metadata": {},
   "outputs": [],
   "source": [
    "# Create a 3D scatter plot\n",
    "fig = px.scatter_3d(total, x=total['Id_Agent'], y=total['nbre_voy_reconstruc'], z=total['jour_semaine'],\n",
    "\n",
    "                    color=total['Id_Agent'],\n",
    "                    color_discrete_sequence=['#636EFA','#EF553B','#00CC96'], \n",
    "                    hover_data=[ 'nbre_operation'],\n",
    "                    height=900, width=900\n",
    "                   )\n",
    "\n",
    "# Update chart looks\n",
    "fig.update_layout(#title_text=\"Scatter 3D Plot\",\n",
    "                  showlegend=True,\n",
    "                  legend=dict(orientation=\"h\", yanchor=\"top\", y=1, xanchor=\"center\", x=0.5),\n",
    "                  scene_camera=dict(up=dict(x=0, y=0, z=1), \n",
    "                                        center=dict(x=0, y=0, z=-0.2),\n",
    "                                        eye=dict(x=-1.5, y=1.5, z=0.5)),\n",
    "                                        margin=dict(l=0, r=0, b=0, t=0),\n",
    "                  scene = dict(xaxis=dict(backgroundcolor='white',\n",
    "                                          color='black',\n",
    "                                          gridcolor='#f0f0f0',\n",
    "                                          title_font=dict(size=10),\n",
    "                                          tickfont=dict(size=10),\n",
    "                                          dtick=0.01,\n",
    "                                         ),\n",
    "                               yaxis=dict(backgroundcolor='white',\n",
    "                                          color='black',\n",
    "                                          gridcolor='#f0f0f0',\n",
    "                                          title_font=dict(size=10),\n",
    "                                          tickfont=dict(size=10),\n",
    "                                          dtick=0.01,\n",
    "                                          ),\n",
    "                               zaxis=dict(backgroundcolor='lightgrey',\n",
    "                                          color='black', \n",
    "                                          gridcolor='#f0f0f0',\n",
    "                                          title_font=dict(size=10),\n",
    "                                          tickfont=dict(size=10),\n",
    "                                          dtick=5\n",
    "                                         )))\n",
    "\n",
    "# Update marker size\n",
    "fig.update_traces(marker=dict(size=2))\n",
    "\n",
    "plt.show()"
   ]
  },
  {
   "cell_type": "code",
   "execution_count": null,
   "id": "fe805eb9",
   "metadata": {},
   "outputs": [],
   "source": []
  },
  {
   "cell_type": "code",
   "execution_count": null,
   "id": "433a8828",
   "metadata": {},
   "outputs": [],
   "source": []
  },
  {
   "cell_type": "code",
   "execution_count": null,
   "id": "a10b2162",
   "metadata": {},
   "outputs": [],
   "source": []
  }
 ],
 "metadata": {
  "kernelspec": {
   "display_name": "Python 3",
   "language": "python",
   "name": "python3"
  },
  "language_info": {
   "codemirror_mode": {
    "name": "ipython",
    "version": 3
   },
   "file_extension": ".py",
   "mimetype": "text/x-python",
   "name": "python",
   "nbconvert_exporter": "python",
   "pygments_lexer": "ipython3",
   "version": "3.8.10"
  }
 },
 "nbformat": 4,
 "nbformat_minor": 5
}
